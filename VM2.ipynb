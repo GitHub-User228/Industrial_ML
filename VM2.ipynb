{
 "cells": [
  {
   "cell_type": "code",
   "execution_count": 2,
   "metadata": {
    "ExecuteTime": {
     "end_time": "2023-10-04T05:59:50.596967900Z",
     "start_time": "2023-10-04T05:59:50.581341400Z"
    }
   },
   "outputs": [],
   "source": [
    "import os\n",
    "import numpy as np\n",
    "import pandas as pd\n",
    "\n",
    "import xgboost as xgb\n",
    "\n",
    "import optuna\n",
    "\n",
    "from src.helpers import get_project_dir\n",
    "from src.functions_and_methods import grid_search, custom_score\n",
    "\n",
    "import warnings\n",
    "warnings.filterwarnings(\"ignore\")"
   ]
  },
  {
   "cell_type": "code",
   "execution_count": 3,
   "metadata": {
    "ExecuteTime": {
     "end_time": "2023-10-04T06:00:10.022298500Z",
     "start_time": "2023-10-04T06:00:09.975405600Z"
    }
   },
   "outputs": [],
   "source": [
    "feats = ['lat',\n",
    " 'lon',\n",
    " 'hour',\n",
    " 'is_working_day',\n",
    " 'is_day',\n",
    " 'weekday',\n",
    " 'is_evening',\n",
    " 'is_weekend',\n",
    " 'is_night',\n",
    " 'year',\n",
    " 'month',\n",
    " 'day',\n",
    " 'is_morning']\n",
    "target = 'count'"
   ]
  },
  {
   "cell_type": "code",
   "execution_count": 4,
   "metadata": {
    "ExecuteTime": {
     "end_time": "2023-10-04T06:00:09.965661Z",
     "start_time": "2023-10-04T05:59:52.877106Z"
    }
   },
   "outputs": [],
   "source": [
    "df = pd.read_csv(os.path.join(get_project_dir(), 'data/d2/train_data3.csv'))\n",
    "df_v = pd.read_csv(os.path.join(get_project_dir(), 'data/d2/val_data3.csv'))\n",
    "df_t = pd.read_csv(os.path.join(get_project_dir(), 'data/d2/test_data3.csv'))"
   ]
  },
  {
   "cell_type": "markdown",
   "metadata": {},
   "source": [
    "# Grid Search"
   ]
  },
  {
   "cell_type": "code",
   "execution_count": 9,
   "metadata": {},
   "outputs": [],
   "source": [
    "model = xgb.XGBRegressor\n",
    "scorer = custom_score"
   ]
  },
  {
   "cell_type": "code",
   "execution_count": 9,
   "metadata": {},
   "outputs": [],
   "source": [
    "params = {'learning_rate': np.logspace(-3, 0, 4),\n",
    "        'lambda': np.logspace(-3, 1, 5),\n",
    "        'alpha': np.logspace(-3, 1, 5)}\n",
    "default_params = {'random_state': 42,\n",
    "                  'max_depth': 8,\n",
    "                  'n_estimators': 800, \n",
    "                  'objective': 'reg:tweedie',\n",
    "                  'n_jobs': -1}"
   ]
  },
  {
   "cell_type": "code",
   "execution_count": 10,
   "metadata": {
    "scrolled": true
   },
   "outputs": [
    {
     "data": {
      "application/vnd.jupyter.widget-view+json": {
       "model_id": "95823761768e48488d23173cb1cd9d58",
       "version_major": 2,
       "version_minor": 0
      },
      "text/plain": [
       "  0%|          | 0/100 [00:00<?, ?it/s]"
      ]
     },
     "metadata": {},
     "output_type": "display_data"
    },
    {
     "name": "stdout",
     "output_type": "stream",
     "text": [
      "Iteration: 0, Set: {'learning_rate': 0.001, 'lambda': 0.001, 'alpha': 0.001} Score: 2.4467649908195925\n",
      "Iteration: 1, Set: {'learning_rate': 0.001, 'lambda': 0.001, 'alpha': 0.01} Score: 2.4464663999771723\n",
      "Iteration: 2, Set: {'learning_rate': 0.001, 'lambda': 0.001, 'alpha': 0.09999999999999999} Score: 2.446796944798728\n",
      "Iteration: 3, Set: {'learning_rate': 0.001, 'lambda': 0.001, 'alpha': 1.0} Score: 2.446893766108442\n",
      "Iteration: 4, Set: {'learning_rate': 0.001, 'lambda': 0.001, 'alpha': 10.0} Score: 2.4481982139082157\n",
      "Iteration: 5, Set: {'learning_rate': 0.001, 'lambda': 0.01, 'alpha': 0.001} Score: 2.446821140085776\n",
      "Iteration: 6, Set: {'learning_rate': 0.001, 'lambda': 0.01, 'alpha': 0.01} Score: 2.446464221380068\n",
      "Iteration: 7, Set: {'learning_rate': 0.001, 'lambda': 0.01, 'alpha': 0.09999999999999999} Score: 2.4467812005924627\n",
      "Iteration: 8, Set: {'learning_rate': 0.001, 'lambda': 0.01, 'alpha': 1.0} Score: 2.4468967236094117\n",
      "Iteration: 9, Set: {'learning_rate': 0.001, 'lambda': 0.01, 'alpha': 10.0} Score: 2.448198003547249\n",
      "Iteration: 10, Set: {'learning_rate': 0.001, 'lambda': 0.09999999999999999, 'alpha': 0.001} Score: 2.446921069143615\n",
      "Iteration: 11, Set: {'learning_rate': 0.001, 'lambda': 0.09999999999999999, 'alpha': 0.01} Score: 2.446752074651853\n",
      "Iteration: 12, Set: {'learning_rate': 0.001, 'lambda': 0.09999999999999999, 'alpha': 0.09999999999999999} Score: 2.446566811064398\n",
      "Iteration: 13, Set: {'learning_rate': 0.001, 'lambda': 0.09999999999999999, 'alpha': 1.0} Score: 2.4471532510282485\n",
      "Iteration: 14, Set: {'learning_rate': 0.001, 'lambda': 0.09999999999999999, 'alpha': 10.0} Score: 2.448198150972331\n",
      "Iteration: 15, Set: {'learning_rate': 0.001, 'lambda': 1.0, 'alpha': 0.001} Score: 2.447152818461661\n",
      "Iteration: 16, Set: {'learning_rate': 0.001, 'lambda': 1.0, 'alpha': 0.01} Score: 2.446959505004396\n",
      "Iteration: 17, Set: {'learning_rate': 0.001, 'lambda': 1.0, 'alpha': 0.09999999999999999} Score: 2.4471664691922954\n",
      "Iteration: 18, Set: {'learning_rate': 0.001, 'lambda': 1.0, 'alpha': 1.0} Score: 2.447244964986266\n",
      "Iteration: 19, Set: {'learning_rate': 0.001, 'lambda': 1.0, 'alpha': 10.0} Score: 2.4479211323525543\n",
      "Iteration: 20, Set: {'learning_rate': 0.001, 'lambda': 10.0, 'alpha': 0.001} Score: 2.4477461707360706\n",
      "Iteration: 21, Set: {'learning_rate': 0.001, 'lambda': 10.0, 'alpha': 0.01} Score: 2.447746564963259\n",
      "Iteration: 22, Set: {'learning_rate': 0.001, 'lambda': 10.0, 'alpha': 0.09999999999999999} Score: 2.4480225093529526\n",
      "Iteration: 23, Set: {'learning_rate': 0.001, 'lambda': 10.0, 'alpha': 1.0} Score: 2.4481715261122194\n",
      "Iteration: 24, Set: {'learning_rate': 0.001, 'lambda': 10.0, 'alpha': 10.0} Score: 2.4488627782235484\n",
      "Iteration: 25, Set: {'learning_rate': 0.01, 'lambda': 0.001, 'alpha': 0.001} Score: 1.301045868866012\n",
      "Iteration: 26, Set: {'learning_rate': 0.01, 'lambda': 0.001, 'alpha': 0.01} Score: 1.270328546723156\n",
      "Iteration: 27, Set: {'learning_rate': 0.01, 'lambda': 0.001, 'alpha': 0.09999999999999999} "
     ]
    },
    {
     "ename": "KeyboardInterrupt",
     "evalue": "",
     "output_type": "error",
     "traceback": [
      "\u001b[0;31m---------------------------------------------------------------------------\u001b[0m",
      "\u001b[0;31mKeyboardInterrupt\u001b[0m                         Traceback (most recent call last)",
      "\u001b[0;32m/tmp/ipykernel_3702/3235804946.py\u001b[0m in \u001b[0;36m<module>\u001b[0;34m\u001b[0m\n\u001b[0;32m----> 1\u001b[0;31m \u001b[0mbest_set\u001b[0m\u001b[0;34m,\u001b[0m \u001b[0mbest_score\u001b[0m \u001b[0;34m=\u001b[0m \u001b[0mgrid_search\u001b[0m\u001b[0;34m(\u001b[0m\u001b[0mdf\u001b[0m\u001b[0;34m,\u001b[0m \u001b[0mdf_v\u001b[0m\u001b[0;34m,\u001b[0m \u001b[0mfeats\u001b[0m\u001b[0;34m,\u001b[0m \u001b[0mtarget\u001b[0m\u001b[0;34m,\u001b[0m \u001b[0mmodel\u001b[0m\u001b[0;34m,\u001b[0m \u001b[0mparams\u001b[0m\u001b[0;34m,\u001b[0m \u001b[0mscorer\u001b[0m\u001b[0;34m,\u001b[0m \u001b[0mdefault_params\u001b[0m\u001b[0;34m)\u001b[0m\u001b[0;34m\u001b[0m\u001b[0;34m\u001b[0m\u001b[0m\n\u001b[0m",
      "\u001b[0;32m~/src/functions_and_methods.py\u001b[0m in \u001b[0;36mgrid_search\u001b[0;34m(df, df_v, feats, target, model, params, scorer, default_params)\u001b[0m\n\u001b[1;32m    202\u001b[0m         \u001b[0mprint\u001b[0m\u001b[0;34m(\u001b[0m\u001b[0;34mf'Iteration: {it}, Set: {comb}'\u001b[0m\u001b[0;34m,\u001b[0m \u001b[0mend\u001b[0m\u001b[0;34m=\u001b[0m\u001b[0;34m' '\u001b[0m\u001b[0;34m)\u001b[0m\u001b[0;34m\u001b[0m\u001b[0;34m\u001b[0m\u001b[0m\n\u001b[1;32m    203\u001b[0m         \u001b[0mmodel_\u001b[0m \u001b[0;34m=\u001b[0m \u001b[0mmodel\u001b[0m\u001b[0;34m(\u001b[0m\u001b[0;34m**\u001b[0m\u001b[0mcomb\u001b[0m\u001b[0;34m,\u001b[0m \u001b[0;34m**\u001b[0m\u001b[0mdefault_params\u001b[0m\u001b[0;34m)\u001b[0m\u001b[0;34m\u001b[0m\u001b[0;34m\u001b[0m\u001b[0m\n\u001b[0;32m--> 204\u001b[0;31m         \u001b[0mmodel_\u001b[0m\u001b[0;34m.\u001b[0m\u001b[0mfit\u001b[0m\u001b[0;34m(\u001b[0m\u001b[0mdf\u001b[0m\u001b[0;34m[\u001b[0m\u001b[0mfeats\u001b[0m\u001b[0;34m]\u001b[0m\u001b[0;34m,\u001b[0m \u001b[0mdf\u001b[0m\u001b[0;34m[\u001b[0m\u001b[0mtarget\u001b[0m\u001b[0;34m]\u001b[0m\u001b[0;34m)\u001b[0m\u001b[0;34m\u001b[0m\u001b[0;34m\u001b[0m\u001b[0m\n\u001b[0m\u001b[1;32m    205\u001b[0m         \u001b[0mpred\u001b[0m \u001b[0;34m=\u001b[0m \u001b[0mmodel_\u001b[0m\u001b[0;34m.\u001b[0m\u001b[0mpredict\u001b[0m\u001b[0;34m(\u001b[0m\u001b[0mdf_v\u001b[0m\u001b[0;34m[\u001b[0m\u001b[0mfeats\u001b[0m\u001b[0;34m]\u001b[0m\u001b[0;34m)\u001b[0m\u001b[0;34m\u001b[0m\u001b[0;34m\u001b[0m\u001b[0m\n\u001b[1;32m    206\u001b[0m         \u001b[0mscore\u001b[0m \u001b[0;34m=\u001b[0m \u001b[0mscorer\u001b[0m\u001b[0;34m(\u001b[0m\u001b[0my_true\u001b[0m\u001b[0;34m=\u001b[0m\u001b[0mdf_v\u001b[0m\u001b[0;34m[\u001b[0m\u001b[0mtarget\u001b[0m\u001b[0;34m]\u001b[0m\u001b[0;34m,\u001b[0m \u001b[0my_pred\u001b[0m\u001b[0;34m=\u001b[0m\u001b[0mpred\u001b[0m\u001b[0;34m)\u001b[0m\u001b[0;34m\u001b[0m\u001b[0;34m\u001b[0m\u001b[0m\n",
      "\u001b[0;32m/usr/local/lib/python3.10/dist-packages/xgboost/core.py\u001b[0m in \u001b[0;36minner_f\u001b[0;34m(*args, **kwargs)\u001b[0m\n\u001b[1;32m    727\u001b[0m             \u001b[0;32mfor\u001b[0m \u001b[0mk\u001b[0m\u001b[0;34m,\u001b[0m \u001b[0marg\u001b[0m \u001b[0;32min\u001b[0m \u001b[0mzip\u001b[0m\u001b[0;34m(\u001b[0m\u001b[0msig\u001b[0m\u001b[0;34m.\u001b[0m\u001b[0mparameters\u001b[0m\u001b[0;34m,\u001b[0m \u001b[0margs\u001b[0m\u001b[0;34m)\u001b[0m\u001b[0;34m:\u001b[0m\u001b[0;34m\u001b[0m\u001b[0;34m\u001b[0m\u001b[0m\n\u001b[1;32m    728\u001b[0m                 \u001b[0mkwargs\u001b[0m\u001b[0;34m[\u001b[0m\u001b[0mk\u001b[0m\u001b[0;34m]\u001b[0m \u001b[0;34m=\u001b[0m \u001b[0marg\u001b[0m\u001b[0;34m\u001b[0m\u001b[0;34m\u001b[0m\u001b[0m\n\u001b[0;32m--> 729\u001b[0;31m             \u001b[0;32mreturn\u001b[0m \u001b[0mfunc\u001b[0m\u001b[0;34m(\u001b[0m\u001b[0;34m**\u001b[0m\u001b[0mkwargs\u001b[0m\u001b[0;34m)\u001b[0m\u001b[0;34m\u001b[0m\u001b[0;34m\u001b[0m\u001b[0m\n\u001b[0m\u001b[1;32m    730\u001b[0m \u001b[0;34m\u001b[0m\u001b[0m\n\u001b[1;32m    731\u001b[0m         \u001b[0;32mreturn\u001b[0m \u001b[0minner_f\u001b[0m\u001b[0;34m\u001b[0m\u001b[0;34m\u001b[0m\u001b[0m\n",
      "\u001b[0;32m/usr/local/lib/python3.10/dist-packages/xgboost/sklearn.py\u001b[0m in \u001b[0;36mfit\u001b[0;34m(self, X, y, sample_weight, base_margin, eval_set, eval_metric, early_stopping_rounds, verbose, xgb_model, sample_weight_eval_set, base_margin_eval_set, feature_weights, callbacks)\u001b[0m\n\u001b[1;32m   1084\u001b[0m                 \u001b[0mxgb_model\u001b[0m\u001b[0;34m,\u001b[0m \u001b[0meval_metric\u001b[0m\u001b[0;34m,\u001b[0m \u001b[0mparams\u001b[0m\u001b[0;34m,\u001b[0m \u001b[0mearly_stopping_rounds\u001b[0m\u001b[0;34m,\u001b[0m \u001b[0mcallbacks\u001b[0m\u001b[0;34m\u001b[0m\u001b[0;34m\u001b[0m\u001b[0m\n\u001b[1;32m   1085\u001b[0m             )\n\u001b[0;32m-> 1086\u001b[0;31m             self._Booster = train(\n\u001b[0m\u001b[1;32m   1087\u001b[0m                 \u001b[0mparams\u001b[0m\u001b[0;34m,\u001b[0m\u001b[0;34m\u001b[0m\u001b[0;34m\u001b[0m\u001b[0m\n\u001b[1;32m   1088\u001b[0m                 \u001b[0mtrain_dmatrix\u001b[0m\u001b[0;34m,\u001b[0m\u001b[0;34m\u001b[0m\u001b[0;34m\u001b[0m\u001b[0m\n",
      "\u001b[0;32m/usr/local/lib/python3.10/dist-packages/xgboost/core.py\u001b[0m in \u001b[0;36minner_f\u001b[0;34m(*args, **kwargs)\u001b[0m\n\u001b[1;32m    727\u001b[0m             \u001b[0;32mfor\u001b[0m \u001b[0mk\u001b[0m\u001b[0;34m,\u001b[0m \u001b[0marg\u001b[0m \u001b[0;32min\u001b[0m \u001b[0mzip\u001b[0m\u001b[0;34m(\u001b[0m\u001b[0msig\u001b[0m\u001b[0;34m.\u001b[0m\u001b[0mparameters\u001b[0m\u001b[0;34m,\u001b[0m \u001b[0margs\u001b[0m\u001b[0;34m)\u001b[0m\u001b[0;34m:\u001b[0m\u001b[0;34m\u001b[0m\u001b[0;34m\u001b[0m\u001b[0m\n\u001b[1;32m    728\u001b[0m                 \u001b[0mkwargs\u001b[0m\u001b[0;34m[\u001b[0m\u001b[0mk\u001b[0m\u001b[0;34m]\u001b[0m \u001b[0;34m=\u001b[0m \u001b[0marg\u001b[0m\u001b[0;34m\u001b[0m\u001b[0;34m\u001b[0m\u001b[0m\n\u001b[0;32m--> 729\u001b[0;31m             \u001b[0;32mreturn\u001b[0m \u001b[0mfunc\u001b[0m\u001b[0;34m(\u001b[0m\u001b[0;34m**\u001b[0m\u001b[0mkwargs\u001b[0m\u001b[0;34m)\u001b[0m\u001b[0;34m\u001b[0m\u001b[0;34m\u001b[0m\u001b[0m\n\u001b[0m\u001b[1;32m    730\u001b[0m \u001b[0;34m\u001b[0m\u001b[0m\n\u001b[1;32m    731\u001b[0m         \u001b[0;32mreturn\u001b[0m \u001b[0minner_f\u001b[0m\u001b[0;34m\u001b[0m\u001b[0;34m\u001b[0m\u001b[0m\n",
      "\u001b[0;32m/usr/local/lib/python3.10/dist-packages/xgboost/training.py\u001b[0m in \u001b[0;36mtrain\u001b[0;34m(params, dtrain, num_boost_round, evals, obj, feval, maximize, early_stopping_rounds, evals_result, verbose_eval, xgb_model, callbacks, custom_metric)\u001b[0m\n\u001b[1;32m    179\u001b[0m         \u001b[0;32mif\u001b[0m \u001b[0mcb_container\u001b[0m\u001b[0;34m.\u001b[0m\u001b[0mbefore_iteration\u001b[0m\u001b[0;34m(\u001b[0m\u001b[0mbst\u001b[0m\u001b[0;34m,\u001b[0m \u001b[0mi\u001b[0m\u001b[0;34m,\u001b[0m \u001b[0mdtrain\u001b[0m\u001b[0;34m,\u001b[0m \u001b[0mevals\u001b[0m\u001b[0;34m)\u001b[0m\u001b[0;34m:\u001b[0m\u001b[0;34m\u001b[0m\u001b[0;34m\u001b[0m\u001b[0m\n\u001b[1;32m    180\u001b[0m             \u001b[0;32mbreak\u001b[0m\u001b[0;34m\u001b[0m\u001b[0;34m\u001b[0m\u001b[0m\n\u001b[0;32m--> 181\u001b[0;31m         \u001b[0mbst\u001b[0m\u001b[0;34m.\u001b[0m\u001b[0mupdate\u001b[0m\u001b[0;34m(\u001b[0m\u001b[0mdtrain\u001b[0m\u001b[0;34m,\u001b[0m \u001b[0mi\u001b[0m\u001b[0;34m,\u001b[0m \u001b[0mobj\u001b[0m\u001b[0;34m)\u001b[0m\u001b[0;34m\u001b[0m\u001b[0;34m\u001b[0m\u001b[0m\n\u001b[0m\u001b[1;32m    182\u001b[0m         \u001b[0;32mif\u001b[0m \u001b[0mcb_container\u001b[0m\u001b[0;34m.\u001b[0m\u001b[0mafter_iteration\u001b[0m\u001b[0;34m(\u001b[0m\u001b[0mbst\u001b[0m\u001b[0;34m,\u001b[0m \u001b[0mi\u001b[0m\u001b[0;34m,\u001b[0m \u001b[0mdtrain\u001b[0m\u001b[0;34m,\u001b[0m \u001b[0mevals\u001b[0m\u001b[0;34m)\u001b[0m\u001b[0;34m:\u001b[0m\u001b[0;34m\u001b[0m\u001b[0;34m\u001b[0m\u001b[0m\n\u001b[1;32m    183\u001b[0m             \u001b[0;32mbreak\u001b[0m\u001b[0;34m\u001b[0m\u001b[0;34m\u001b[0m\u001b[0m\n",
      "\u001b[0;32m/usr/local/lib/python3.10/dist-packages/xgboost/core.py\u001b[0m in \u001b[0;36mupdate\u001b[0;34m(self, dtrain, iteration, fobj)\u001b[0m\n\u001b[1;32m   2048\u001b[0m         \u001b[0;32mif\u001b[0m \u001b[0mfobj\u001b[0m \u001b[0;32mis\u001b[0m \u001b[0;32mNone\u001b[0m\u001b[0;34m:\u001b[0m\u001b[0;34m\u001b[0m\u001b[0;34m\u001b[0m\u001b[0m\n\u001b[1;32m   2049\u001b[0m             _check_call(\n\u001b[0;32m-> 2050\u001b[0;31m                 _LIB.XGBoosterUpdateOneIter(\n\u001b[0m\u001b[1;32m   2051\u001b[0m                     \u001b[0mself\u001b[0m\u001b[0;34m.\u001b[0m\u001b[0mhandle\u001b[0m\u001b[0;34m,\u001b[0m \u001b[0mctypes\u001b[0m\u001b[0;34m.\u001b[0m\u001b[0mc_int\u001b[0m\u001b[0;34m(\u001b[0m\u001b[0miteration\u001b[0m\u001b[0;34m)\u001b[0m\u001b[0;34m,\u001b[0m \u001b[0mdtrain\u001b[0m\u001b[0;34m.\u001b[0m\u001b[0mhandle\u001b[0m\u001b[0;34m\u001b[0m\u001b[0;34m\u001b[0m\u001b[0m\n\u001b[1;32m   2052\u001b[0m                 )\n",
      "\u001b[0;31mKeyboardInterrupt\u001b[0m: "
     ]
    }
   ],
   "source": [
    "best_set, best_score = grid_search(df, df_v, feats, target, model, params, scorer, default_params)"
   ]
  },
  {
   "cell_type": "code",
   "execution_count": 11,
   "metadata": {},
   "outputs": [],
   "source": [
    "params = {'lambda': np.logspace(-3, 1, 5),\n",
    "        'alpha': np.logspace(-3, 1, 5)}\n",
    "default_params = {'random_state': 42,\n",
    "                  'learning_rate': 0.1,\n",
    "                  'max_depth': 8,\n",
    "                  'n_estimators': 800, \n",
    "                  'objective': 'reg:tweedie',\n",
    "                  'n_jobs': -1}"
   ]
  },
  {
   "cell_type": "code",
   "execution_count": 12,
   "metadata": {},
   "outputs": [
    {
     "data": {
      "application/vnd.jupyter.widget-view+json": {
       "model_id": "186f4864e7514277be40eeececd0db1b",
       "version_major": 2,
       "version_minor": 0
      },
      "text/plain": [
       "  0%|          | 0/25 [00:00<?, ?it/s]"
      ]
     },
     "metadata": {},
     "output_type": "display_data"
    },
    {
     "name": "stdout",
     "output_type": "stream",
     "text": [
      "Iteration: 0, Set: {'lambda': 0.001, 'alpha': 0.001} Score: 0.885058786993387\n",
      "Iteration: 1, Set: {'lambda': 0.001, 'alpha': 0.01} Score: 0.8820793091810172\n",
      "Iteration: 2, Set: {'lambda': 0.001, 'alpha': 0.09999999999999999} Score: 0.8889606606168059\n",
      "Iteration: 3, Set: {'lambda': 0.001, 'alpha': 1.0} Score: 0.8789803625954187\n",
      "Iteration: 4, Set: {'lambda': 0.001, 'alpha': 10.0} Score: 0.8818385359654969\n",
      "Iteration: 5, Set: {'lambda': 0.01, 'alpha': 0.001} Score: 0.8817584677771687\n",
      "Iteration: 6, Set: {'lambda': 0.01, 'alpha': 0.01} Score: 0.8788786014789255\n",
      "Iteration: 7, Set: {'lambda': 0.01, 'alpha': 0.09999999999999999} Score: 0.8726588225648726\n",
      "Iteration: 8, Set: {'lambda': 0.01, 'alpha': 1.0} Score: 0.8756968209489838\n",
      "Iteration: 9, Set: {'lambda': 0.01, 'alpha': 10.0} Score: 0.8903275388462425\n",
      "Iteration: 10, Set: {'lambda': 0.09999999999999999, 'alpha': 0.001} Score: 0.8852602032622098\n",
      "Iteration: 11, Set: {'lambda': 0.09999999999999999, 'alpha': 0.01} Score: 0.8733559782514623\n",
      "Iteration: 12, Set: {'lambda': 0.09999999999999999, 'alpha': 0.09999999999999999} Score: 0.8853364079212694\n",
      "Iteration: 13, Set: {'lambda': 0.09999999999999999, 'alpha': 1.0} Score: 0.8968063522729682\n",
      "Iteration: 14, Set: {'lambda': 0.09999999999999999, 'alpha': 10.0} Score: 0.8704881860614873\n",
      "Iteration: 15, Set: {'lambda': 1.0, 'alpha': 0.001} Score: 0.8790996834434809\n",
      "Iteration: 16, Set: {'lambda': 1.0, 'alpha': 0.01} Score: 0.8708865947212298\n",
      "Iteration: 17, Set: {'lambda': 1.0, 'alpha': 0.09999999999999999} Score: 0.8940387736581747\n",
      "Iteration: 18, Set: {'lambda': 1.0, 'alpha': 1.0} Score: 0.8762759368194665\n",
      "Iteration: 19, Set: {'lambda': 1.0, 'alpha': 10.0} Score: 0.8723028746367539\n",
      "Iteration: 20, Set: {'lambda': 10.0, 'alpha': 0.001} Score: 0.8848447360319412\n",
      "Iteration: 21, Set: {'lambda': 10.0, 'alpha': 0.01} Score: 0.8781968597991558\n",
      "Iteration: 22, Set: {'lambda': 10.0, 'alpha': 0.09999999999999999} Score: 0.8762875827841918\n",
      "Iteration: 23, Set: {'lambda': 10.0, 'alpha': 1.0} Score: 0.8895619135371591\n",
      "Iteration: 24, Set: {'lambda': 10.0, 'alpha': 10.0} Score: 0.8867666153591248\n"
     ]
    }
   ],
   "source": [
    "best_set, best_score = grid_search(df, df_v, feats, target, model, params, scorer, default_params)"
   ]
  },
  {
   "cell_type": "code",
   "execution_count": 13,
   "metadata": {},
   "outputs": [],
   "source": [
    "params = {'learning_rate': np.logspace(-1, 0, 10)}\n",
    "default_params = {'random_state': 42,\n",
    "                  'max_depth': 8,\n",
    "                  'lambda': 0.1,\n",
    "                  'alpha': 10,\n",
    "                  'n_estimators': 800, \n",
    "                  'objective': 'reg:tweedie',\n",
    "                  'n_jobs': -1}"
   ]
  },
  {
   "cell_type": "code",
   "execution_count": 15,
   "metadata": {},
   "outputs": [
    {
     "data": {
      "application/vnd.jupyter.widget-view+json": {
       "model_id": "4a4b6a218a9d46d59741daec69303612",
       "version_major": 2,
       "version_minor": 0
      },
      "text/plain": [
       "  0%|          | 0/10 [00:00<?, ?it/s]"
      ]
     },
     "metadata": {},
     "output_type": "display_data"
    },
    {
     "name": "stdout",
     "output_type": "stream",
     "text": [
      "Iteration: 0, Set: {'learning_rate': 0.09999999999999999} Score: 0.8704881860614873\n",
      "Iteration: 1, Set: {'learning_rate': 0.1291549665014884} Score: 0.8771360457747719\n",
      "Iteration: 2, Set: {'learning_rate': 0.16681005372000587} Score: 0.8749206918308847\n",
      "Iteration: 3, Set: {'learning_rate': 0.21544346900318834} Score: 0.8696758260512574\n",
      "Iteration: 4, Set: {'learning_rate': 0.2782559402207124} Score: 0.8876076740649376\n",
      "Iteration: 5, Set: {'learning_rate': 0.35938136638046275} Score: 0.8753931820422433\n",
      "Iteration: 6, Set: {'learning_rate': 0.46415888336127786} Score: 0.9091403551853268\n",
      "Iteration: 7, Set: {'learning_rate': 0.5994842503189408} Score: 0.9130063449663645\n",
      "Iteration: 8, Set: {'learning_rate': 0.7742636826811269} Score: 0.9062947372639336\n",
      "Iteration: 9, Set: {'learning_rate': 1.0} Score: 0.9442826058238072\n"
     ]
    }
   ],
   "source": [
    "best_set, best_score = grid_search(df, df_v, feats, target, model, params, scorer, default_params)"
   ]
  },
  {
   "cell_type": "code",
   "execution_count": 18,
   "metadata": {},
   "outputs": [],
   "source": [
    "params = {'max_depth': [5, 8, 11, 14]}\n",
    "default_params = {'random_state': 42,\n",
    "                  'learning_rate': 0.21544346900318834,\n",
    "                  'lambda': 0.1,\n",
    "                  'alpha': 10,\n",
    "                  'n_estimators': 800, \n",
    "                  'objective': 'reg:tweedie',\n",
    "                  'n_jobs': -1}"
   ]
  },
  {
   "cell_type": "code",
   "execution_count": 19,
   "metadata": {},
   "outputs": [
    {
     "data": {
      "application/vnd.jupyter.widget-view+json": {
       "model_id": "8dae502d71b14902abcc18bd165140fe",
       "version_major": 2,
       "version_minor": 0
      },
      "text/plain": [
       "  0%|          | 0/4 [00:00<?, ?it/s]"
      ]
     },
     "metadata": {},
     "output_type": "display_data"
    },
    {
     "name": "stdout",
     "output_type": "stream",
     "text": [
      "Iteration: 0, Set: {'max_depth': 5} Score: 0.9102294903532607\n",
      "Iteration: 1, Set: {'max_depth': 8} Score: 0.8696758260512574\n",
      "Iteration: 2, Set: {'max_depth': 11} Score: 0.9066257138916893\n",
      "Iteration: 3, Set: {'max_depth': 14} Score: 0.9749579543097046\n"
     ]
    }
   ],
   "source": [
    "best_set, best_score = grid_search(df, df_v, feats, target, model, params, scorer, default_params)"
   ]
  },
  {
   "cell_type": "code",
   "execution_count": 20,
   "metadata": {},
   "outputs": [],
   "source": [
    "params = {'n_estimators': [600, 800, 1000, 1200]}\n",
    "default_params = {'random_state': 42,\n",
    "                  'learning_rate': 0.21544346900318834,\n",
    "                  'max_depth': 8,\n",
    "                  'lambda': 0.1,\n",
    "                  'alpha': 10,\n",
    "                  'objective': 'reg:tweedie',\n",
    "                  'n_jobs': -1}"
   ]
  },
  {
   "cell_type": "code",
   "execution_count": 21,
   "metadata": {},
   "outputs": [
    {
     "data": {
      "application/vnd.jupyter.widget-view+json": {
       "model_id": "7fdad847a3d44827bbbd3f846d7d8af5",
       "version_major": 2,
       "version_minor": 0
      },
      "text/plain": [
       "  0%|          | 0/4 [00:00<?, ?it/s]"
      ]
     },
     "metadata": {},
     "output_type": "display_data"
    },
    {
     "name": "stdout",
     "output_type": "stream",
     "text": [
      "Iteration: 0, Set: {'n_estimators': 600} Score: 0.871337205491467\n",
      "Iteration: 1, Set: {'n_estimators': 800} Score: 0.8696758260512574\n",
      "Iteration: 2, Set: {'n_estimators': 1000} Score: 0.8708315666064591\n",
      "Iteration: 3, Set: {'n_estimators': 1200} Score: 0.8780253715298195\n"
     ]
    }
   ],
   "source": [
    "best_set, best_score = grid_search(df, df_v, feats, target, model, params, scorer, default_params)"
   ]
  },
  {
   "cell_type": "code",
   "execution_count": 22,
   "metadata": {},
   "outputs": [],
   "source": [
    "params = {'subsample': [0.4, 0.7, 1],\n",
    "         'colsample_bytree': [0.4, 0.7, 1]}\n",
    "default_params = {'random_state': 42,\n",
    "                  'max_depth': 8,\n",
    "                  'learning_rate': 0.21544346900318834,\n",
    "                  'lambda': 0.1,\n",
    "                  'alpha': 10,\n",
    "                  'n_estimators': 800, \n",
    "                  'objective': 'reg:tweedie',\n",
    "                  'n_jobs': -1}"
   ]
  },
  {
   "cell_type": "code",
   "execution_count": 23,
   "metadata": {},
   "outputs": [
    {
     "data": {
      "application/vnd.jupyter.widget-view+json": {
       "model_id": "e62ea0c251c045ba84f5ddf4c888792b",
       "version_major": 2,
       "version_minor": 0
      },
      "text/plain": [
       "  0%|          | 0/9 [00:00<?, ?it/s]"
      ]
     },
     "metadata": {},
     "output_type": "display_data"
    },
    {
     "name": "stdout",
     "output_type": "stream",
     "text": [
      "Iteration: 0, Set: {'subsample': 0.4, 'colsample_bytree': 0.4} Score: 1.0040733313175487\n",
      "Iteration: 1, Set: {'subsample': 0.4, 'colsample_bytree': 0.7} Score: 0.9182448531914005\n",
      "Iteration: 2, Set: {'subsample': 0.4, 'colsample_bytree': 1} Score: 0.879812773523244\n",
      "Iteration: 3, Set: {'subsample': 0.7, 'colsample_bytree': 0.4} Score: 0.9921334427123495\n",
      "Iteration: 4, Set: {'subsample': 0.7, 'colsample_bytree': 0.7} Score: 0.8838269866611287\n",
      "Iteration: 5, Set: {'subsample': 0.7, 'colsample_bytree': 1} Score: 0.8878534202092804\n",
      "Iteration: 6, Set: {'subsample': 1, 'colsample_bytree': 0.4} Score: 0.9740223426372583\n",
      "Iteration: 7, Set: {'subsample': 1, 'colsample_bytree': 0.7} Score: 0.8842068931232451\n",
      "Iteration: 8, Set: {'subsample': 1, 'colsample_bytree': 1} Score: 0.8696758260512574\n"
     ]
    }
   ],
   "source": [
    "best_set, best_score = grid_search(df, df_v, feats, target, model, params, scorer, default_params)"
   ]
  },
  {
   "cell_type": "code",
   "execution_count": null,
   "metadata": {},
   "outputs": [],
   "source": [
    "best_set = {'random_state': 42,\n",
    "                  'max_depth': 8,\n",
    "                  'learning_rate': 0.21544346900318834,\n",
    "                  'lambda': 0.1,\n",
    "                  'alpha': 10,\n",
    "                  'n_estimators': 800, \n",
    "                  'objective': 'reg:tweedie',\n",
    "                  'n_jobs': -1,\n",
    "            'subsample': 1, \n",
    "            'colsample_bytree': 1}\n",
    "best_score = 0.8696758260512574"
   ]
  },
  {
   "cell_type": "markdown",
   "metadata": {},
   "source": [
    "### -----------------------------------------------"
   ]
  },
  {
   "cell_type": "code",
   "execution_count": 28,
   "metadata": {},
   "outputs": [],
   "source": [
    "params = {'lambda': [0.1, 1],\n",
    "          'alpha': [0.1, 1],\n",
    "          'max_depth': [5, 10],\n",
    "          'learning_rate': [0.01, 0.1],\n",
    "          'subsample': [0.5, 1],\n",
    "          'colsample_bytree': [0.5, 1]}\n",
    "default_params = {'objective': 'reg:tweedie',\n",
    "                  'random_state': 42,\n",
    "                  'n_estimators': 800,\n",
    "                  'n_jobs': -1}"
   ]
  },
  {
   "cell_type": "code",
   "execution_count": 29,
   "metadata": {},
   "outputs": [
    {
     "data": {
      "application/vnd.jupyter.widget-view+json": {
       "model_id": "3888ba449fa74c1abb84eca84834d0dc",
       "version_major": 2,
       "version_minor": 0
      },
      "text/plain": [
       "  0%|          | 0/64 [00:00<?, ?it/s]"
      ]
     },
     "metadata": {},
     "output_type": "display_data"
    },
    {
     "name": "stdout",
     "output_type": "stream",
     "text": [
      "Iteration: 0, Set: {'lambda': 0.1, 'alpha': 0.1, 'max_depth': 5, 'learning_rate': 0.01, 'subsample': 0.5, 'colsample_bytree': 0.5} Score: 1.8569281166525788\n",
      "Iteration: 1, Set: {'lambda': 0.1, 'alpha': 0.1, 'max_depth': 5, 'learning_rate': 0.01, 'subsample': 0.5, 'colsample_bytree': 1} Score: 1.667772768940135\n",
      "Iteration: 2, Set: {'lambda': 0.1, 'alpha': 0.1, 'max_depth': 5, 'learning_rate': 0.01, 'subsample': 1, 'colsample_bytree': 0.5} Score: 1.8596524623361324\n",
      "Iteration: 3, Set: {'lambda': 0.1, 'alpha': 0.1, 'max_depth': 5, 'learning_rate': 0.01, 'subsample': 1, 'colsample_bytree': 1} Score: 1.693142165688945\n",
      "Iteration: 4, Set: {'lambda': 0.1, 'alpha': 0.1, 'max_depth': 5, 'learning_rate': 0.1, 'subsample': 0.5, 'colsample_bytree': 0.5} Score: 1.2213820461113187\n",
      "Iteration: 5, Set: {'lambda': 0.1, 'alpha': 0.1, 'max_depth': 5, 'learning_rate': 0.1, 'subsample': 0.5, 'colsample_bytree': 1} Score: 0.9958029594848267\n",
      "Iteration: 6, Set: {'lambda': 0.1, 'alpha': 0.1, 'max_depth': 5, 'learning_rate': 0.1, 'subsample': 1, 'colsample_bytree': 0.5} Score: 1.2297077770182152\n",
      "Iteration: 7, Set: {'lambda': 0.1, 'alpha': 0.1, 'max_depth': 5, 'learning_rate': 0.1, 'subsample': 1, 'colsample_bytree': 1} Score: 0.9982678555281989\n",
      "Iteration: 8, Set: {'lambda': 0.1, 'alpha': 0.1, 'max_depth': 10, 'learning_rate': 0.01, 'subsample': 0.5, 'colsample_bytree': 0.5} Score: 1.2963625977754625\n",
      "Iteration: 9, Set: {'lambda': 0.1, 'alpha': 0.1, 'max_depth': 10, 'learning_rate': 0.01, 'subsample': 0.5, 'colsample_bytree': 1} Score: 1.0554497368644271\n",
      "Iteration: 10, Set: {'lambda': 0.1, 'alpha': 0.1, 'max_depth': 10, 'learning_rate': 0.01, 'subsample': 1, 'colsample_bytree': 0.5} Score: 1.2938611122615342\n",
      "Iteration: 11, Set: {'lambda': 0.1, 'alpha': 0.1, 'max_depth': 10, 'learning_rate': 0.01, 'subsample': 1, 'colsample_bytree': 1} Score: 1.0804108027440367\n",
      "Iteration: 12, Set: {'lambda': 0.1, 'alpha': 0.1, 'max_depth': 10, 'learning_rate': 0.1, 'subsample': 0.5, 'colsample_bytree': 0.5} Score: 0.9963649427143755\n",
      "Iteration: 13, Set: {'lambda': 0.1, 'alpha': 0.1, 'max_depth': 10, 'learning_rate': 0.1, 'subsample': 0.5, 'colsample_bytree': 1} Score: 0.8803121520575502\n",
      "Iteration: 14, Set: {'lambda': 0.1, 'alpha': 0.1, 'max_depth': 10, 'learning_rate': 0.1, 'subsample': 1, 'colsample_bytree': 0.5} Score: 0.9814785050385937\n",
      "Iteration: 15, Set: {'lambda': 0.1, 'alpha': 0.1, 'max_depth': 10, 'learning_rate': 0.1, 'subsample': 1, 'colsample_bytree': 1} Score: 0.8748298421492828\n",
      "Iteration: 16, Set: {'lambda': 0.1, 'alpha': 1, 'max_depth': 5, 'learning_rate': 0.01, 'subsample': 0.5, 'colsample_bytree': 0.5} Score: 1.859959851269301\n",
      "Iteration: 17, Set: {'lambda': 0.1, 'alpha': 1, 'max_depth': 5, 'learning_rate': 0.01, 'subsample': 0.5, 'colsample_bytree': 1} Score: 1.6756371269366752\n",
      "Iteration: 18, Set: {'lambda': 0.1, 'alpha': 1, 'max_depth': 5, 'learning_rate': 0.01, 'subsample': 1, 'colsample_bytree': 0.5} Score: 1.8692979633028404\n",
      "Iteration: 19, Set: {'lambda': 0.1, 'alpha': 1, 'max_depth': 5, 'learning_rate': 0.01, 'subsample': 1, 'colsample_bytree': 1} Score: 1.6986095384555346\n",
      "Iteration: 20, Set: {'lambda': 0.1, 'alpha': 1, 'max_depth': 5, 'learning_rate': 0.1, 'subsample': 0.5, 'colsample_bytree': 0.5} Score: 1.1928029118626606\n",
      "Iteration: 21, Set: {'lambda': 0.1, 'alpha': 1, 'max_depth': 5, 'learning_rate': 0.1, 'subsample': 0.5, 'colsample_bytree': 1} Score: 0.9954513270992827\n",
      "Iteration: 22, Set: {'lambda': 0.1, 'alpha': 1, 'max_depth': 5, 'learning_rate': 0.1, 'subsample': 1, 'colsample_bytree': 0.5} Score: 1.218464583841379\n",
      "Iteration: 23, Set: {'lambda': 0.1, 'alpha': 1, 'max_depth': 5, 'learning_rate': 0.1, 'subsample': 1, 'colsample_bytree': 1} Score: 1.0264423196702224\n",
      "Iteration: 24, Set: {'lambda': 0.1, 'alpha': 1, 'max_depth': 10, 'learning_rate': 0.01, 'subsample': 0.5, 'colsample_bytree': 0.5} Score: 1.302264119869266\n",
      "Iteration: 25, Set: {'lambda': 0.1, 'alpha': 1, 'max_depth': 10, 'learning_rate': 0.01, 'subsample': 0.5, 'colsample_bytree': 1} Score: 1.0626589650145293\n",
      "Iteration: 26, Set: {'lambda': 0.1, 'alpha': 1, 'max_depth': 10, 'learning_rate': 0.01, 'subsample': 1, 'colsample_bytree': 0.5} Score: 1.2927849797532087\n",
      "Iteration: 27, Set: {'lambda': 0.1, 'alpha': 1, 'max_depth': 10, 'learning_rate': 0.01, 'subsample': 1, 'colsample_bytree': 1} Score: 1.0913123073835103\n",
      "Iteration: 28, Set: {'lambda': 0.1, 'alpha': 1, 'max_depth': 10, 'learning_rate': 0.1, 'subsample': 0.5, 'colsample_bytree': 0.5} Score: 0.979100663371686\n",
      "Iteration: 29, Set: {'lambda': 0.1, 'alpha': 1, 'max_depth': 10, 'learning_rate': 0.1, 'subsample': 0.5, 'colsample_bytree': 1} Score: 0.8996164197409626\n",
      "Iteration: 30, Set: {'lambda': 0.1, 'alpha': 1, 'max_depth': 10, 'learning_rate': 0.1, 'subsample': 1, 'colsample_bytree': 0.5} Score: 0.9885876567023729\n",
      "Iteration: 31, Set: {'lambda': 0.1, 'alpha': 1, 'max_depth': 10, 'learning_rate': 0.1, 'subsample': 1, 'colsample_bytree': 1} Score: 0.8785038343486803\n",
      "Iteration: 32, Set: {'lambda': 1, 'alpha': 0.1, 'max_depth': 5, 'learning_rate': 0.01, 'subsample': 0.5, 'colsample_bytree': 0.5} Score: 1.856981806763858\n",
      "Iteration: 33, Set: {'lambda': 1, 'alpha': 0.1, 'max_depth': 5, 'learning_rate': 0.01, 'subsample': 0.5, 'colsample_bytree': 1} Score: 1.6740328250705356\n",
      "Iteration: 34, Set: {'lambda': 1, 'alpha': 0.1, 'max_depth': 5, 'learning_rate': 0.01, 'subsample': 1, 'colsample_bytree': 0.5} Score: 1.8790117529100578\n",
      "Iteration: 35, Set: {'lambda': 1, 'alpha': 0.1, 'max_depth': 5, 'learning_rate': 0.01, 'subsample': 1, 'colsample_bytree': 1} Score: 1.6798369340339467\n",
      "Iteration: 36, Set: {'lambda': 1, 'alpha': 0.1, 'max_depth': 5, 'learning_rate': 0.1, 'subsample': 0.5, 'colsample_bytree': 0.5} Score: 1.2019717493844668\n",
      "Iteration: 37, Set: {'lambda': 1, 'alpha': 0.1, 'max_depth': 5, 'learning_rate': 0.1, 'subsample': 0.5, 'colsample_bytree': 1} Score: 0.9920792065325625\n",
      "Iteration: 38, Set: {'lambda': 1, 'alpha': 0.1, 'max_depth': 5, 'learning_rate': 0.1, 'subsample': 1, 'colsample_bytree': 0.5} Score: 1.2019791004404203\n",
      "Iteration: 39, Set: {'lambda': 1, 'alpha': 0.1, 'max_depth': 5, 'learning_rate': 0.1, 'subsample': 1, 'colsample_bytree': 1} Score: 1.0136379345568975\n",
      "Iteration: 40, Set: {'lambda': 1, 'alpha': 0.1, 'max_depth': 10, 'learning_rate': 0.01, 'subsample': 0.5, 'colsample_bytree': 0.5} Score: 1.294828917068486\n",
      "Iteration: 41, Set: {'lambda': 1, 'alpha': 0.1, 'max_depth': 10, 'learning_rate': 0.01, 'subsample': 0.5, 'colsample_bytree': 1} Score: 1.0622465128105791\n",
      "Iteration: 42, Set: {'lambda': 1, 'alpha': 0.1, 'max_depth': 10, 'learning_rate': 0.01, 'subsample': 1, 'colsample_bytree': 0.5} Score: 1.2933257667734948\n",
      "Iteration: 43, Set: {'lambda': 1, 'alpha': 0.1, 'max_depth': 10, 'learning_rate': 0.01, 'subsample': 1, 'colsample_bytree': 1} Score: 1.084109384338079\n",
      "Iteration: 44, Set: {'lambda': 1, 'alpha': 0.1, 'max_depth': 10, 'learning_rate': 0.1, 'subsample': 0.5, 'colsample_bytree': 0.5} Score: 1.0189697107132991\n",
      "Iteration: 45, Set: {'lambda': 1, 'alpha': 0.1, 'max_depth': 10, 'learning_rate': 0.1, 'subsample': 0.5, 'colsample_bytree': 1} Score: 0.8752643509350692\n",
      "Iteration: 46, Set: {'lambda': 1, 'alpha': 0.1, 'max_depth': 10, 'learning_rate': 0.1, 'subsample': 1, 'colsample_bytree': 0.5} Score: 0.9850937585937436\n",
      "Iteration: 47, Set: {'lambda': 1, 'alpha': 0.1, 'max_depth': 10, 'learning_rate': 0.1, 'subsample': 1, 'colsample_bytree': 1} Score: 0.8734525412272448\n",
      "Iteration: 48, Set: {'lambda': 1, 'alpha': 1, 'max_depth': 5, 'learning_rate': 0.01, 'subsample': 0.5, 'colsample_bytree': 0.5} Score: 1.8625034754398504\n",
      "Iteration: 49, Set: {'lambda': 1, 'alpha': 1, 'max_depth': 5, 'learning_rate': 0.01, 'subsample': 0.5, 'colsample_bytree': 1} Score: 1.6725638974142678\n",
      "Iteration: 50, Set: {'lambda': 1, 'alpha': 1, 'max_depth': 5, 'learning_rate': 0.01, 'subsample': 1, 'colsample_bytree': 0.5} Score: 1.8692593711142214\n",
      "Iteration: 51, Set: {'lambda': 1, 'alpha': 1, 'max_depth': 5, 'learning_rate': 0.01, 'subsample': 1, 'colsample_bytree': 1} Score: 1.6868731386509113\n",
      "Iteration: 52, Set: {'lambda': 1, 'alpha': 1, 'max_depth': 5, 'learning_rate': 0.1, 'subsample': 0.5, 'colsample_bytree': 0.5} Score: 1.1999530596302188\n",
      "Iteration: 53, Set: {'lambda': 1, 'alpha': 1, 'max_depth': 5, 'learning_rate': 0.1, 'subsample': 0.5, 'colsample_bytree': 1} Score: 0.9750761573658354\n",
      "Iteration: 54, Set: {'lambda': 1, 'alpha': 1, 'max_depth': 5, 'learning_rate': 0.1, 'subsample': 1, 'colsample_bytree': 0.5} Score: 1.2275882549892785\n",
      "Iteration: 55, Set: {'lambda': 1, 'alpha': 1, 'max_depth': 5, 'learning_rate': 0.1, 'subsample': 1, 'colsample_bytree': 1} Score: 0.9981705678101956\n",
      "Iteration: 56, Set: {'lambda': 1, 'alpha': 1, 'max_depth': 10, 'learning_rate': 0.01, 'subsample': 0.5, 'colsample_bytree': 0.5} Score: 1.299609559759219\n",
      "Iteration: 57, Set: {'lambda': 1, 'alpha': 1, 'max_depth': 10, 'learning_rate': 0.01, 'subsample': 0.5, 'colsample_bytree': 1} Score: 1.0613652280211234\n",
      "Iteration: 58, Set: {'lambda': 1, 'alpha': 1, 'max_depth': 10, 'learning_rate': 0.01, 'subsample': 1, 'colsample_bytree': 0.5} Score: 1.2973439368038047\n",
      "Iteration: 59, Set: {'lambda': 1, 'alpha': 1, 'max_depth': 10, 'learning_rate': 0.01, 'subsample': 1, 'colsample_bytree': 1} Score: 1.0860580433882565\n",
      "Iteration: 60, Set: {'lambda': 1, 'alpha': 1, 'max_depth': 10, 'learning_rate': 0.1, 'subsample': 0.5, 'colsample_bytree': 0.5} Score: 0.9990293993176516\n",
      "Iteration: 61, Set: {'lambda': 1, 'alpha': 1, 'max_depth': 10, 'learning_rate': 0.1, 'subsample': 0.5, 'colsample_bytree': 1} Score: 0.891177531094709\n",
      "Iteration: 62, Set: {'lambda': 1, 'alpha': 1, 'max_depth': 10, 'learning_rate': 0.1, 'subsample': 1, 'colsample_bytree': 0.5} Score: 0.9842974964576223\n",
      "Iteration: 63, Set: {'lambda': 1, 'alpha': 1, 'max_depth': 10, 'learning_rate': 0.1, 'subsample': 1, 'colsample_bytree': 1} Score: 0.8612055245999325\n"
     ]
    }
   ],
   "source": [
    "best_set, best_score = grid_search(df, df_v, feats, target, model, params, scorer, default_params)"
   ]
  },
  {
   "cell_type": "code",
   "execution_count": null,
   "metadata": {},
   "outputs": [],
   "source": [
    "best_set = {'lambda': 1, \n",
    "            'alpha': 1, \n",
    "            'max_depth': 10, \n",
    "            'learning_rate': 0.1, \n",
    "            'subsample': 1, \n",
    "            'colsample_bytree': 1,\n",
    "            'random_state': 42,\n",
    "            'n_estimators': 800, \n",
    "            'objective': 'reg:tweedie',\n",
    "            'n_jobs': -1,}\n",
    "best_score = 0.8612055245999325"
   ]
  },
  {
   "cell_type": "code",
   "execution_count": 7,
   "metadata": {},
   "outputs": [],
   "source": [
    "params = {'lambda': [0.8, 1],\n",
    "          'alpha': [0.8, 1],\n",
    "          'max_depth': [10, 15],\n",
    "          'n_estimators': [800, 1200],\n",
    "          'learning_rate': [0.05, 0.1, 0.15]}\n",
    "default_params = {'objective': 'reg:tweedie',\n",
    "                  'random_state': 42,\n",
    "                    'subsample': 1, \n",
    "                    'colsample_bytree': 1,\n",
    "                  'n_jobs': -1}"
   ]
  },
  {
   "cell_type": "code",
   "execution_count": 10,
   "metadata": {
    "scrolled": true
   },
   "outputs": [
    {
     "data": {
      "application/vnd.jupyter.widget-view+json": {
       "model_id": "678a761b22dc48eb92332cdcb95e286f",
       "version_major": 2,
       "version_minor": 0
      },
      "text/plain": [
       "  0%|          | 0/48 [00:00<?, ?it/s]"
      ]
     },
     "metadata": {},
     "output_type": "display_data"
    },
    {
     "name": "stdout",
     "output_type": "stream",
     "text": [
      "Iteration: 0, Set: {'lambda': 0.8, 'alpha': 0.8, 'max_depth': 10, 'n_estimators': 800, 'learning_rate': 0.05} Score: 0.8833095923589918\n",
      "Iteration: 1, Set: {'lambda': 0.8, 'alpha': 0.8, 'max_depth': 10, 'n_estimators': 800, 'learning_rate': 0.1} Score: 0.872963428802489\n",
      "Iteration: 2, Set: {'lambda': 0.8, 'alpha': 0.8, 'max_depth': 10, 'n_estimators': 800, 'learning_rate': 0.15} Score: 0.8823865454420218\n",
      "Iteration: 3, Set: {'lambda': 0.8, 'alpha': 0.8, 'max_depth': 10, 'n_estimators': 1200, 'learning_rate': 0.05} Score: 0.8828508059988214\n",
      "Iteration: 4, Set: {'lambda': 0.8, 'alpha': 0.8, 'max_depth': 10, 'n_estimators': 1200, 'learning_rate': 0.1} Score: 0.8890081151248543\n",
      "Iteration: 5, Set: {'lambda': 0.8, 'alpha': 0.8, 'max_depth': 10, 'n_estimators': 1200, 'learning_rate': 0.15} Score: 0.9001021148185319\n",
      "Iteration: 6, Set: {'lambda': 0.8, 'alpha': 0.8, 'max_depth': 15, 'n_estimators': 800, 'learning_rate': 0.05} Score: 0.9664257975200216\n",
      "Iteration: 7, Set: {'lambda': 0.8, 'alpha': 0.8, 'max_depth': 15, 'n_estimators': 800, 'learning_rate': 0.1} Score: 1.0328665108937582\n",
      "Iteration: 8, Set: {'lambda': 0.8, 'alpha': 0.8, 'max_depth': 15, 'n_estimators': 800, 'learning_rate': 0.15} Score: 1.0775636452508315\n",
      "Iteration: 9, Set: {'lambda': 0.8, 'alpha': 0.8, 'max_depth': 15, 'n_estimators': 1200, 'learning_rate': 0.05} Score: 1.0108033607367635\n",
      "Iteration: 10, Set: {'lambda': 0.8, 'alpha': 0.8, 'max_depth': 15, 'n_estimators': 1200, 'learning_rate': 0.1} Score: 1.0710165887381042\n",
      "Iteration: 11, Set: {'lambda': 0.8, 'alpha': 0.8, 'max_depth': 15, 'n_estimators': 1200, 'learning_rate': 0.15} Score: 1.1273455842514974\n",
      "Iteration: 12, Set: {'lambda': 0.8, 'alpha': 1, 'max_depth': 10, 'n_estimators': 800, 'learning_rate': 0.05} Score: 0.8809180685926151\n",
      "Iteration: 13, Set: {'lambda': 0.8, 'alpha': 1, 'max_depth': 10, 'n_estimators': 800, 'learning_rate': 0.1} Score: 0.8751069880201385\n",
      "Iteration: 14, Set: {'lambda': 0.8, 'alpha': 1, 'max_depth': 10, 'n_estimators': 800, 'learning_rate': 0.15} Score: 0.899023733089537\n",
      "Iteration: 15, Set: {'lambda': 0.8, 'alpha': 1, 'max_depth': 10, 'n_estimators': 1200, 'learning_rate': 0.05} Score: 0.880661618114821\n",
      "Iteration: 16, Set: {'lambda': 0.8, 'alpha': 1, 'max_depth': 10, 'n_estimators': 1200, 'learning_rate': 0.1} Score: 0.88405513626822\n",
      "Iteration: 17, Set: {'lambda': 0.8, 'alpha': 1, 'max_depth': 10, 'n_estimators': 1200, 'learning_rate': 0.15} Score: 0.9126519550830887\n",
      "Iteration: 18, Set: {'lambda': 0.8, 'alpha': 1, 'max_depth': 15, 'n_estimators': 800, 'learning_rate': 0.05} Score: 0.9671214326867493\n",
      "Iteration: 19, Set: {'lambda': 0.8, 'alpha': 1, 'max_depth': 15, 'n_estimators': 800, 'learning_rate': 0.1} Score: 1.0574356353326304\n",
      "Iteration: 20, Set: {'lambda': 0.8, 'alpha': 1, 'max_depth': 15, 'n_estimators': 800, 'learning_rate': 0.15} Score: 1.0679691385570633\n",
      "Iteration: 21, Set: {'lambda': 0.8, 'alpha': 1, 'max_depth': 15, 'n_estimators': 1200, 'learning_rate': 0.05} Score: 0.99914606301737\n",
      "Iteration: 22, Set: {'lambda': 0.8, 'alpha': 1, 'max_depth': 15, 'n_estimators': 1200, 'learning_rate': 0.1} Score: 1.0961215712036554\n",
      "Iteration: 23, Set: {'lambda': 0.8, 'alpha': 1, 'max_depth': 15, 'n_estimators': 1200, 'learning_rate': 0.15} Score: 1.1121478000024214\n",
      "Iteration: 24, Set: {'lambda': 1, 'alpha': 0.8, 'max_depth': 10, 'n_estimators': 800, 'learning_rate': 0.05} Score: 0.8875512941435422\n",
      "Iteration: 25, Set: {'lambda': 1, 'alpha': 0.8, 'max_depth': 10, 'n_estimators': 800, 'learning_rate': 0.1} Score: 0.885698246133834\n",
      "Iteration: 26, Set: {'lambda': 1, 'alpha': 0.8, 'max_depth': 10, 'n_estimators': 800, 'learning_rate': 0.15} Score: 0.8918784028002804\n",
      "Iteration: 27, Set: {'lambda': 1, 'alpha': 0.8, 'max_depth': 10, 'n_estimators': 1200, 'learning_rate': 0.05} Score: 0.8839465006475453\n",
      "Iteration: 28, Set: {'lambda': 1, 'alpha': 0.8, 'max_depth': 10, 'n_estimators': 1200, 'learning_rate': 0.1} Score: 0.9042338738422099\n",
      "Iteration: 29, Set: {'lambda': 1, 'alpha': 0.8, 'max_depth': 10, 'n_estimators': 1200, 'learning_rate': 0.15} Score: 0.9068536988688591\n",
      "Iteration: 30, Set: {'lambda': 1, 'alpha': 0.8, 'max_depth': 15, 'n_estimators': 800, 'learning_rate': 0.05} Score: 0.969599678056798\n",
      "Iteration: 31, Set: {'lambda': 1, 'alpha': 0.8, 'max_depth': 15, 'n_estimators': 800, 'learning_rate': 0.1} Score: 1.0265386126325164\n",
      "Iteration: 32, Set: {'lambda': 1, 'alpha': 0.8, 'max_depth': 15, 'n_estimators': 800, 'learning_rate': 0.15} Score: 1.0629024237300089\n",
      "Iteration: 33, Set: {'lambda': 1, 'alpha': 0.8, 'max_depth': 15, 'n_estimators': 1200, 'learning_rate': 0.05} Score: 0.9958385330293479\n",
      "Iteration: 34, Set: {'lambda': 1, 'alpha': 0.8, 'max_depth': 15, 'n_estimators': 1200, 'learning_rate': 0.1} Score: 1.0668062370587608\n",
      "Iteration: 35, Set: {'lambda': 1, 'alpha': 0.8, 'max_depth': 15, 'n_estimators': 1200, 'learning_rate': 0.15} Score: 1.1135562587794359\n",
      "Iteration: 36, Set: {'lambda': 1, 'alpha': 1, 'max_depth': 10, 'n_estimators': 800, 'learning_rate': 0.05} Score: 0.885565491484755\n",
      "Iteration: 37, Set: {'lambda': 1, 'alpha': 1, 'max_depth': 10, 'n_estimators': 800, 'learning_rate': 0.1} Score: 0.8612055245999325\n",
      "Iteration: 38, Set: {'lambda': 1, 'alpha': 1, 'max_depth': 10, 'n_estimators': 800, 'learning_rate': 0.15} Score: 0.8925935735463614\n",
      "Iteration: 39, Set: {'lambda': 1, 'alpha': 1, 'max_depth': 10, 'n_estimators': 1200, 'learning_rate': 0.05} Score: 0.8836443996959819\n",
      "Iteration: 40, Set: {'lambda': 1, 'alpha': 1, 'max_depth': 10, 'n_estimators': 1200, 'learning_rate': 0.1} Score: 0.8667787604799743\n",
      "Iteration: 41, Set: {'lambda': 1, 'alpha': 1, 'max_depth': 10, 'n_estimators': 1200, 'learning_rate': 0.15} Score: 0.913022210472798\n",
      "Iteration: 42, Set: {'lambda': 1, 'alpha': 1, 'max_depth': 15, 'n_estimators': 800, 'learning_rate': 0.05} Score: 0.9474275732035946\n",
      "Iteration: 43, Set: {'lambda': 1, 'alpha': 1, 'max_depth': 15, 'n_estimators': 800, 'learning_rate': 0.1} Score: 1.005663862834321\n",
      "Iteration: 44, Set: {'lambda': 1, 'alpha': 1, 'max_depth': 15, 'n_estimators': 800, 'learning_rate': 0.15} Score: 1.0590650261275116\n",
      "Iteration: 45, Set: {'lambda': 1, 'alpha': 1, 'max_depth': 15, 'n_estimators': 1200, 'learning_rate': 0.05} Score: 0.9800944306052561\n",
      "Iteration: 46, Set: {'lambda': 1, 'alpha': 1, 'max_depth': 15, 'n_estimators': 1200, 'learning_rate': 0.1} Score: 1.0450436560005576\n",
      "Iteration: 47, Set: {'lambda': 1, 'alpha': 1, 'max_depth': 15, 'n_estimators': 1200, 'learning_rate': 0.15} Score: 1.096889030247707\n",
      "{'lambda': 1, 'alpha': 1, 'max_depth': 10, 'n_estimators': 800, 'learning_rate': 0.1} 0.8612055245999325\n"
     ]
    }
   ],
   "source": [
    "best_set, best_score = grid_search(df, df_v, feats, target, model, params, scorer, default_params)\n",
    "print(best_set, best_score)"
   ]
  },
  {
   "cell_type": "markdown",
   "metadata": {},
   "source": [
    "# Optuna"
   ]
  },
  {
   "cell_type": "code",
   "execution_count": 14,
   "metadata": {
    "ExecuteTime": {
     "end_time": "2023-10-04T06:06:09.776375400Z",
     "start_time": "2023-10-04T06:06:09.156265Z"
    }
   },
   "outputs": [],
   "source": [
    "def objective(trial, X_train=df[feats], y_train=df[target], X_eval=df_v[feats], y_eval=df_v[target]):\n",
    "    param = {\n",
    "        'lambda': trial.suggest_loguniform('lambda', 1e-2, 10.0),\n",
    "        'alpha': trial.suggest_loguniform('alpha', 1e-2, 10.0),\n",
    "        'colsample_bytree': trial.suggest_categorical('colsample_bytree', [0.3,0.4,0.5,0.6,0.7,0.8,0.9, 1.0]),\n",
    "        'subsample': trial.suggest_categorical('subsample', [0.4,0.5,0.6,0.7,0.8,1.0]),\n",
    "        'learning_rate': trial.suggest_categorical('learning_rate', np.logspace(-3, 0, 10)),\n",
    "        'n_estimators': 800,\n",
    "        'max_depth': trial.suggest_categorical('max_depth', [7,9,11,13,15,17]),\n",
    "        'random_state': trial.suggest_categorical('random_state', [42]),\n",
    "        'min_child_weight': trial.suggest_categorical('min_child_weight', [1]+list(np.arange(30, 301, 30))),\n",
    "    }\n",
    "    model = xgb.XGBRegressor(**param, objective='reg:tweedie')\n",
    "    model.fit(X_train, y_train)\n",
    "    y_pred = model.predict(X_eval)\n",
    "    score = np.mean(np.abs(y_eval - y_pred)/y_pred)\n",
    "    return score"
   ]
  },
  {
   "cell_type": "code",
   "execution_count": 16,
   "metadata": {},
   "outputs": [
    {
     "name": "stderr",
     "output_type": "stream",
     "text": [
      "[I 2023-10-18 05:17:08,725] A new study created in memory with name: no-name-8ff22dcb-b9f8-4c93-8c57-c2ba0f3c0ca5\n",
      "[I 2023-10-18 05:17:42,331] Trial 0 finished with value: 0.9686010611039348 and parameters: {'lambda': 0.017469857924244384, 'alpha': 0.021020507006867438, 'colsample_bytree': 0.3, 'subsample': 1.0, 'learning_rate': 0.4641588833612777, 'max_depth': 11, 'random_state': 42, 'min_child_weight': 210}. Best is trial 0 with value: 0.9686010611039348.\n",
      "[I 2023-10-18 05:18:17,167] Trial 1 finished with value: 0.9533797828224584 and parameters: {'lambda': 2.565022938549281, 'alpha': 2.37771971887279, 'colsample_bytree': 0.7, 'subsample': 0.8, 'learning_rate': 0.046415888336127774, 'max_depth': 9, 'random_state': 42, 'min_child_weight': 60}. Best is trial 1 with value: 0.9533797828224584.\n",
      "[I 2023-10-18 05:18:51,420] Trial 2 finished with value: 1.1284353114540635 and parameters: {'lambda': 0.11288822786456534, 'alpha': 0.33409310200618453, 'colsample_bytree': 0.6, 'subsample': 0.7, 'learning_rate': 0.046415888336127774, 'max_depth': 7, 'random_state': 42, 'min_child_weight': 240}. Best is trial 1 with value: 0.9533797828224584.\n",
      "[I 2023-10-18 05:19:22,541] Trial 3 finished with value: 2.22020721828141 and parameters: {'lambda': 0.010431129321406225, 'alpha': 0.015605343991810319, 'colsample_bytree': 0.6, 'subsample': 1.0, 'learning_rate': 0.0021544346900318847, 'max_depth': 7, 'random_state': 42, 'min_child_weight': 210}. Best is trial 1 with value: 0.9533797828224584.\n",
      "[I 2023-10-18 05:19:55,355] Trial 4 finished with value: 2.752080072290381 and parameters: {'lambda': 0.04084675662259312, 'alpha': 1.3861354516214541, 'colsample_bytree': 0.5, 'subsample': 0.4, 'learning_rate': 0.001, 'max_depth': 7, 'random_state': 42, 'min_child_weight': 60}. Best is trial 1 with value: 0.9533797828224584.\n",
      "[I 2023-10-18 05:21:04,741] Trial 5 finished with value: 1.0183413799263001 and parameters: {'lambda': 0.29931902434762153, 'alpha': 1.1133357156817683, 'colsample_bytree': 0.6, 'subsample': 0.4, 'learning_rate': 0.046415888336127774, 'max_depth': 15, 'random_state': 42, 'min_child_weight': 30}. Best is trial 1 with value: 0.9533797828224584.\n",
      "[I 2023-10-18 05:21:35,818] Trial 6 finished with value: 1.6627204409406173 and parameters: {'lambda': 0.02504965654331903, 'alpha': 0.038453065885299474, 'colsample_bytree': 0.9, 'subsample': 0.8, 'learning_rate': 0.004641588833612777, 'max_depth': 7, 'random_state': 42, 'min_child_weight': 180}. Best is trial 1 with value: 0.9533797828224584.\n",
      "[I 2023-10-18 05:22:03,956] Trial 7 finished with value: 0.8970510318522058 and parameters: {'lambda': 0.15124134213061285, 'alpha': 0.029587059841552035, 'colsample_bytree': 0.7, 'subsample': 0.8, 'learning_rate': 0.21544346900318823, 'max_depth': 7, 'random_state': 42, 'min_child_weight': 60}. Best is trial 7 with value: 0.8970510318522058.\n",
      "[I 2023-10-18 05:22:32,461] Trial 8 finished with value: 0.9546402963997923 and parameters: {'lambda': 0.957378229489742, 'alpha': 0.31972301333733527, 'colsample_bytree': 0.5, 'subsample': 0.8, 'learning_rate': 1.0, 'max_depth': 7, 'random_state': 42, 'min_child_weight': 90}. Best is trial 7 with value: 0.8970510318522058.\n",
      "[I 2023-10-18 05:23:20,194] Trial 9 finished with value: 1.3923896847042265 and parameters: {'lambda': 0.142571152927477, 'alpha': 0.054772103835922056, 'colsample_bytree': 0.9, 'subsample': 0.4, 'learning_rate': 0.0021544346900318847, 'max_depth': 13, 'random_state': 42, 'min_child_weight': 240}. Best is trial 7 with value: 0.8970510318522058.\n",
      "[I 2023-10-18 05:24:55,714] Trial 10 finished with value: 1.0017264170465825 and parameters: {'lambda': 6.839056261529243, 'alpha': 8.275710738757478, 'colsample_bytree': 1.0, 'subsample': 0.5, 'learning_rate': 0.21544346900318823, 'max_depth': 17, 'random_state': 42, 'min_child_weight': 1}. Best is trial 7 with value: 0.8970510318522058.\n",
      "[I 2023-10-18 05:25:30,958] Trial 11 finished with value: 0.8887096941649459 and parameters: {'lambda': 1.0990599198725726, 'alpha': 0.09843627149751097, 'colsample_bytree': 0.7, 'subsample': 0.6, 'learning_rate': 0.21544346900318823, 'max_depth': 9, 'random_state': 42, 'min_child_weight': 60}. Best is trial 11 with value: 0.8887096941649459.\n",
      "[I 2023-10-18 05:26:04,525] Trial 12 finished with value: 0.8893987754602789 and parameters: {'lambda': 0.756892985871627, 'alpha': 0.09649576296786558, 'colsample_bytree': 0.7, 'subsample': 0.6, 'learning_rate': 0.21544346900318823, 'max_depth': 9, 'random_state': 42, 'min_child_weight': 300}. Best is trial 11 with value: 0.8887096941649459.\n",
      "[I 2023-10-18 05:26:37,546] Trial 13 finished with value: 0.9853925595875238 and parameters: {'lambda': 0.8136839791271603, 'alpha': 0.10501787599955238, 'colsample_bytree': 0.4, 'subsample': 0.6, 'learning_rate': 0.21544346900318823, 'max_depth': 9, 'random_state': 42, 'min_child_weight': 300}. Best is trial 11 with value: 0.8887096941649459.\n",
      "[I 2023-10-18 05:27:13,311] Trial 14 finished with value: 1.2059753808679023 and parameters: {'lambda': 0.8739299309313561, 'alpha': 0.10523570341390058, 'colsample_bytree': 0.7, 'subsample': 0.6, 'learning_rate': 0.01, 'max_depth': 9, 'random_state': 42, 'min_child_weight': 150}. Best is trial 11 with value: 0.8887096941649459.\n",
      "[I 2023-10-18 05:27:50,697] Trial 15 finished with value: 1.0391664750822056 and parameters: {'lambda': 2.4205808627931167, 'alpha': 0.1408377243865444, 'colsample_bytree': 0.8, 'subsample': 0.6, 'learning_rate': 0.021544346900318832, 'max_depth': 9, 'random_state': 42, 'min_child_weight': 270}. Best is trial 11 with value: 0.8887096941649459.\n",
      "[I 2023-10-18 05:28:22,572] Trial 16 finished with value: 0.9410802462180351 and parameters: {'lambda': 0.4853129176081363, 'alpha': 0.06305002353289274, 'colsample_bytree': 0.7, 'subsample': 0.6, 'learning_rate': 0.09999999999999999, 'max_depth': 9, 'random_state': 42, 'min_child_weight': 300}. Best is trial 11 with value: 0.8887096941649459.\n",
      "[I 2023-10-18 05:29:25,363] Trial 17 finished with value: 1.0692989032328373 and parameters: {'lambda': 2.179355633979395, 'alpha': 0.0114297335875003, 'colsample_bytree': 0.7, 'subsample': 0.6, 'learning_rate': 0.21544346900318823, 'max_depth': 15, 'random_state': 42, 'min_child_weight': 120}. Best is trial 11 with value: 0.8887096941649459.\n",
      "[I 2023-10-18 05:30:07,717] Trial 18 finished with value: 0.8973561123979592 and parameters: {'lambda': 6.964452655447944, 'alpha': 0.20615829443413433, 'colsample_bytree': 0.8, 'subsample': 0.5, 'learning_rate': 0.21544346900318823, 'max_depth': 11, 'random_state': 42, 'min_child_weight': 300}. Best is trial 11 with value: 0.8887096941649459.\n",
      "[I 2023-10-18 05:30:55,171] Trial 19 finished with value: 1.0481149365662705 and parameters: {'lambda': 0.36114830157221306, 'alpha': 0.05987185280274442, 'colsample_bytree': 0.3, 'subsample': 0.7, 'learning_rate': 0.4641588833612777, 'max_depth': 17, 'random_state': 42, 'min_child_weight': 30}. Best is trial 11 with value: 0.8887096941649459.\n",
      "[I 2023-10-18 05:31:47,736] Trial 20 finished with value: 1.7085977981359444 and parameters: {'lambda': 1.496400455162009, 'alpha': 0.025814364738138768, 'colsample_bytree': 0.4, 'subsample': 0.6, 'learning_rate': 0.004641588833612777, 'max_depth': 13, 'random_state': 42, 'min_child_weight': 1}. Best is trial 11 with value: 0.8887096941649459.\n",
      "[I 2023-10-18 05:32:22,660] Trial 21 finished with value: 0.9124407799935473 and parameters: {'lambda': 0.19232441822749177, 'alpha': 0.03173915319364337, 'colsample_bytree': 0.7, 'subsample': 0.8, 'learning_rate': 0.21544346900318823, 'max_depth': 9, 'random_state': 42, 'min_child_weight': 60}. Best is trial 11 with value: 0.8887096941649459.\n",
      "[I 2023-10-18 05:32:58,864] Trial 22 finished with value: 0.9004904124716847 and parameters: {'lambda': 0.0683841197223157, 'alpha': 0.01252707254791542, 'colsample_bytree': 0.7, 'subsample': 0.6, 'learning_rate': 0.21544346900318823, 'max_depth': 9, 'random_state': 42, 'min_child_weight': 60}. Best is trial 11 with value: 0.8887096941649459.\n",
      "[I 2023-10-18 05:33:32,861] Trial 23 finished with value: 0.9111196377732748 and parameters: {'lambda': 0.24390297907323358, 'alpha': 0.037111745446156245, 'colsample_bytree': 0.7, 'subsample': 0.8, 'learning_rate': 0.21544346900318823, 'max_depth': 9, 'random_state': 42, 'min_child_weight': 60}. Best is trial 11 with value: 0.8887096941649459.\n",
      "[I 2023-10-18 05:35:02,005] Trial 24 finished with value: 0.888799790714011 and parameters: {'lambda': 0.4736356029380453, 'alpha': 0.07836551203035931, 'colsample_bytree': 1.0, 'subsample': 0.6, 'learning_rate': 0.01, 'max_depth': 17, 'random_state': 42, 'min_child_weight': 90}. Best is trial 11 with value: 0.8887096941649459.\n",
      "[I 2023-10-18 05:36:29,842] Trial 25 finished with value: 0.8878795791163674 and parameters: {'lambda': 0.5623404645495959, 'alpha': 0.196702687907648, 'colsample_bytree': 1.0, 'subsample': 0.6, 'learning_rate': 0.01, 'max_depth': 17, 'random_state': 42, 'min_child_weight': 90}. Best is trial 25 with value: 0.8878795791163674.\n",
      "[I 2023-10-18 05:37:58,464] Trial 26 finished with value: 0.888696776640186 and parameters: {'lambda': 0.46013040351046014, 'alpha': 0.21542119370930204, 'colsample_bytree': 1.0, 'subsample': 0.6, 'learning_rate': 0.01, 'max_depth': 17, 'random_state': 42, 'min_child_weight': 90}. Best is trial 25 with value: 0.8878795791163674.\n",
      "[I 2023-10-18 05:39:28,651] Trial 27 finished with value: 0.8901869049213494 and parameters: {'lambda': 0.4691760366313012, 'alpha': 0.19100863814702532, 'colsample_bytree': 1.0, 'subsample': 0.6, 'learning_rate': 0.01, 'max_depth': 17, 'random_state': 42, 'min_child_weight': 90}. Best is trial 25 with value: 0.8878795791163674.\n",
      "[I 2023-10-18 05:40:56,454] Trial 28 finished with value: 0.888214416818147 and parameters: {'lambda': 0.2659049994751206, 'alpha': 0.43982782005612914, 'colsample_bytree': 1.0, 'subsample': 0.6, 'learning_rate': 0.01, 'max_depth': 17, 'random_state': 42, 'min_child_weight': 90}. Best is trial 25 with value: 0.8878795791163674.\n",
      "[I 2023-10-18 05:42:33,276] Trial 29 finished with value: 0.8853876672244521 and parameters: {'lambda': 0.25351764410475525, 'alpha': 0.48945318454997505, 'colsample_bytree': 1.0, 'subsample': 1.0, 'learning_rate': 0.01, 'max_depth': 17, 'random_state': 42, 'min_child_weight': 90}. Best is trial 29 with value: 0.8853876672244521.\n",
      "[I 2023-10-18 05:44:09,383] Trial 30 finished with value: 0.8839143383179231 and parameters: {'lambda': 0.08227296110398984, 'alpha': 0.4134497112124178, 'colsample_bytree': 1.0, 'subsample': 1.0, 'learning_rate': 0.01, 'max_depth': 17, 'random_state': 42, 'min_child_weight': 90}. Best is trial 30 with value: 0.8839143383179231.\n",
      "[I 2023-10-18 05:45:46,243] Trial 31 finished with value: 0.8882134498482935 and parameters: {'lambda': 0.08894380567602428, 'alpha': 0.46985221691392065, 'colsample_bytree': 1.0, 'subsample': 1.0, 'learning_rate': 0.01, 'max_depth': 17, 'random_state': 42, 'min_child_weight': 90}. Best is trial 30 with value: 0.8839143383179231.\n",
      "[I 2023-10-18 05:47:21,687] Trial 32 finished with value: 0.8810699604131818 and parameters: {'lambda': 0.0762848785936015, 'alpha': 0.5452939908568774, 'colsample_bytree': 1.0, 'subsample': 1.0, 'learning_rate': 0.01, 'max_depth': 17, 'random_state': 42, 'min_child_weight': 90}. Best is trial 32 with value: 0.8810699604131818.\n",
      "[I 2023-10-18 05:49:02,249] Trial 33 finished with value: 0.8876961357448349 and parameters: {'lambda': 0.10142109876901377, 'alpha': 0.6239693965759587, 'colsample_bytree': 1.0, 'subsample': 1.0, 'learning_rate': 0.01, 'max_depth': 17, 'random_state': 42, 'min_child_weight': 90}. Best is trial 32 with value: 0.8810699604131818.\n",
      "[I 2023-10-18 05:50:35,994] Trial 34 finished with value: 0.8822176332298687 and parameters: {'lambda': 0.0637014089850061, 'alpha': 0.617489557992193, 'colsample_bytree': 1.0, 'subsample': 1.0, 'learning_rate': 0.01, 'max_depth': 17, 'random_state': 42, 'min_child_weight': 90}. Best is trial 32 with value: 0.8810699604131818.\n",
      "[I 2023-10-18 05:51:12,820] Trial 35 finished with value: 2.0240889163448292 and parameters: {'lambda': 0.07321493085149958, 'alpha': 0.6696361640451904, 'colsample_bytree': 1.0, 'subsample': 1.0, 'learning_rate': 0.001, 'max_depth': 11, 'random_state': 42, 'min_child_weight': 210}. Best is trial 32 with value: 0.8810699604131818.\n",
      "[I 2023-10-18 05:51:52,649] Trial 36 finished with value: 1.6583388646384511 and parameters: {'lambda': 0.04921919573953929, 'alpha': 1.0943415748714105, 'colsample_bytree': 0.3, 'subsample': 1.0, 'learning_rate': 0.01, 'max_depth': 17, 'random_state': 42, 'min_child_weight': 90}. Best is trial 32 with value: 0.8810699604131818.\n",
      "[I 2023-10-18 05:52:46,469] Trial 37 finished with value: 0.9318241674368578 and parameters: {'lambda': 0.03619252065922259, 'alpha': 0.7455785620192494, 'colsample_bytree': 1.0, 'subsample': 1.0, 'learning_rate': 0.09999999999999999, 'max_depth': 17, 'random_state': 42, 'min_child_weight': 180}. Best is trial 32 with value: 0.8810699604131818.\n",
      "[I 2023-10-18 05:53:43,775] Trial 38 finished with value: 0.8802452034008129 and parameters: {'lambda': 0.019348356105354153, 'alpha': 0.3488268913159849, 'colsample_bytree': 1.0, 'subsample': 1.0, 'learning_rate': 0.021544346900318832, 'max_depth': 15, 'random_state': 42, 'min_child_weight': 150}. Best is trial 38 with value: 0.8802452034008129.\n",
      "[I 2023-10-18 05:54:44,250] Trial 39 finished with value: 1.0055758305360702 and parameters: {'lambda': 0.018510147310356283, 'alpha': 0.2982324003253856, 'colsample_bytree': 0.6, 'subsample': 1.0, 'learning_rate': 0.021544346900318832, 'max_depth': 15, 'random_state': 42, 'min_child_weight': 150}. Best is trial 38 with value: 0.8802452034008129.\n",
      "[I 2023-10-18 05:55:41,594] Trial 40 finished with value: 0.9153103031022812 and parameters: {'lambda': 0.013026457797901176, 'alpha': 1.7412481097626942, 'colsample_bytree': 0.9, 'subsample': 1.0, 'learning_rate': 0.021544346900318832, 'max_depth': 15, 'random_state': 42, 'min_child_weight': 150}. Best is trial 38 with value: 0.8802452034008129.\n",
      "[I 2023-10-18 05:56:35,035] Trial 41 finished with value: 1.2076664996624493 and parameters: {'lambda': 0.0279770679439387, 'alpha': 0.3684399105381846, 'colsample_bytree': 1.0, 'subsample': 1.0, 'learning_rate': 1.0, 'max_depth': 15, 'random_state': 42, 'min_child_weight': 270}. Best is trial 38 with value: 0.8802452034008129.\n",
      "[I 2023-10-18 05:57:38,555] Trial 42 finished with value: 1.0749232277000056 and parameters: {'lambda': 0.054976411341773654, 'alpha': 0.5221340732578329, 'colsample_bytree': 0.5, 'subsample': 1.0, 'learning_rate': 0.046415888336127774, 'max_depth': 17, 'random_state': 42, 'min_child_weight': 120}. Best is trial 38 with value: 0.8802452034008129.\n",
      "[I 2023-10-18 05:58:22,380] Trial 43 finished with value: 0.9968573373987702 and parameters: {'lambda': 0.13336753274225846, 'alpha': 0.8234004093226526, 'colsample_bytree': 1.0, 'subsample': 1.0, 'learning_rate': 0.4641588833612777, 'max_depth': 13, 'random_state': 42, 'min_child_weight': 150}. Best is trial 38 with value: 0.8802452034008129.\n",
      "[I 2023-10-18 05:59:25,399] Trial 44 finished with value: 0.8742204092374735 and parameters: {'lambda': 0.0397484994346091, 'alpha': 0.3116501857866031, 'colsample_bytree': 1.0, 'subsample': 1.0, 'learning_rate': 0.021544346900318832, 'max_depth': 17, 'random_state': 42, 'min_child_weight': 240}. Best is trial 44 with value: 0.8742204092374735.\n",
      "[I 2023-10-18 06:00:23,677] Trial 45 finished with value: 0.8844893910972745 and parameters: {'lambda': 0.03536965322314793, 'alpha': 0.2959033926324011, 'colsample_bytree': 1.0, 'subsample': 0.7, 'learning_rate': 0.021544346900318832, 'max_depth': 15, 'random_state': 42, 'min_child_weight': 240}. Best is trial 44 with value: 0.8742204092374735.\n",
      "[I 2023-10-18 06:01:04,390] Trial 46 finished with value: 1.0677404520404452 and parameters: {'lambda': 0.022697338457804913, 'alpha': 1.0295248072041387, 'colsample_bytree': 0.6, 'subsample': 0.4, 'learning_rate': 0.021544346900318832, 'max_depth': 11, 'random_state': 42, 'min_child_weight': 240}. Best is trial 44 with value: 0.8742204092374735.\n",
      "[I 2023-10-18 06:01:34,750] Trial 47 finished with value: 2.0883524416280492 and parameters: {'lambda': 0.04802646417169112, 'alpha': 0.36378082531738265, 'colsample_bytree': 1.0, 'subsample': 1.0, 'learning_rate': 0.0021544346900318847, 'max_depth': 7, 'random_state': 42, 'min_child_weight': 240}. Best is trial 44 with value: 0.8742204092374735.\n",
      "[I 2023-10-18 06:02:40,174] Trial 48 finished with value: 1.0829182074777477 and parameters: {'lambda': 0.028066189049289186, 'alpha': 0.6005376813540053, 'colsample_bytree': 0.5, 'subsample': 1.0, 'learning_rate': 0.021544346900318832, 'max_depth': 17, 'random_state': 42, 'min_child_weight': 210}. Best is trial 44 with value: 0.8742204092374735.\n",
      "[I 2023-10-18 06:03:51,197] Trial 49 finished with value: 1.8100018318478086 and parameters: {'lambda': 0.014109401122779358, 'alpha': 0.8433271222611362, 'colsample_bytree': 0.4, 'subsample': 0.5, 'learning_rate': 1.0, 'max_depth': 17, 'random_state': 42, 'min_child_weight': 30}. Best is trial 44 with value: 0.8742204092374735.\n",
      "[I 2023-10-18 06:04:43,844] Trial 50 finished with value: 0.9288804193492864 and parameters: {'lambda': 0.0646984573684091, 'alpha': 1.5963731000867203, 'colsample_bytree': 0.8, 'subsample': 1.0, 'learning_rate': 0.046415888336127774, 'max_depth': 15, 'random_state': 42, 'min_child_weight': 240}. Best is trial 44 with value: 0.8742204092374735.\n",
      "[I 2023-10-18 06:05:44,624] Trial 51 finished with value: 0.8799608075489805 and parameters: {'lambda': 0.036475458969875696, 'alpha': 0.30443258322458666, 'colsample_bytree': 1.0, 'subsample': 0.7, 'learning_rate': 0.021544346900318832, 'max_depth': 15, 'random_state': 42, 'min_child_weight': 240}. Best is trial 44 with value: 0.8742204092374735.\n",
      "[I 2023-10-18 06:06:46,045] Trial 52 finished with value: 0.8850794122937417 and parameters: {'lambda': 0.04006056570828245, 'alpha': 0.2608395287183098, 'colsample_bytree': 1.0, 'subsample': 0.7, 'learning_rate': 0.021544346900318832, 'max_depth': 15, 'random_state': 42, 'min_child_weight': 240}. Best is trial 44 with value: 0.8742204092374735.\n",
      "[I 2023-10-18 06:07:51,530] Trial 53 finished with value: 0.886690260021462 and parameters: {'lambda': 0.10980055603795277, 'alpha': 0.3796444795706784, 'colsample_bytree': 1.0, 'subsample': 0.7, 'learning_rate': 0.021544346900318832, 'max_depth': 15, 'random_state': 42, 'min_child_weight': 180}. Best is trial 44 with value: 0.8742204092374735.\n",
      "[W 2023-10-18 06:09:29,535] Trial 54 failed with parameters: {'lambda': 0.01934529639282486, 'alpha': 0.16364330861806098, 'colsample_bytree': 0.9, 'subsample': 0.7, 'learning_rate': 0.004641588833612777, 'max_depth': 15, 'random_state': 42, 'min_child_weight': 1} because of the following error: KeyboardInterrupt().\n",
      "Traceback (most recent call last):\n",
      "  File \"/usr/local/lib/python3.10/dist-packages/optuna/study/_optimize.py\", line 200, in _run_trial\n",
      "    value_or_values = func(trial)\n",
      "  File \"/tmp/ipykernel_3094/2512352814.py\", line 14, in objective\n",
      "    model.fit(X_train, y_train)\n",
      "  File \"/usr/local/lib/python3.10/dist-packages/xgboost/core.py\", line 729, in inner_f\n",
      "    return func(**kwargs)\n",
      "  File \"/usr/local/lib/python3.10/dist-packages/xgboost/sklearn.py\", line 1086, in fit\n",
      "    self._Booster = train(\n",
      "  File \"/usr/local/lib/python3.10/dist-packages/xgboost/core.py\", line 729, in inner_f\n",
      "    return func(**kwargs)\n",
      "  File \"/usr/local/lib/python3.10/dist-packages/xgboost/training.py\", line 181, in train\n",
      "    bst.update(dtrain, i, obj)\n",
      "  File \"/usr/local/lib/python3.10/dist-packages/xgboost/core.py\", line 2050, in update\n",
      "    _LIB.XGBoosterUpdateOneIter(\n",
      "KeyboardInterrupt\n",
      "[W 2023-10-18 06:09:29,536] Trial 54 failed with value None.\n"
     ]
    },
    {
     "ename": "KeyboardInterrupt",
     "evalue": "",
     "output_type": "error",
     "traceback": [
      "\u001b[0;31m---------------------------------------------------------------------------\u001b[0m",
      "\u001b[0;31mKeyboardInterrupt\u001b[0m                         Traceback (most recent call last)",
      "\u001b[0;32m/tmp/ipykernel_3094/2300179341.py\u001b[0m in \u001b[0;36m<module>\u001b[0;34m\u001b[0m\n\u001b[1;32m      1\u001b[0m \u001b[0mstudy\u001b[0m \u001b[0;34m=\u001b[0m \u001b[0moptuna\u001b[0m\u001b[0;34m.\u001b[0m\u001b[0mcreate_study\u001b[0m\u001b[0;34m(\u001b[0m\u001b[0mdirection\u001b[0m\u001b[0;34m=\u001b[0m\u001b[0;34m'minimize'\u001b[0m\u001b[0;34m)\u001b[0m\u001b[0;34m\u001b[0m\u001b[0;34m\u001b[0m\u001b[0m\n\u001b[0;32m----> 2\u001b[0;31m \u001b[0mstudy\u001b[0m\u001b[0;34m.\u001b[0m\u001b[0moptimize\u001b[0m\u001b[0;34m(\u001b[0m\u001b[0mobjective\u001b[0m\u001b[0;34m,\u001b[0m \u001b[0mn_trials\u001b[0m\u001b[0;34m=\u001b[0m\u001b[0;36m1000\u001b[0m\u001b[0;34m)\u001b[0m\u001b[0;34m\u001b[0m\u001b[0;34m\u001b[0m\u001b[0m\n\u001b[0m\u001b[1;32m      3\u001b[0m \u001b[0mprint\u001b[0m\u001b[0;34m(\u001b[0m\u001b[0;34m'Number of finished trials:'\u001b[0m\u001b[0;34m,\u001b[0m \u001b[0mlen\u001b[0m\u001b[0;34m(\u001b[0m\u001b[0mstudy\u001b[0m\u001b[0;34m.\u001b[0m\u001b[0mtrials\u001b[0m\u001b[0;34m)\u001b[0m\u001b[0;34m)\u001b[0m\u001b[0;34m\u001b[0m\u001b[0;34m\u001b[0m\u001b[0m\n\u001b[1;32m      4\u001b[0m \u001b[0mprint\u001b[0m\u001b[0;34m(\u001b[0m\u001b[0;34m'Best trial:'\u001b[0m\u001b[0;34m,\u001b[0m \u001b[0mstudy\u001b[0m\u001b[0;34m.\u001b[0m\u001b[0mbest_trial\u001b[0m\u001b[0;34m.\u001b[0m\u001b[0mparams\u001b[0m\u001b[0;34m)\u001b[0m\u001b[0;34m\u001b[0m\u001b[0;34m\u001b[0m\u001b[0m\n",
      "\u001b[0;32m/usr/local/lib/python3.10/dist-packages/optuna/study/study.py\u001b[0m in \u001b[0;36moptimize\u001b[0;34m(self, func, n_trials, timeout, n_jobs, catch, callbacks, gc_after_trial, show_progress_bar)\u001b[0m\n\u001b[1;32m    449\u001b[0m                 \u001b[0mIf\u001b[0m \u001b[0mnested\u001b[0m \u001b[0minvocation\u001b[0m \u001b[0mof\u001b[0m \u001b[0mthis\u001b[0m \u001b[0mmethod\u001b[0m \u001b[0moccurs\u001b[0m\u001b[0;34m.\u001b[0m\u001b[0;34m\u001b[0m\u001b[0;34m\u001b[0m\u001b[0m\n\u001b[1;32m    450\u001b[0m         \"\"\"\n\u001b[0;32m--> 451\u001b[0;31m         _optimize(\n\u001b[0m\u001b[1;32m    452\u001b[0m             \u001b[0mstudy\u001b[0m\u001b[0;34m=\u001b[0m\u001b[0mself\u001b[0m\u001b[0;34m,\u001b[0m\u001b[0;34m\u001b[0m\u001b[0;34m\u001b[0m\u001b[0m\n\u001b[1;32m    453\u001b[0m             \u001b[0mfunc\u001b[0m\u001b[0;34m=\u001b[0m\u001b[0mfunc\u001b[0m\u001b[0;34m,\u001b[0m\u001b[0;34m\u001b[0m\u001b[0;34m\u001b[0m\u001b[0m\n",
      "\u001b[0;32m/usr/local/lib/python3.10/dist-packages/optuna/study/_optimize.py\u001b[0m in \u001b[0;36m_optimize\u001b[0;34m(study, func, n_trials, timeout, n_jobs, catch, callbacks, gc_after_trial, show_progress_bar)\u001b[0m\n\u001b[1;32m     64\u001b[0m     \u001b[0;32mtry\u001b[0m\u001b[0;34m:\u001b[0m\u001b[0;34m\u001b[0m\u001b[0;34m\u001b[0m\u001b[0m\n\u001b[1;32m     65\u001b[0m         \u001b[0;32mif\u001b[0m \u001b[0mn_jobs\u001b[0m \u001b[0;34m==\u001b[0m \u001b[0;36m1\u001b[0m\u001b[0;34m:\u001b[0m\u001b[0;34m\u001b[0m\u001b[0;34m\u001b[0m\u001b[0m\n\u001b[0;32m---> 66\u001b[0;31m             _optimize_sequential(\n\u001b[0m\u001b[1;32m     67\u001b[0m                 \u001b[0mstudy\u001b[0m\u001b[0;34m,\u001b[0m\u001b[0;34m\u001b[0m\u001b[0;34m\u001b[0m\u001b[0m\n\u001b[1;32m     68\u001b[0m                 \u001b[0mfunc\u001b[0m\u001b[0;34m,\u001b[0m\u001b[0;34m\u001b[0m\u001b[0;34m\u001b[0m\u001b[0m\n",
      "\u001b[0;32m/usr/local/lib/python3.10/dist-packages/optuna/study/_optimize.py\u001b[0m in \u001b[0;36m_optimize_sequential\u001b[0;34m(study, func, n_trials, timeout, catch, callbacks, gc_after_trial, reseed_sampler_rng, time_start, progress_bar)\u001b[0m\n\u001b[1;32m    161\u001b[0m \u001b[0;34m\u001b[0m\u001b[0m\n\u001b[1;32m    162\u001b[0m         \u001b[0;32mtry\u001b[0m\u001b[0;34m:\u001b[0m\u001b[0;34m\u001b[0m\u001b[0;34m\u001b[0m\u001b[0m\n\u001b[0;32m--> 163\u001b[0;31m             \u001b[0mfrozen_trial\u001b[0m \u001b[0;34m=\u001b[0m \u001b[0m_run_trial\u001b[0m\u001b[0;34m(\u001b[0m\u001b[0mstudy\u001b[0m\u001b[0;34m,\u001b[0m \u001b[0mfunc\u001b[0m\u001b[0;34m,\u001b[0m \u001b[0mcatch\u001b[0m\u001b[0;34m)\u001b[0m\u001b[0;34m\u001b[0m\u001b[0;34m\u001b[0m\u001b[0m\n\u001b[0m\u001b[1;32m    164\u001b[0m         \u001b[0;32mfinally\u001b[0m\u001b[0;34m:\u001b[0m\u001b[0;34m\u001b[0m\u001b[0;34m\u001b[0m\u001b[0m\n\u001b[1;32m    165\u001b[0m             \u001b[0;31m# The following line mitigates memory problems that can be occurred in some\u001b[0m\u001b[0;34m\u001b[0m\u001b[0;34m\u001b[0m\u001b[0m\n",
      "\u001b[0;32m/usr/local/lib/python3.10/dist-packages/optuna/study/_optimize.py\u001b[0m in \u001b[0;36m_run_trial\u001b[0;34m(study, func, catch)\u001b[0m\n\u001b[1;32m    249\u001b[0m         \u001b[0;32mand\u001b[0m \u001b[0;32mnot\u001b[0m \u001b[0misinstance\u001b[0m\u001b[0;34m(\u001b[0m\u001b[0mfunc_err\u001b[0m\u001b[0;34m,\u001b[0m \u001b[0mcatch\u001b[0m\u001b[0;34m)\u001b[0m\u001b[0;34m\u001b[0m\u001b[0;34m\u001b[0m\u001b[0m\n\u001b[1;32m    250\u001b[0m     ):\n\u001b[0;32m--> 251\u001b[0;31m         \u001b[0;32mraise\u001b[0m \u001b[0mfunc_err\u001b[0m\u001b[0;34m\u001b[0m\u001b[0;34m\u001b[0m\u001b[0m\n\u001b[0m\u001b[1;32m    252\u001b[0m     \u001b[0;32mreturn\u001b[0m \u001b[0mfrozen_trial\u001b[0m\u001b[0;34m\u001b[0m\u001b[0;34m\u001b[0m\u001b[0m\n\u001b[1;32m    253\u001b[0m \u001b[0;34m\u001b[0m\u001b[0m\n",
      "\u001b[0;32m/usr/local/lib/python3.10/dist-packages/optuna/study/_optimize.py\u001b[0m in \u001b[0;36m_run_trial\u001b[0;34m(study, func, catch)\u001b[0m\n\u001b[1;32m    198\u001b[0m     \u001b[0;32mwith\u001b[0m \u001b[0mget_heartbeat_thread\u001b[0m\u001b[0;34m(\u001b[0m\u001b[0mtrial\u001b[0m\u001b[0;34m.\u001b[0m\u001b[0m_trial_id\u001b[0m\u001b[0;34m,\u001b[0m \u001b[0mstudy\u001b[0m\u001b[0;34m.\u001b[0m\u001b[0m_storage\u001b[0m\u001b[0;34m)\u001b[0m\u001b[0;34m:\u001b[0m\u001b[0;34m\u001b[0m\u001b[0;34m\u001b[0m\u001b[0m\n\u001b[1;32m    199\u001b[0m         \u001b[0;32mtry\u001b[0m\u001b[0;34m:\u001b[0m\u001b[0;34m\u001b[0m\u001b[0;34m\u001b[0m\u001b[0m\n\u001b[0;32m--> 200\u001b[0;31m             \u001b[0mvalue_or_values\u001b[0m \u001b[0;34m=\u001b[0m \u001b[0mfunc\u001b[0m\u001b[0;34m(\u001b[0m\u001b[0mtrial\u001b[0m\u001b[0;34m)\u001b[0m\u001b[0;34m\u001b[0m\u001b[0;34m\u001b[0m\u001b[0m\n\u001b[0m\u001b[1;32m    201\u001b[0m         \u001b[0;32mexcept\u001b[0m \u001b[0mexceptions\u001b[0m\u001b[0;34m.\u001b[0m\u001b[0mTrialPruned\u001b[0m \u001b[0;32mas\u001b[0m \u001b[0me\u001b[0m\u001b[0;34m:\u001b[0m\u001b[0;34m\u001b[0m\u001b[0;34m\u001b[0m\u001b[0m\n\u001b[1;32m    202\u001b[0m             \u001b[0;31m# TODO(mamu): Handle multi-objective cases.\u001b[0m\u001b[0;34m\u001b[0m\u001b[0;34m\u001b[0m\u001b[0m\n",
      "\u001b[0;32m/tmp/ipykernel_3094/2512352814.py\u001b[0m in \u001b[0;36mobjective\u001b[0;34m(trial, X_train, y_train, X_eval, y_eval)\u001b[0m\n\u001b[1;32m     12\u001b[0m     }\n\u001b[1;32m     13\u001b[0m     \u001b[0mmodel\u001b[0m \u001b[0;34m=\u001b[0m \u001b[0mxgb\u001b[0m\u001b[0;34m.\u001b[0m\u001b[0mXGBRegressor\u001b[0m\u001b[0;34m(\u001b[0m\u001b[0;34m**\u001b[0m\u001b[0mparam\u001b[0m\u001b[0;34m,\u001b[0m \u001b[0mobjective\u001b[0m\u001b[0;34m=\u001b[0m\u001b[0;34m'reg:tweedie'\u001b[0m\u001b[0;34m)\u001b[0m\u001b[0;34m\u001b[0m\u001b[0;34m\u001b[0m\u001b[0m\n\u001b[0;32m---> 14\u001b[0;31m     \u001b[0mmodel\u001b[0m\u001b[0;34m.\u001b[0m\u001b[0mfit\u001b[0m\u001b[0;34m(\u001b[0m\u001b[0mX_train\u001b[0m\u001b[0;34m,\u001b[0m \u001b[0my_train\u001b[0m\u001b[0;34m)\u001b[0m\u001b[0;34m\u001b[0m\u001b[0;34m\u001b[0m\u001b[0m\n\u001b[0m\u001b[1;32m     15\u001b[0m     \u001b[0my_pred\u001b[0m \u001b[0;34m=\u001b[0m \u001b[0mmodel\u001b[0m\u001b[0;34m.\u001b[0m\u001b[0mpredict\u001b[0m\u001b[0;34m(\u001b[0m\u001b[0mX_eval\u001b[0m\u001b[0;34m)\u001b[0m\u001b[0;34m\u001b[0m\u001b[0;34m\u001b[0m\u001b[0m\n\u001b[1;32m     16\u001b[0m     \u001b[0mscore\u001b[0m \u001b[0;34m=\u001b[0m \u001b[0mnp\u001b[0m\u001b[0;34m.\u001b[0m\u001b[0mmean\u001b[0m\u001b[0;34m(\u001b[0m\u001b[0mnp\u001b[0m\u001b[0;34m.\u001b[0m\u001b[0mabs\u001b[0m\u001b[0;34m(\u001b[0m\u001b[0my_eval\u001b[0m \u001b[0;34m-\u001b[0m \u001b[0my_pred\u001b[0m\u001b[0;34m)\u001b[0m\u001b[0;34m/\u001b[0m\u001b[0my_pred\u001b[0m\u001b[0;34m)\u001b[0m\u001b[0;34m\u001b[0m\u001b[0;34m\u001b[0m\u001b[0m\n",
      "\u001b[0;32m/usr/local/lib/python3.10/dist-packages/xgboost/core.py\u001b[0m in \u001b[0;36minner_f\u001b[0;34m(*args, **kwargs)\u001b[0m\n\u001b[1;32m    727\u001b[0m             \u001b[0;32mfor\u001b[0m \u001b[0mk\u001b[0m\u001b[0;34m,\u001b[0m \u001b[0marg\u001b[0m \u001b[0;32min\u001b[0m \u001b[0mzip\u001b[0m\u001b[0;34m(\u001b[0m\u001b[0msig\u001b[0m\u001b[0;34m.\u001b[0m\u001b[0mparameters\u001b[0m\u001b[0;34m,\u001b[0m \u001b[0margs\u001b[0m\u001b[0;34m)\u001b[0m\u001b[0;34m:\u001b[0m\u001b[0;34m\u001b[0m\u001b[0;34m\u001b[0m\u001b[0m\n\u001b[1;32m    728\u001b[0m                 \u001b[0mkwargs\u001b[0m\u001b[0;34m[\u001b[0m\u001b[0mk\u001b[0m\u001b[0;34m]\u001b[0m \u001b[0;34m=\u001b[0m \u001b[0marg\u001b[0m\u001b[0;34m\u001b[0m\u001b[0;34m\u001b[0m\u001b[0m\n\u001b[0;32m--> 729\u001b[0;31m             \u001b[0;32mreturn\u001b[0m \u001b[0mfunc\u001b[0m\u001b[0;34m(\u001b[0m\u001b[0;34m**\u001b[0m\u001b[0mkwargs\u001b[0m\u001b[0;34m)\u001b[0m\u001b[0;34m\u001b[0m\u001b[0;34m\u001b[0m\u001b[0m\n\u001b[0m\u001b[1;32m    730\u001b[0m \u001b[0;34m\u001b[0m\u001b[0m\n\u001b[1;32m    731\u001b[0m         \u001b[0;32mreturn\u001b[0m \u001b[0minner_f\u001b[0m\u001b[0;34m\u001b[0m\u001b[0;34m\u001b[0m\u001b[0m\n",
      "\u001b[0;32m/usr/local/lib/python3.10/dist-packages/xgboost/sklearn.py\u001b[0m in \u001b[0;36mfit\u001b[0;34m(self, X, y, sample_weight, base_margin, eval_set, eval_metric, early_stopping_rounds, verbose, xgb_model, sample_weight_eval_set, base_margin_eval_set, feature_weights, callbacks)\u001b[0m\n\u001b[1;32m   1084\u001b[0m                 \u001b[0mxgb_model\u001b[0m\u001b[0;34m,\u001b[0m \u001b[0meval_metric\u001b[0m\u001b[0;34m,\u001b[0m \u001b[0mparams\u001b[0m\u001b[0;34m,\u001b[0m \u001b[0mearly_stopping_rounds\u001b[0m\u001b[0;34m,\u001b[0m \u001b[0mcallbacks\u001b[0m\u001b[0;34m\u001b[0m\u001b[0;34m\u001b[0m\u001b[0m\n\u001b[1;32m   1085\u001b[0m             )\n\u001b[0;32m-> 1086\u001b[0;31m             self._Booster = train(\n\u001b[0m\u001b[1;32m   1087\u001b[0m                 \u001b[0mparams\u001b[0m\u001b[0;34m,\u001b[0m\u001b[0;34m\u001b[0m\u001b[0;34m\u001b[0m\u001b[0m\n\u001b[1;32m   1088\u001b[0m                 \u001b[0mtrain_dmatrix\u001b[0m\u001b[0;34m,\u001b[0m\u001b[0;34m\u001b[0m\u001b[0;34m\u001b[0m\u001b[0m\n",
      "\u001b[0;32m/usr/local/lib/python3.10/dist-packages/xgboost/core.py\u001b[0m in \u001b[0;36minner_f\u001b[0;34m(*args, **kwargs)\u001b[0m\n\u001b[1;32m    727\u001b[0m             \u001b[0;32mfor\u001b[0m \u001b[0mk\u001b[0m\u001b[0;34m,\u001b[0m \u001b[0marg\u001b[0m \u001b[0;32min\u001b[0m \u001b[0mzip\u001b[0m\u001b[0;34m(\u001b[0m\u001b[0msig\u001b[0m\u001b[0;34m.\u001b[0m\u001b[0mparameters\u001b[0m\u001b[0;34m,\u001b[0m \u001b[0margs\u001b[0m\u001b[0;34m)\u001b[0m\u001b[0;34m:\u001b[0m\u001b[0;34m\u001b[0m\u001b[0;34m\u001b[0m\u001b[0m\n\u001b[1;32m    728\u001b[0m                 \u001b[0mkwargs\u001b[0m\u001b[0;34m[\u001b[0m\u001b[0mk\u001b[0m\u001b[0;34m]\u001b[0m \u001b[0;34m=\u001b[0m \u001b[0marg\u001b[0m\u001b[0;34m\u001b[0m\u001b[0;34m\u001b[0m\u001b[0m\n\u001b[0;32m--> 729\u001b[0;31m             \u001b[0;32mreturn\u001b[0m \u001b[0mfunc\u001b[0m\u001b[0;34m(\u001b[0m\u001b[0;34m**\u001b[0m\u001b[0mkwargs\u001b[0m\u001b[0;34m)\u001b[0m\u001b[0;34m\u001b[0m\u001b[0;34m\u001b[0m\u001b[0m\n\u001b[0m\u001b[1;32m    730\u001b[0m \u001b[0;34m\u001b[0m\u001b[0m\n\u001b[1;32m    731\u001b[0m         \u001b[0;32mreturn\u001b[0m \u001b[0minner_f\u001b[0m\u001b[0;34m\u001b[0m\u001b[0;34m\u001b[0m\u001b[0m\n",
      "\u001b[0;32m/usr/local/lib/python3.10/dist-packages/xgboost/training.py\u001b[0m in \u001b[0;36mtrain\u001b[0;34m(params, dtrain, num_boost_round, evals, obj, feval, maximize, early_stopping_rounds, evals_result, verbose_eval, xgb_model, callbacks, custom_metric)\u001b[0m\n\u001b[1;32m    179\u001b[0m         \u001b[0;32mif\u001b[0m \u001b[0mcb_container\u001b[0m\u001b[0;34m.\u001b[0m\u001b[0mbefore_iteration\u001b[0m\u001b[0;34m(\u001b[0m\u001b[0mbst\u001b[0m\u001b[0;34m,\u001b[0m \u001b[0mi\u001b[0m\u001b[0;34m,\u001b[0m \u001b[0mdtrain\u001b[0m\u001b[0;34m,\u001b[0m \u001b[0mevals\u001b[0m\u001b[0;34m)\u001b[0m\u001b[0;34m:\u001b[0m\u001b[0;34m\u001b[0m\u001b[0;34m\u001b[0m\u001b[0m\n\u001b[1;32m    180\u001b[0m             \u001b[0;32mbreak\u001b[0m\u001b[0;34m\u001b[0m\u001b[0;34m\u001b[0m\u001b[0m\n\u001b[0;32m--> 181\u001b[0;31m         \u001b[0mbst\u001b[0m\u001b[0;34m.\u001b[0m\u001b[0mupdate\u001b[0m\u001b[0;34m(\u001b[0m\u001b[0mdtrain\u001b[0m\u001b[0;34m,\u001b[0m \u001b[0mi\u001b[0m\u001b[0;34m,\u001b[0m \u001b[0mobj\u001b[0m\u001b[0;34m)\u001b[0m\u001b[0;34m\u001b[0m\u001b[0;34m\u001b[0m\u001b[0m\n\u001b[0m\u001b[1;32m    182\u001b[0m         \u001b[0;32mif\u001b[0m \u001b[0mcb_container\u001b[0m\u001b[0;34m.\u001b[0m\u001b[0mafter_iteration\u001b[0m\u001b[0;34m(\u001b[0m\u001b[0mbst\u001b[0m\u001b[0;34m,\u001b[0m \u001b[0mi\u001b[0m\u001b[0;34m,\u001b[0m \u001b[0mdtrain\u001b[0m\u001b[0;34m,\u001b[0m \u001b[0mevals\u001b[0m\u001b[0;34m)\u001b[0m\u001b[0;34m:\u001b[0m\u001b[0;34m\u001b[0m\u001b[0;34m\u001b[0m\u001b[0m\n\u001b[1;32m    183\u001b[0m             \u001b[0;32mbreak\u001b[0m\u001b[0;34m\u001b[0m\u001b[0;34m\u001b[0m\u001b[0m\n",
      "\u001b[0;32m/usr/local/lib/python3.10/dist-packages/xgboost/core.py\u001b[0m in \u001b[0;36mupdate\u001b[0;34m(self, dtrain, iteration, fobj)\u001b[0m\n\u001b[1;32m   2048\u001b[0m         \u001b[0;32mif\u001b[0m \u001b[0mfobj\u001b[0m \u001b[0;32mis\u001b[0m \u001b[0;32mNone\u001b[0m\u001b[0;34m:\u001b[0m\u001b[0;34m\u001b[0m\u001b[0;34m\u001b[0m\u001b[0m\n\u001b[1;32m   2049\u001b[0m             _check_call(\n\u001b[0;32m-> 2050\u001b[0;31m                 _LIB.XGBoosterUpdateOneIter(\n\u001b[0m\u001b[1;32m   2051\u001b[0m                     \u001b[0mself\u001b[0m\u001b[0;34m.\u001b[0m\u001b[0mhandle\u001b[0m\u001b[0;34m,\u001b[0m \u001b[0mctypes\u001b[0m\u001b[0;34m.\u001b[0m\u001b[0mc_int\u001b[0m\u001b[0;34m(\u001b[0m\u001b[0miteration\u001b[0m\u001b[0;34m)\u001b[0m\u001b[0;34m,\u001b[0m \u001b[0mdtrain\u001b[0m\u001b[0;34m.\u001b[0m\u001b[0mhandle\u001b[0m\u001b[0;34m\u001b[0m\u001b[0;34m\u001b[0m\u001b[0m\n\u001b[1;32m   2052\u001b[0m                 )\n",
      "\u001b[0;31mKeyboardInterrupt\u001b[0m: "
     ]
    }
   ],
   "source": [
    "study = optuna.create_study(direction='minimize')\n",
    "study.optimize(objective, n_trials=1000)\n",
    "print('Number of finished trials:', len(study.trials))\n",
    "print('Best trial:', study.best_trial.params)"
   ]
  },
  {
   "cell_type": "code",
   "execution_count": 17,
   "metadata": {},
   "outputs": [],
   "source": [
    "def objective(trial, X_train=df[feats], y_train=df[target], X_eval=df_v[feats], y_eval=df_v[target]):\n",
    "    param = {\n",
    "        'lambda': trial.suggest_categorical('lambda', np.logspace(-1, 1, 10)),\n",
    "        'alpha': trial.suggest_categorical('alpha', np.logspace(-1, 1, 10)),\n",
    "        'colsample_bytree': trial.suggest_categorical('colsample_bytree', [0.4,0.6,0.8,1.0]),\n",
    "        'subsample': trial.suggest_categorical('subsample', [0.4,0.6,0.8,1.0]),\n",
    "        'learning_rate': trial.suggest_categorical('learning_rate', np.logspace(-2, 0, 10)),\n",
    "        'n_estimators': trial.suggest_categorical('n_estimators', [800, 1000]),\n",
    "        'max_depth': trial.suggest_categorical('max_depth', [7,9,11,13,15,17]),\n",
    "        'random_state': trial.suggest_categorical('random_state', [42]),\n",
    "        'min_child_weight': trial.suggest_categorical('min_child_weight', [1]+list(np.arange(30, 301, 30))),\n",
    "    }\n",
    "    model = xgb.XGBRegressor(**param, objective='reg:tweedie')\n",
    "    model.fit(X_train, y_train)\n",
    "    y_pred = model.predict(X_eval)\n",
    "    score = np.mean(np.abs(y_eval - y_pred)/y_pred)\n",
    "    return score"
   ]
  },
  {
   "cell_type": "code",
   "execution_count": 18,
   "metadata": {},
   "outputs": [
    {
     "name": "stderr",
     "output_type": "stream",
     "text": [
      "[I 2023-10-18 06:11:28,939] A new study created in memory with name: no-name-d304af7d-4b4c-4592-b594-e8407a2ef2ad\n",
      "[I 2023-10-18 06:12:28,021] Trial 0 finished with value: 0.912793400724224 and parameters: {'lambda': 10.0, 'alpha': 0.2782559402207124, 'colsample_bytree': 1.0, 'subsample': 0.4, 'learning_rate': 0.01668100537200059, 'n_estimators': 800, 'max_depth': 13, 'random_state': 42, 'min_child_weight': 300}. Best is trial 0 with value: 0.912793400724224.\n",
      "[I 2023-10-18 06:13:25,123] Trial 1 finished with value: 1.3760503797968728 and parameters: {'lambda': 3.5938136638046254, 'alpha': 0.2782559402207124, 'colsample_bytree': 0.4, 'subsample': 0.4, 'learning_rate': 0.01, 'n_estimators': 800, 'max_depth': 13, 'random_state': 42, 'min_child_weight': 30}. Best is trial 0 with value: 0.912793400724224.\n",
      "[I 2023-10-18 06:14:37,422] Trial 2 finished with value: 1.0601769843284732 and parameters: {'lambda': 10.0, 'alpha': 2.1544346900318834, 'colsample_bytree': 0.4, 'subsample': 0.6, 'learning_rate': 0.046415888336127774, 'n_estimators': 1000, 'max_depth': 13, 'random_state': 42, 'min_child_weight': 270}. Best is trial 0 with value: 0.912793400724224.\n",
      "[I 2023-10-18 06:15:26,487] Trial 3 finished with value: 0.9527478987532312 and parameters: {'lambda': 10.0, 'alpha': 1.2915496650148839, 'colsample_bytree': 0.4, 'subsample': 0.6, 'learning_rate': 1.0, 'n_estimators': 1000, 'max_depth': 7, 'random_state': 42, 'min_child_weight': 270}. Best is trial 0 with value: 0.912793400724224.\n",
      "[I 2023-10-18 06:16:31,594] Trial 4 finished with value: 0.9696699787113163 and parameters: {'lambda': 0.09999999999999999, 'alpha': 3.5938136638046254, 'colsample_bytree': 0.6, 'subsample': 0.6, 'learning_rate': 0.046415888336127774, 'n_estimators': 1000, 'max_depth': 11, 'random_state': 42, 'min_child_weight': 1}. Best is trial 0 with value: 0.912793400724224.\n",
      "[I 2023-10-18 06:18:00,533] Trial 5 finished with value: 1.1014724752404446 and parameters: {'lambda': 0.7742636826811269, 'alpha': 2.1544346900318834, 'colsample_bytree': 0.6, 'subsample': 0.6, 'learning_rate': 0.21544346900318834, 'n_estimators': 1000, 'max_depth': 17, 'random_state': 42, 'min_child_weight': 120}. Best is trial 0 with value: 0.912793400724224.\n",
      "[I 2023-10-18 06:18:38,472] Trial 6 finished with value: 1.1410388463810621 and parameters: {'lambda': 0.16681005372000587, 'alpha': 0.16681005372000587, 'colsample_bytree': 0.4, 'subsample': 0.6, 'learning_rate': 0.0774263682681127, 'n_estimators': 1000, 'max_depth': 7, 'random_state': 42, 'min_child_weight': 90}. Best is trial 0 with value: 0.912793400724224.\n",
      "[I 2023-10-18 06:19:15,411] Trial 7 finished with value: 1.1224473180926617 and parameters: {'lambda': 3.5938136638046254, 'alpha': 2.1544346900318834, 'colsample_bytree': 1.0, 'subsample': 0.4, 'learning_rate': 1.0, 'n_estimators': 800, 'max_depth': 9, 'random_state': 42, 'min_child_weight': 90}. Best is trial 0 with value: 0.912793400724224.\n",
      "[I 2023-10-18 06:20:29,070] Trial 8 finished with value: 1.1972827617347244 and parameters: {'lambda': 1.2915496650148839, 'alpha': 0.46415888336127786, 'colsample_bytree': 0.4, 'subsample': 0.4, 'learning_rate': 0.3593813663804626, 'n_estimators': 1000, 'max_depth': 17, 'random_state': 42, 'min_child_weight': 120}. Best is trial 0 with value: 0.912793400724224.\n",
      "[I 2023-10-18 06:21:24,961] Trial 9 finished with value: 0.9487675688651789 and parameters: {'lambda': 0.09999999999999999, 'alpha': 1.2915496650148839, 'colsample_bytree': 0.8, 'subsample': 1.0, 'learning_rate': 0.01, 'n_estimators': 800, 'max_depth': 13, 'random_state': 42, 'min_child_weight': 120}. Best is trial 0 with value: 0.912793400724224.\n",
      "[I 2023-10-18 06:22:20,707] Trial 10 finished with value: 0.8889893403992305 and parameters: {'lambda': 5.994842503189409, 'alpha': 0.7742636826811269, 'colsample_bytree': 1.0, 'subsample': 0.8, 'learning_rate': 0.01668100537200059, 'n_estimators': 800, 'max_depth': 15, 'random_state': 42, 'min_child_weight': 300}. Best is trial 10 with value: 0.8889893403992305.\n",
      "[I 2023-10-18 06:23:18,409] Trial 11 finished with value: 0.8889893403992305 and parameters: {'lambda': 5.994842503189409, 'alpha': 0.7742636826811269, 'colsample_bytree': 1.0, 'subsample': 0.8, 'learning_rate': 0.01668100537200059, 'n_estimators': 800, 'max_depth': 15, 'random_state': 42, 'min_child_weight': 300}. Best is trial 10 with value: 0.8889893403992305.\n",
      "[I 2023-10-18 06:24:17,526] Trial 12 finished with value: 0.8889893403992305 and parameters: {'lambda': 5.994842503189409, 'alpha': 0.7742636826811269, 'colsample_bytree': 1.0, 'subsample': 0.8, 'learning_rate': 0.01668100537200059, 'n_estimators': 800, 'max_depth': 15, 'random_state': 42, 'min_child_weight': 300}. Best is trial 10 with value: 0.8889893403992305.\n",
      "[I 2023-10-18 06:25:27,812] Trial 13 finished with value: 0.8857536020124916 and parameters: {'lambda': 5.994842503189409, 'alpha': 0.7742636826811269, 'colsample_bytree': 1.0, 'subsample': 0.8, 'learning_rate': 0.01668100537200059, 'n_estimators': 800, 'max_depth': 15, 'random_state': 42, 'min_child_weight': 150}. Best is trial 13 with value: 0.8857536020124916.\n",
      "[I 2023-10-18 06:26:34,376] Trial 14 finished with value: 0.8957542032792146 and parameters: {'lambda': 5.994842503189409, 'alpha': 0.7742636826811269, 'colsample_bytree': 1.0, 'subsample': 0.8, 'learning_rate': 0.027825594022071243, 'n_estimators': 800, 'max_depth': 15, 'random_state': 42, 'min_child_weight': 150}. Best is trial 13 with value: 0.8857536020124916.\n",
      "[I 2023-10-18 06:27:43,044] Trial 15 finished with value: 1.0164297935396531 and parameters: {'lambda': 0.46415888336127786, 'alpha': 10.0, 'colsample_bytree': 0.8, 'subsample': 0.8, 'learning_rate': 0.5994842503189408, 'n_estimators': 800, 'max_depth': 15, 'random_state': 42, 'min_child_weight': 180}. Best is trial 13 with value: 0.8857536020124916.\n",
      "[I 2023-10-18 06:28:51,788] Trial 16 finished with value: 0.9237033836036842 and parameters: {'lambda': 2.1544346900318834, 'alpha': 5.994842503189409, 'colsample_bytree': 1.0, 'subsample': 0.8, 'learning_rate': 0.1291549665014884, 'n_estimators': 800, 'max_depth': 15, 'random_state': 42, 'min_child_weight': 210}. Best is trial 13 with value: 0.8857536020124916.\n",
      "[I 2023-10-18 06:29:27,245] Trial 17 finished with value: 1.0508566418079959 and parameters: {'lambda': 0.2782559402207124, 'alpha': 0.09999999999999999, 'colsample_bytree': 1.0, 'subsample': 1.0, 'learning_rate': 0.01668100537200059, 'n_estimators': 800, 'max_depth': 9, 'random_state': 42, 'min_child_weight': 240}. Best is trial 13 with value: 0.8857536020124916.\n",
      "[I 2023-10-18 06:30:13,688] Trial 18 finished with value: 0.9240427138871055 and parameters: {'lambda': 5.994842503189409, 'alpha': 0.7742636826811269, 'colsample_bytree': 1.0, 'subsample': 0.8, 'learning_rate': 0.01668100537200059, 'n_estimators': 800, 'max_depth': 11, 'random_state': 42, 'min_child_weight': 60}. Best is trial 13 with value: 0.8857536020124916.\n",
      "[I 2023-10-18 06:31:20,957] Trial 19 finished with value: 0.9971219468921019 and parameters: {'lambda': 5.994842503189409, 'alpha': 0.7742636826811269, 'colsample_bytree': 0.8, 'subsample': 0.8, 'learning_rate': 0.1291549665014884, 'n_estimators': 800, 'max_depth': 15, 'random_state': 42, 'min_child_weight': 150}. Best is trial 13 with value: 0.8857536020124916.\n",
      "[I 2023-10-18 06:32:22,455] Trial 20 finished with value: 0.9636054629064688 and parameters: {'lambda': 0.7742636826811269, 'alpha': 10.0, 'colsample_bytree': 0.6, 'subsample': 0.8, 'learning_rate': 0.5994842503189408, 'n_estimators': 800, 'max_depth': 15, 'random_state': 42, 'min_child_weight': 150}. Best is trial 13 with value: 0.8857536020124916.\n",
      "[I 2023-10-18 06:33:25,496] Trial 21 finished with value: 0.8889893403992305 and parameters: {'lambda': 5.994842503189409, 'alpha': 0.7742636826811269, 'colsample_bytree': 1.0, 'subsample': 0.8, 'learning_rate': 0.01668100537200059, 'n_estimators': 800, 'max_depth': 15, 'random_state': 42, 'min_child_weight': 300}. Best is trial 13 with value: 0.8857536020124916.\n",
      "[I 2023-10-18 06:34:26,626] Trial 22 finished with value: 0.8889893403992305 and parameters: {'lambda': 5.994842503189409, 'alpha': 0.7742636826811269, 'colsample_bytree': 1.0, 'subsample': 0.8, 'learning_rate': 0.01668100537200059, 'n_estimators': 800, 'max_depth': 15, 'random_state': 42, 'min_child_weight': 300}. Best is trial 13 with value: 0.8857536020124916.\n",
      "[I 2023-10-18 06:35:25,015] Trial 23 finished with value: 0.8889893403992305 and parameters: {'lambda': 5.994842503189409, 'alpha': 0.7742636826811269, 'colsample_bytree': 1.0, 'subsample': 0.8, 'learning_rate': 0.01668100537200059, 'n_estimators': 800, 'max_depth': 15, 'random_state': 42, 'min_child_weight': 300}. Best is trial 13 with value: 0.8857536020124916.\n",
      "[I 2023-10-18 06:36:36,603] Trial 24 finished with value: 0.9150240084427653 and parameters: {'lambda': 1.2915496650148839, 'alpha': 0.46415888336127786, 'colsample_bytree': 1.0, 'subsample': 1.0, 'learning_rate': 0.027825594022071243, 'n_estimators': 800, 'max_depth': 15, 'random_state': 42, 'min_child_weight': 30}. Best is trial 13 with value: 0.8857536020124916.\n",
      "[I 2023-10-18 06:37:37,313] Trial 25 finished with value: 1.025823975753108 and parameters: {'lambda': 0.46415888336127786, 'alpha': 0.16681005372000587, 'colsample_bytree': 1.0, 'subsample': 0.8, 'learning_rate': 0.3593813663804626, 'n_estimators': 800, 'max_depth': 15, 'random_state': 42, 'min_child_weight': 180}. Best is trial 13 with value: 0.8857536020124916.\n",
      "[I 2023-10-18 06:38:10,287] Trial 26 finished with value: 0.8836530229963677 and parameters: {'lambda': 0.16681005372000587, 'alpha': 3.5938136638046254, 'colsample_bytree': 1.0, 'subsample': 0.8, 'learning_rate': 0.21544346900318834, 'n_estimators': 800, 'max_depth': 9, 'random_state': 42, 'min_child_weight': 210}. Best is trial 26 with value: 0.8836530229963677.\n",
      "[I 2023-10-18 06:38:42,836] Trial 27 finished with value: 0.8836530229963677 and parameters: {'lambda': 0.16681005372000587, 'alpha': 3.5938136638046254, 'colsample_bytree': 1.0, 'subsample': 0.8, 'learning_rate': 0.21544346900318834, 'n_estimators': 800, 'max_depth': 9, 'random_state': 42, 'min_child_weight': 210}. Best is trial 26 with value: 0.8836530229963677.\n",
      "[I 2023-10-18 06:39:16,263] Trial 28 finished with value: 0.9394575001230869 and parameters: {'lambda': 0.16681005372000587, 'alpha': 3.5938136638046254, 'colsample_bytree': 0.6, 'subsample': 0.8, 'learning_rate': 0.21544346900318834, 'n_estimators': 800, 'max_depth': 9, 'random_state': 42, 'min_child_weight': 210}. Best is trial 26 with value: 0.8836530229963677.\n",
      "[I 2023-10-18 06:39:45,895] Trial 29 finished with value: 0.8707336730920475 and parameters: {'lambda': 0.16681005372000587, 'alpha': 3.5938136638046254, 'colsample_bytree': 1.0, 'subsample': 1.0, 'learning_rate': 0.21544346900318834, 'n_estimators': 800, 'max_depth': 9, 'random_state': 42, 'min_child_weight': 210}. Best is trial 29 with value: 0.8707336730920475.\n",
      "[I 2023-10-18 06:40:27,536] Trial 30 finished with value: 0.8842244644554355 and parameters: {'lambda': 0.16681005372000587, 'alpha': 3.5938136638046254, 'colsample_bytree': 0.8, 'subsample': 1.0, 'learning_rate': 0.21544346900318834, 'n_estimators': 800, 'max_depth': 9, 'random_state': 42, 'min_child_weight': 210}. Best is trial 29 with value: 0.8707336730920475.\n",
      "[I 2023-10-18 06:40:58,481] Trial 31 finished with value: 0.8842244644554355 and parameters: {'lambda': 0.16681005372000587, 'alpha': 3.5938136638046254, 'colsample_bytree': 0.8, 'subsample': 1.0, 'learning_rate': 0.21544346900318834, 'n_estimators': 800, 'max_depth': 9, 'random_state': 42, 'min_child_weight': 210}. Best is trial 29 with value: 0.8707336730920475.\n",
      "[I 2023-10-18 06:41:29,301] Trial 32 finished with value: 0.8842244644554355 and parameters: {'lambda': 0.16681005372000587, 'alpha': 3.5938136638046254, 'colsample_bytree': 0.8, 'subsample': 1.0, 'learning_rate': 0.21544346900318834, 'n_estimators': 800, 'max_depth': 9, 'random_state': 42, 'min_child_weight': 210}. Best is trial 29 with value: 0.8707336730920475.\n",
      "[I 2023-10-18 06:42:11,776] Trial 33 finished with value: 0.8842244644554355 and parameters: {'lambda': 0.16681005372000587, 'alpha': 3.5938136638046254, 'colsample_bytree': 0.8, 'subsample': 1.0, 'learning_rate': 0.21544346900318834, 'n_estimators': 800, 'max_depth': 9, 'random_state': 42, 'min_child_weight': 210}. Best is trial 29 with value: 0.8707336730920475.\n",
      "[I 2023-10-18 06:42:41,348] Trial 34 finished with value: 0.8842244644554355 and parameters: {'lambda': 0.16681005372000587, 'alpha': 3.5938136638046254, 'colsample_bytree': 0.8, 'subsample': 1.0, 'learning_rate': 0.21544346900318834, 'n_estimators': 800, 'max_depth': 9, 'random_state': 42, 'min_child_weight': 210}. Best is trial 29 with value: 0.8707336730920475.\n",
      "[I 2023-10-18 06:43:19,793] Trial 35 finished with value: 0.9564979783011867 and parameters: {'lambda': 0.16681005372000587, 'alpha': 0.2782559402207124, 'colsample_bytree': 0.4, 'subsample': 1.0, 'learning_rate': 0.21544346900318834, 'n_estimators': 1000, 'max_depth': 9, 'random_state': 42, 'min_child_weight': 210}. Best is trial 29 with value: 0.8707336730920475.\n",
      "[I 2023-10-18 06:43:56,640] Trial 36 finished with value: 0.8924393587426015 and parameters: {'lambda': 0.16681005372000587, 'alpha': 3.5938136638046254, 'colsample_bytree': 1.0, 'subsample': 0.4, 'learning_rate': 0.21544346900318834, 'n_estimators': 800, 'max_depth': 9, 'random_state': 42, 'min_child_weight': 1}. Best is trial 29 with value: 0.8707336730920475.\n",
      "[I 2023-10-18 06:44:37,630] Trial 37 finished with value: 0.9686961003567393 and parameters: {'lambda': 10.0, 'alpha': 3.5938136638046254, 'colsample_bytree': 0.6, 'subsample': 1.0, 'learning_rate': 0.0774263682681127, 'n_estimators': 1000, 'max_depth': 9, 'random_state': 42, 'min_child_weight': 210}. Best is trial 29 with value: 0.8707336730920475.\n",
      "[I 2023-10-18 06:45:10,879] Trial 38 finished with value: 1.025017925969286 and parameters: {'lambda': 0.16681005372000587, 'alpha': 3.5938136638046254, 'colsample_bytree': 0.8, 'subsample': 0.6, 'learning_rate': 0.046415888336127774, 'n_estimators': 800, 'max_depth': 7, 'random_state': 42, 'min_child_weight': 270}. Best is trial 29 with value: 0.8707336730920475.\n",
      "[I 2023-10-18 06:46:04,906] Trial 39 finished with value: 1.0372555881461714 and parameters: {'lambda': 3.5938136638046254, 'alpha': 5.994842503189409, 'colsample_bytree': 0.4, 'subsample': 1.0, 'learning_rate': 0.21544346900318834, 'n_estimators': 1000, 'max_depth': 13, 'random_state': 42, 'min_child_weight': 210}. Best is trial 29 with value: 0.8707336730920475.\n",
      "[I 2023-10-18 06:47:12,422] Trial 40 finished with value: 2.338441458471256 and parameters: {'lambda': 0.2782559402207124, 'alpha': 0.09999999999999999, 'colsample_bytree': 1.0, 'subsample': 0.4, 'learning_rate': 1.0, 'n_estimators': 800, 'max_depth': 17, 'random_state': 42, 'min_child_weight': 240}. Best is trial 29 with value: 0.8707336730920475.\n",
      "[I 2023-10-18 06:47:42,573] Trial 41 finished with value: 0.8842244644554355 and parameters: {'lambda': 0.16681005372000587, 'alpha': 3.5938136638046254, 'colsample_bytree': 0.8, 'subsample': 1.0, 'learning_rate': 0.21544346900318834, 'n_estimators': 800, 'max_depth': 9, 'random_state': 42, 'min_child_weight': 210}. Best is trial 29 with value: 0.8707336730920475.\n",
      "[I 2023-10-18 06:48:12,852] Trial 42 finished with value: 0.8842244644554355 and parameters: {'lambda': 0.16681005372000587, 'alpha': 3.5938136638046254, 'colsample_bytree': 0.8, 'subsample': 1.0, 'learning_rate': 0.21544346900318834, 'n_estimators': 800, 'max_depth': 9, 'random_state': 42, 'min_child_weight': 210}. Best is trial 29 with value: 0.8707336730920475.\n",
      "[I 2023-10-18 06:48:48,352] Trial 43 finished with value: 1.1953092611098177 and parameters: {'lambda': 0.16681005372000587, 'alpha': 3.5938136638046254, 'colsample_bytree': 0.8, 'subsample': 1.0, 'learning_rate': 0.01, 'n_estimators': 800, 'max_depth': 9, 'random_state': 42, 'min_child_weight': 210}. Best is trial 29 with value: 0.8707336730920475.\n",
      "[I 2023-10-18 06:49:31,830] Trial 44 finished with value: 0.9408674980590531 and parameters: {'lambda': 0.09999999999999999, 'alpha': 1.2915496650148839, 'colsample_bytree': 0.8, 'subsample': 0.6, 'learning_rate': 0.21544346900318834, 'n_estimators': 800, 'max_depth': 11, 'random_state': 42, 'min_child_weight': 60}. Best is trial 29 with value: 0.8707336730920475.\n",
      "[I 2023-10-18 06:50:10,510] Trial 45 finished with value: 0.9069669896633207 and parameters: {'lambda': 2.1544346900318834, 'alpha': 2.1544346900318834, 'colsample_bytree': 0.8, 'subsample': 1.0, 'learning_rate': 0.21544346900318834, 'n_estimators': 1000, 'max_depth': 9, 'random_state': 42, 'min_child_weight': 90}. Best is trial 29 with value: 0.8707336730920475.\n",
      "[I 2023-10-18 06:50:44,448] Trial 46 finished with value: 0.9771872747449963 and parameters: {'lambda': 0.16681005372000587, 'alpha': 3.5938136638046254, 'colsample_bytree': 0.4, 'subsample': 1.0, 'learning_rate': 0.21544346900318834, 'n_estimators': 800, 'max_depth': 9, 'random_state': 42, 'min_child_weight': 30}. Best is trial 29 with value: 0.8707336730920475.\n",
      "[I 2023-10-18 06:51:15,104] Trial 47 finished with value: 0.9244587463853317 and parameters: {'lambda': 0.16681005372000587, 'alpha': 0.2782559402207124, 'colsample_bytree': 1.0, 'subsample': 0.4, 'learning_rate': 0.0774263682681127, 'n_estimators': 800, 'max_depth': 7, 'random_state': 42, 'min_child_weight': 210}. Best is trial 29 with value: 0.8707336730920475.\n",
      "[I 2023-10-18 06:51:47,390] Trial 48 finished with value: 0.8854585031399514 and parameters: {'lambda': 0.7742636826811269, 'alpha': 3.5938136638046254, 'colsample_bytree': 1.0, 'subsample': 1.0, 'learning_rate': 0.046415888336127774, 'n_estimators': 800, 'max_depth': 9, 'random_state': 42, 'min_child_weight': 270}. Best is trial 29 with value: 0.8707336730920475.\n",
      "[I 2023-10-18 06:52:49,109] Trial 49 finished with value: 1.0379846473645924 and parameters: {'lambda': 10.0, 'alpha': 0.16681005372000587, 'colsample_bytree': 0.6, 'subsample': 0.6, 'learning_rate': 0.3593813663804626, 'n_estimators': 1000, 'max_depth': 13, 'random_state': 42, 'min_child_weight': 210}. Best is trial 29 with value: 0.8707336730920475.\n",
      "[I 2023-10-18 06:53:50,279] Trial 50 finished with value: 1.031537988239885 and parameters: {'lambda': 3.5938136638046254, 'alpha': 0.46415888336127786, 'colsample_bytree': 0.8, 'subsample': 1.0, 'learning_rate': 0.21544346900318834, 'n_estimators': 800, 'max_depth': 17, 'random_state': 42, 'min_child_weight': 120}. Best is trial 29 with value: 0.8707336730920475.\n",
      "[I 2023-10-18 06:54:21,592] Trial 51 finished with value: 0.8842244644554355 and parameters: {'lambda': 0.16681005372000587, 'alpha': 3.5938136638046254, 'colsample_bytree': 0.8, 'subsample': 1.0, 'learning_rate': 0.21544346900318834, 'n_estimators': 800, 'max_depth': 9, 'random_state': 42, 'min_child_weight': 210}. Best is trial 29 with value: 0.8707336730920475.\n",
      "[I 2023-10-18 06:54:52,211] Trial 52 finished with value: 0.9060197669424608 and parameters: {'lambda': 0.16681005372000587, 'alpha': 3.5938136638046254, 'colsample_bytree': 0.8, 'subsample': 1.0, 'learning_rate': 0.21544346900318834, 'n_estimators': 800, 'max_depth': 9, 'random_state': 42, 'min_child_weight': 1}. Best is trial 29 with value: 0.8707336730920475.\n",
      "[I 2023-10-18 06:55:22,755] Trial 53 finished with value: 0.8842244644554355 and parameters: {'lambda': 0.16681005372000587, 'alpha': 3.5938136638046254, 'colsample_bytree': 0.8, 'subsample': 1.0, 'learning_rate': 0.21544346900318834, 'n_estimators': 800, 'max_depth': 9, 'random_state': 42, 'min_child_weight': 210}. Best is trial 29 with value: 0.8707336730920475.\n",
      "[I 2023-10-18 06:55:59,530] Trial 54 finished with value: 1.1862671957038249 and parameters: {'lambda': 1.2915496650148839, 'alpha': 3.5938136638046254, 'colsample_bytree': 0.8, 'subsample': 1.0, 'learning_rate': 0.01, 'n_estimators': 800, 'max_depth': 9, 'random_state': 42, 'min_child_weight': 210}. Best is trial 29 with value: 0.8707336730920475.\n",
      "[I 2023-10-18 06:56:43,354] Trial 55 finished with value: 1.0766132393157544 and parameters: {'lambda': 0.16681005372000587, 'alpha': 10.0, 'colsample_bytree': 1.0, 'subsample': 1.0, 'learning_rate': 1.0, 'n_estimators': 800, 'max_depth': 11, 'random_state': 42, 'min_child_weight': 210}. Best is trial 29 with value: 0.8707336730920475.\n",
      "[I 2023-10-18 06:57:19,525] Trial 56 finished with value: 0.9524393537170402 and parameters: {'lambda': 0.46415888336127786, 'alpha': 1.2915496650148839, 'colsample_bytree': 1.0, 'subsample': 0.8, 'learning_rate': 0.5994842503189408, 'n_estimators': 800, 'max_depth': 9, 'random_state': 42, 'min_child_weight': 90}. Best is trial 29 with value: 0.8707336730920475.\n",
      "[I 2023-10-18 06:57:54,473] Trial 57 finished with value: 0.9256340763418 and parameters: {'lambda': 0.16681005372000587, 'alpha': 2.1544346900318834, 'colsample_bytree': 0.8, 'subsample': 0.4, 'learning_rate': 0.1291549665014884, 'n_estimators': 800, 'max_depth': 9, 'random_state': 42, 'min_child_weight': 180}. Best is trial 29 with value: 0.8707336730920475.\n",
      "[I 2023-10-18 06:58:28,216] Trial 58 finished with value: 0.9435811958608687 and parameters: {'lambda': 0.09999999999999999, 'alpha': 5.994842503189409, 'colsample_bytree': 1.0, 'subsample': 0.8, 'learning_rate': 0.027825594022071243, 'n_estimators': 800, 'max_depth': 9, 'random_state': 42, 'min_child_weight': 210}. Best is trial 29 with value: 0.8707336730920475.\n",
      "[I 2023-10-18 06:58:55,452] Trial 59 finished with value: 1.033342686828847 and parameters: {'lambda': 2.1544346900318834, 'alpha': 3.5938136638046254, 'colsample_bytree': 0.4, 'subsample': 1.0, 'learning_rate': 0.21544346900318834, 'n_estimators': 800, 'max_depth': 7, 'random_state': 42, 'min_child_weight': 240}. Best is trial 29 with value: 0.8707336730920475.\n",
      "[I 2023-10-18 06:59:32,203] Trial 60 finished with value: 0.8817494447794375 and parameters: {'lambda': 0.2782559402207124, 'alpha': 0.09999999999999999, 'colsample_bytree': 1.0, 'subsample': 0.6, 'learning_rate': 0.21544346900318834, 'n_estimators': 800, 'max_depth': 9, 'random_state': 42, 'min_child_weight': 60}. Best is trial 29 with value: 0.8707336730920475.\n",
      "[I 2023-10-18 07:00:08,728] Trial 61 finished with value: 0.8817494447794375 and parameters: {'lambda': 0.2782559402207124, 'alpha': 0.09999999999999999, 'colsample_bytree': 1.0, 'subsample': 0.6, 'learning_rate': 0.21544346900318834, 'n_estimators': 800, 'max_depth': 9, 'random_state': 42, 'min_child_weight': 60}. Best is trial 29 with value: 0.8707336730920475.\n",
      "[I 2023-10-18 07:00:46,080] Trial 62 finished with value: 0.8817494447794375 and parameters: {'lambda': 0.2782559402207124, 'alpha': 0.09999999999999999, 'colsample_bytree': 1.0, 'subsample': 0.6, 'learning_rate': 0.21544346900318834, 'n_estimators': 800, 'max_depth': 9, 'random_state': 42, 'min_child_weight': 60}. Best is trial 29 with value: 0.8707336730920475.\n",
      "[I 2023-10-18 07:01:23,064] Trial 63 finished with value: 0.8817494447794375 and parameters: {'lambda': 0.2782559402207124, 'alpha': 0.09999999999999999, 'colsample_bytree': 1.0, 'subsample': 0.6, 'learning_rate': 0.21544346900318834, 'n_estimators': 800, 'max_depth': 9, 'random_state': 42, 'min_child_weight': 60}. Best is trial 29 with value: 0.8707336730920475.\n",
      "[I 2023-10-18 07:01:58,936] Trial 64 finished with value: 0.8817494447794375 and parameters: {'lambda': 0.2782559402207124, 'alpha': 0.09999999999999999, 'colsample_bytree': 1.0, 'subsample': 0.6, 'learning_rate': 0.21544346900318834, 'n_estimators': 800, 'max_depth': 9, 'random_state': 42, 'min_child_weight': 60}. Best is trial 29 with value: 0.8707336730920475.\n",
      "[I 2023-10-18 07:03:36,882] Trial 65 finished with value: 1.1156856927495977 and parameters: {'lambda': 0.2782559402207124, 'alpha': 0.09999999999999999, 'colsample_bytree': 1.0, 'subsample': 0.6, 'learning_rate': 0.21544346900318834, 'n_estimators': 800, 'max_depth': 17, 'random_state': 42, 'min_child_weight': 60}. Best is trial 29 with value: 0.8707336730920475.\n",
      "[I 2023-10-18 07:04:33,824] Trial 66 finished with value: 1.0571319797989327 and parameters: {'lambda': 0.2782559402207124, 'alpha': 0.09999999999999999, 'colsample_bytree': 1.0, 'subsample': 0.6, 'learning_rate': 0.3593813663804626, 'n_estimators': 800, 'max_depth': 13, 'random_state': 42, 'min_child_weight': 60}. Best is trial 29 with value: 0.8707336730920475.\n",
      "[I 2023-10-18 07:05:10,388] Trial 67 finished with value: 0.8817494447794375 and parameters: {'lambda': 0.2782559402207124, 'alpha': 0.09999999999999999, 'colsample_bytree': 1.0, 'subsample': 0.6, 'learning_rate': 0.21544346900318834, 'n_estimators': 800, 'max_depth': 9, 'random_state': 42, 'min_child_weight': 60}. Best is trial 29 with value: 0.8707336730920475.\n",
      "[I 2023-10-18 07:05:56,777] Trial 68 finished with value: 0.8696060650588124 and parameters: {'lambda': 0.2782559402207124, 'alpha': 0.09999999999999999, 'colsample_bytree': 1.0, 'subsample': 0.6, 'learning_rate': 0.1291549665014884, 'n_estimators': 800, 'max_depth': 9, 'random_state': 42, 'min_child_weight': 60}. Best is trial 68 with value: 0.8696060650588124.\n",
      "[I 2023-10-18 07:06:39,785] Trial 69 finished with value: 0.9021796505749468 and parameters: {'lambda': 0.2782559402207124, 'alpha': 0.09999999999999999, 'colsample_bytree': 1.0, 'subsample': 0.6, 'learning_rate': 0.1291549665014884, 'n_estimators': 800, 'max_depth': 11, 'random_state': 42, 'min_child_weight': 60}. Best is trial 68 with value: 0.8696060650588124.\n",
      "[I 2023-10-18 07:07:26,681] Trial 70 finished with value: 0.8745361476867354 and parameters: {'lambda': 0.2782559402207124, 'alpha': 0.09999999999999999, 'colsample_bytree': 1.0, 'subsample': 0.6, 'learning_rate': 0.1291549665014884, 'n_estimators': 1000, 'max_depth': 9, 'random_state': 42, 'min_child_weight': 60}. Best is trial 68 with value: 0.8696060650588124.\n",
      "[I 2023-10-18 07:10:04,240] Trial 71 finished with value: 0.8745361476867354 and parameters: {'lambda': 0.2782559402207124, 'alpha': 0.09999999999999999, 'colsample_bytree': 1.0, 'subsample': 0.6, 'learning_rate': 0.1291549665014884, 'n_estimators': 1000, 'max_depth': 9, 'random_state': 42, 'min_child_weight': 60}. Best is trial 68 with value: 0.8696060650588124.\n",
      "[I 2023-10-18 07:10:48,124] Trial 72 finished with value: 0.8745361476867354 and parameters: {'lambda': 0.2782559402207124, 'alpha': 0.09999999999999999, 'colsample_bytree': 1.0, 'subsample': 0.6, 'learning_rate': 0.1291549665014884, 'n_estimators': 1000, 'max_depth': 9, 'random_state': 42, 'min_child_weight': 60}. Best is trial 68 with value: 0.8696060650588124.\n",
      "[I 2023-10-18 07:11:38,908] Trial 73 finished with value: 0.8745361476867354 and parameters: {'lambda': 0.2782559402207124, 'alpha': 0.09999999999999999, 'colsample_bytree': 1.0, 'subsample': 0.6, 'learning_rate': 0.1291549665014884, 'n_estimators': 1000, 'max_depth': 9, 'random_state': 42, 'min_child_weight': 60}. Best is trial 68 with value: 0.8696060650588124.\n",
      "[I 2023-10-18 07:12:24,069] Trial 74 finished with value: 0.8745361476867354 and parameters: {'lambda': 0.2782559402207124, 'alpha': 0.09999999999999999, 'colsample_bytree': 1.0, 'subsample': 0.6, 'learning_rate': 0.1291549665014884, 'n_estimators': 1000, 'max_depth': 9, 'random_state': 42, 'min_child_weight': 60}. Best is trial 68 with value: 0.8696060650588124.\n",
      "[I 2023-10-18 07:13:08,345] Trial 75 finished with value: 0.8745361476867354 and parameters: {'lambda': 0.2782559402207124, 'alpha': 0.09999999999999999, 'colsample_bytree': 1.0, 'subsample': 0.6, 'learning_rate': 0.1291549665014884, 'n_estimators': 1000, 'max_depth': 9, 'random_state': 42, 'min_child_weight': 60}. Best is trial 68 with value: 0.8696060650588124.\n",
      "[I 2023-10-18 07:13:52,882] Trial 76 finished with value: 0.8745361476867354 and parameters: {'lambda': 0.2782559402207124, 'alpha': 0.09999999999999999, 'colsample_bytree': 1.0, 'subsample': 0.6, 'learning_rate': 0.1291549665014884, 'n_estimators': 1000, 'max_depth': 9, 'random_state': 42, 'min_child_weight': 60}. Best is trial 68 with value: 0.8696060650588124.\n",
      "[I 2023-10-18 07:14:36,800] Trial 77 finished with value: 0.8745361476867354 and parameters: {'lambda': 0.2782559402207124, 'alpha': 0.09999999999999999, 'colsample_bytree': 1.0, 'subsample': 0.6, 'learning_rate': 0.1291549665014884, 'n_estimators': 1000, 'max_depth': 9, 'random_state': 42, 'min_child_weight': 60}. Best is trial 68 with value: 0.8696060650588124.\n",
      "[I 2023-10-18 07:16:07,032] Trial 78 finished with value: 0.8745361476867354 and parameters: {'lambda': 0.2782559402207124, 'alpha': 0.09999999999999999, 'colsample_bytree': 1.0, 'subsample': 0.6, 'learning_rate': 0.1291549665014884, 'n_estimators': 1000, 'max_depth': 9, 'random_state': 42, 'min_child_weight': 60}. Best is trial 68 with value: 0.8696060650588124.\n",
      "[I 2023-10-18 07:21:12,483] Trial 79 finished with value: 0.8745361476867354 and parameters: {'lambda': 0.2782559402207124, 'alpha': 0.09999999999999999, 'colsample_bytree': 1.0, 'subsample': 0.6, 'learning_rate': 0.1291549665014884, 'n_estimators': 1000, 'max_depth': 9, 'random_state': 42, 'min_child_weight': 60}. Best is trial 68 with value: 0.8696060650588124.\n",
      "[I 2023-10-18 07:21:48,285] Trial 80 finished with value: 0.8628992887997639 and parameters: {'lambda': 0.2782559402207124, 'alpha': 0.09999999999999999, 'colsample_bytree': 1.0, 'subsample': 0.6, 'learning_rate': 0.1291549665014884, 'n_estimators': 1000, 'max_depth': 7, 'random_state': 42, 'min_child_weight': 60}. Best is trial 80 with value: 0.8628992887997639.\n",
      "[I 2023-10-18 07:22:24,605] Trial 81 finished with value: 0.8628992887997639 and parameters: {'lambda': 0.2782559402207124, 'alpha': 0.09999999999999999, 'colsample_bytree': 1.0, 'subsample': 0.6, 'learning_rate': 0.1291549665014884, 'n_estimators': 1000, 'max_depth': 7, 'random_state': 42, 'min_child_weight': 60}. Best is trial 80 with value: 0.8628992887997639.\n",
      "[I 2023-10-18 07:23:01,363] Trial 82 finished with value: 0.8628992887997639 and parameters: {'lambda': 0.2782559402207124, 'alpha': 0.09999999999999999, 'colsample_bytree': 1.0, 'subsample': 0.6, 'learning_rate': 0.1291549665014884, 'n_estimators': 1000, 'max_depth': 7, 'random_state': 42, 'min_child_weight': 60}. Best is trial 80 with value: 0.8628992887997639.\n",
      "[I 2023-10-18 07:27:41,801] Trial 83 finished with value: 0.8628992887997639 and parameters: {'lambda': 0.2782559402207124, 'alpha': 0.09999999999999999, 'colsample_bytree': 1.0, 'subsample': 0.6, 'learning_rate': 0.1291549665014884, 'n_estimators': 1000, 'max_depth': 7, 'random_state': 42, 'min_child_weight': 60}. Best is trial 80 with value: 0.8628992887997639.\n",
      "[I 2023-10-18 07:28:18,198] Trial 84 finished with value: 0.8628992887997639 and parameters: {'lambda': 0.2782559402207124, 'alpha': 0.09999999999999999, 'colsample_bytree': 1.0, 'subsample': 0.6, 'learning_rate': 0.1291549665014884, 'n_estimators': 1000, 'max_depth': 7, 'random_state': 42, 'min_child_weight': 60}. Best is trial 80 with value: 0.8628992887997639.\n",
      "[I 2023-10-18 07:28:53,230] Trial 85 finished with value: 0.8697404248351734 and parameters: {'lambda': 0.2782559402207124, 'alpha': 0.09999999999999999, 'colsample_bytree': 1.0, 'subsample': 0.6, 'learning_rate': 0.1291549665014884, 'n_estimators': 1000, 'max_depth': 7, 'random_state': 42, 'min_child_weight': 150}. Best is trial 80 with value: 0.8628992887997639.\n",
      "[I 2023-10-18 07:29:28,742] Trial 86 finished with value: 0.9695141033825615 and parameters: {'lambda': 0.7742636826811269, 'alpha': 0.46415888336127786, 'colsample_bytree': 0.6, 'subsample': 0.6, 'learning_rate': 0.1291549665014884, 'n_estimators': 1000, 'max_depth': 7, 'random_state': 42, 'min_child_weight': 150}. Best is trial 80 with value: 0.8628992887997639.\n",
      "[I 2023-10-18 07:30:03,887] Trial 87 finished with value: 0.8828926062502156 and parameters: {'lambda': 0.2782559402207124, 'alpha': 0.16681005372000587, 'colsample_bytree': 1.0, 'subsample': 0.6, 'learning_rate': 0.1291549665014884, 'n_estimators': 1000, 'max_depth': 7, 'random_state': 42, 'min_child_weight': 150}. Best is trial 80 with value: 0.8628992887997639.\n",
      "[I 2023-10-18 07:34:37,785] Trial 88 finished with value: 0.8649133860486292 and parameters: {'lambda': 10.0, 'alpha': 0.2782559402207124, 'colsample_bytree': 1.0, 'subsample': 0.6, 'learning_rate': 0.1291549665014884, 'n_estimators': 1000, 'max_depth': 7, 'random_state': 42, 'min_child_weight': 150}. Best is trial 80 with value: 0.8628992887997639.\n",
      "[I 2023-10-18 07:36:10,774] Trial 89 finished with value: 0.8649133860486292 and parameters: {'lambda': 10.0, 'alpha': 0.2782559402207124, 'colsample_bytree': 1.0, 'subsample': 0.6, 'learning_rate': 0.1291549665014884, 'n_estimators': 1000, 'max_depth': 7, 'random_state': 42, 'min_child_weight': 150}. Best is trial 80 with value: 0.8628992887997639.\n",
      "[I 2023-10-18 07:36:45,180] Trial 90 finished with value: 0.8649133860486292 and parameters: {'lambda': 10.0, 'alpha': 0.2782559402207124, 'colsample_bytree': 1.0, 'subsample': 0.6, 'learning_rate': 0.1291549665014884, 'n_estimators': 1000, 'max_depth': 7, 'random_state': 42, 'min_child_weight': 150}. Best is trial 80 with value: 0.8628992887997639.\n",
      "[I 2023-10-18 07:37:18,884] Trial 91 finished with value: 0.8649133860486292 and parameters: {'lambda': 10.0, 'alpha': 0.2782559402207124, 'colsample_bytree': 1.0, 'subsample': 0.6, 'learning_rate': 0.1291549665014884, 'n_estimators': 1000, 'max_depth': 7, 'random_state': 42, 'min_child_weight': 150}. Best is trial 80 with value: 0.8628992887997639.\n",
      "[I 2023-10-18 07:37:54,887] Trial 92 finished with value: 0.8649133860486292 and parameters: {'lambda': 10.0, 'alpha': 0.2782559402207124, 'colsample_bytree': 1.0, 'subsample': 0.6, 'learning_rate': 0.1291549665014884, 'n_estimators': 1000, 'max_depth': 7, 'random_state': 42, 'min_child_weight': 150}. Best is trial 80 with value: 0.8628992887997639.\n",
      "[I 2023-10-18 07:38:29,463] Trial 93 finished with value: 0.8649133860486292 and parameters: {'lambda': 10.0, 'alpha': 0.2782559402207124, 'colsample_bytree': 1.0, 'subsample': 0.6, 'learning_rate': 0.1291549665014884, 'n_estimators': 1000, 'max_depth': 7, 'random_state': 42, 'min_child_weight': 150}. Best is trial 80 with value: 0.8628992887997639.\n",
      "[I 2023-10-18 07:39:04,363] Trial 94 finished with value: 0.8649133860486292 and parameters: {'lambda': 10.0, 'alpha': 0.2782559402207124, 'colsample_bytree': 1.0, 'subsample': 0.6, 'learning_rate': 0.1291549665014884, 'n_estimators': 1000, 'max_depth': 7, 'random_state': 42, 'min_child_weight': 150}. Best is trial 80 with value: 0.8628992887997639.\n",
      "[I 2023-10-18 07:39:39,750] Trial 95 finished with value: 0.8649133860486292 and parameters: {'lambda': 10.0, 'alpha': 0.2782559402207124, 'colsample_bytree': 1.0, 'subsample': 0.6, 'learning_rate': 0.1291549665014884, 'n_estimators': 1000, 'max_depth': 7, 'random_state': 42, 'min_child_weight': 150}. Best is trial 80 with value: 0.8628992887997639.\n",
      "[I 2023-10-18 07:40:15,403] Trial 96 finished with value: 0.8649133860486292 and parameters: {'lambda': 10.0, 'alpha': 0.2782559402207124, 'colsample_bytree': 1.0, 'subsample': 0.6, 'learning_rate': 0.1291549665014884, 'n_estimators': 1000, 'max_depth': 7, 'random_state': 42, 'min_child_weight': 150}. Best is trial 80 with value: 0.8628992887997639.\n",
      "[I 2023-10-18 07:40:51,191] Trial 97 finished with value: 0.8649133860486292 and parameters: {'lambda': 10.0, 'alpha': 0.2782559402207124, 'colsample_bytree': 1.0, 'subsample': 0.6, 'learning_rate': 0.1291549665014884, 'n_estimators': 1000, 'max_depth': 7, 'random_state': 42, 'min_child_weight': 150}. Best is trial 80 with value: 0.8628992887997639.\n",
      "[I 2023-10-18 07:41:27,914] Trial 98 finished with value: 1.059105793280502 and parameters: {'lambda': 10.0, 'alpha': 0.2782559402207124, 'colsample_bytree': 0.4, 'subsample': 0.6, 'learning_rate': 0.1291549665014884, 'n_estimators': 1000, 'max_depth': 7, 'random_state': 42, 'min_child_weight': 150}. Best is trial 80 with value: 0.8628992887997639.\n",
      "[I 2023-10-18 07:42:01,681] Trial 99 finished with value: 1.018386791172004 and parameters: {'lambda': 10.0, 'alpha': 0.2782559402207124, 'colsample_bytree': 0.6, 'subsample': 0.6, 'learning_rate': 0.0774263682681127, 'n_estimators': 1000, 'max_depth': 7, 'random_state': 42, 'min_child_weight': 30}. Best is trial 80 with value: 0.8628992887997639.\n",
      "[I 2023-10-18 07:42:37,188] Trial 100 finished with value: 0.8860889572279989 and parameters: {'lambda': 10.0, 'alpha': 0.2782559402207124, 'colsample_bytree': 1.0, 'subsample': 0.6, 'learning_rate': 0.5994842503189408, 'n_estimators': 1000, 'max_depth': 7, 'random_state': 42, 'min_child_weight': 150}. Best is trial 80 with value: 0.8628992887997639.\n",
      "[I 2023-10-18 07:43:10,858] Trial 101 finished with value: 0.8649133860486292 and parameters: {'lambda': 10.0, 'alpha': 0.2782559402207124, 'colsample_bytree': 1.0, 'subsample': 0.6, 'learning_rate': 0.1291549665014884, 'n_estimators': 1000, 'max_depth': 7, 'random_state': 42, 'min_child_weight': 150}. Best is trial 80 with value: 0.8628992887997639.\n",
      "[I 2023-10-18 07:43:49,458] Trial 102 finished with value: 0.8649133860486292 and parameters: {'lambda': 10.0, 'alpha': 0.2782559402207124, 'colsample_bytree': 1.0, 'subsample': 0.6, 'learning_rate': 0.1291549665014884, 'n_estimators': 1000, 'max_depth': 7, 'random_state': 42, 'min_child_weight': 150}. Best is trial 80 with value: 0.8628992887997639.\n",
      "[I 2023-10-18 07:44:24,056] Trial 103 finished with value: 0.941445986429688 and parameters: {'lambda': 10.0, 'alpha': 0.2782559402207124, 'colsample_bytree': 1.0, 'subsample': 0.6, 'learning_rate': 0.046415888336127774, 'n_estimators': 1000, 'max_depth': 7, 'random_state': 42, 'min_child_weight': 150}. Best is trial 80 with value: 0.8628992887997639.\n",
      "[I 2023-10-18 07:44:58,971] Trial 104 finished with value: 1.017807606633753 and parameters: {'lambda': 10.0, 'alpha': 0.2782559402207124, 'colsample_bytree': 1.0, 'subsample': 0.6, 'learning_rate': 0.027825594022071243, 'n_estimators': 1000, 'max_depth': 7, 'random_state': 42, 'min_child_weight': 150}. Best is trial 80 with value: 0.8628992887997639.\n",
      "[I 2023-10-18 07:45:35,742] Trial 105 finished with value: 0.8671281847019675 and parameters: {'lambda': 1.2915496650148839, 'alpha': 0.2782559402207124, 'colsample_bytree': 1.0, 'subsample': 0.6, 'learning_rate': 0.1291549665014884, 'n_estimators': 1000, 'max_depth': 7, 'random_state': 42, 'min_child_weight': 120}. Best is trial 80 with value: 0.8628992887997639.\n",
      "[I 2023-10-18 07:46:11,391] Trial 106 finished with value: 0.8912030530286121 and parameters: {'lambda': 10.0, 'alpha': 10.0, 'colsample_bytree': 1.0, 'subsample': 0.4, 'learning_rate': 0.1291549665014884, 'n_estimators': 1000, 'max_depth': 7, 'random_state': 42, 'min_child_weight': 270}. Best is trial 80 with value: 0.8628992887997639.\n",
      "[I 2023-10-18 07:46:48,058] Trial 107 finished with value: 1.0064483242740931 and parameters: {'lambda': 0.46415888336127786, 'alpha': 0.2782559402207124, 'colsample_bytree': 1.0, 'subsample': 0.6, 'learning_rate': 1.0, 'n_estimators': 1000, 'max_depth': 7, 'random_state': 42, 'min_child_weight': 1}. Best is trial 80 with value: 0.8628992887997639.\n",
      "[I 2023-10-18 07:47:24,388] Trial 108 finished with value: 1.292246031425965 and parameters: {'lambda': 10.0, 'alpha': 0.2782559402207124, 'colsample_bytree': 1.0, 'subsample': 0.6, 'learning_rate': 0.01, 'n_estimators': 1000, 'max_depth': 7, 'random_state': 42, 'min_child_weight': 150}. Best is trial 80 with value: 0.8628992887997639.\n",
      "[I 2023-10-18 07:48:06,917] Trial 109 finished with value: 0.8797543209458205 and parameters: {'lambda': 3.5938136638046254, 'alpha': 1.2915496650148839, 'colsample_bytree': 1.0, 'subsample': 0.6, 'learning_rate': 0.1291549665014884, 'n_estimators': 1000, 'max_depth': 7, 'random_state': 42, 'min_child_weight': 300}. Best is trial 80 with value: 0.8628992887997639.\n",
      "[I 2023-10-18 07:48:41,960] Trial 110 finished with value: 0.8840162404946498 and parameters: {'lambda': 10.0, 'alpha': 5.994842503189409, 'colsample_bytree': 1.0, 'subsample': 0.6, 'learning_rate': 0.1291549665014884, 'n_estimators': 1000, 'max_depth': 7, 'random_state': 42, 'min_child_weight': 240}. Best is trial 80 with value: 0.8628992887997639.\n",
      "[I 2023-10-18 07:49:17,779] Trial 111 finished with value: 0.8649133860486292 and parameters: {'lambda': 10.0, 'alpha': 0.2782559402207124, 'colsample_bytree': 1.0, 'subsample': 0.6, 'learning_rate': 0.1291549665014884, 'n_estimators': 1000, 'max_depth': 7, 'random_state': 42, 'min_child_weight': 150}. Best is trial 80 with value: 0.8628992887997639.\n",
      "[I 2023-10-18 07:49:52,803] Trial 112 finished with value: 0.8778260945421865 and parameters: {'lambda': 10.0, 'alpha': 0.2782559402207124, 'colsample_bytree': 1.0, 'subsample': 0.6, 'learning_rate': 0.1291549665014884, 'n_estimators': 1000, 'max_depth': 7, 'random_state': 42, 'min_child_weight': 180}. Best is trial 80 with value: 0.8628992887997639.\n",
      "[I 2023-10-18 07:50:27,729] Trial 113 finished with value: 0.8767764826287828 and parameters: {'lambda': 0.09999999999999999, 'alpha': 0.2782559402207124, 'colsample_bytree': 1.0, 'subsample': 0.6, 'learning_rate': 0.1291549665014884, 'n_estimators': 1000, 'max_depth': 7, 'random_state': 42, 'min_child_weight': 150}. Best is trial 80 with value: 0.8628992887997639.\n",
      "[I 2023-10-18 07:51:02,901] Trial 114 finished with value: 0.896387595569134 and parameters: {'lambda': 10.0, 'alpha': 2.1544346900318834, 'colsample_bytree': 1.0, 'subsample': 0.6, 'learning_rate': 0.1291549665014884, 'n_estimators': 1000, 'max_depth': 7, 'random_state': 42, 'min_child_weight': 150}. Best is trial 80 with value: 0.8628992887997639.\n",
      "[I 2023-10-18 07:51:37,982] Trial 115 finished with value: 0.8738870434592886 and parameters: {'lambda': 2.1544346900318834, 'alpha': 0.2782559402207124, 'colsample_bytree': 1.0, 'subsample': 0.6, 'learning_rate': 0.1291549665014884, 'n_estimators': 1000, 'max_depth': 7, 'random_state': 42, 'min_child_weight': 90}. Best is trial 80 with value: 0.8628992887997639.\n",
      "[I 2023-10-18 07:52:13,100] Trial 116 finished with value: 1.059105793280502 and parameters: {'lambda': 10.0, 'alpha': 0.2782559402207124, 'colsample_bytree': 0.4, 'subsample': 0.6, 'learning_rate': 0.1291549665014884, 'n_estimators': 1000, 'max_depth': 7, 'random_state': 42, 'min_child_weight': 150}. Best is trial 80 with value: 0.8628992887997639.\n",
      "[I 2023-10-18 07:52:52,880] Trial 117 finished with value: 1.1354664005055293 and parameters: {'lambda': 10.0, 'alpha': 0.2782559402207124, 'colsample_bytree': 1.0, 'subsample': 0.6, 'learning_rate': 0.01668100537200059, 'n_estimators': 1000, 'max_depth': 7, 'random_state': 42, 'min_child_weight': 150}. Best is trial 80 with value: 0.8628992887997639.\n",
      "[I 2023-10-18 07:53:30,104] Trial 118 finished with value: 0.8793979183190401 and parameters: {'lambda': 0.7742636826811269, 'alpha': 0.16681005372000587, 'colsample_bytree': 1.0, 'subsample': 0.6, 'learning_rate': 0.1291549665014884, 'n_estimators': 1000, 'max_depth': 7, 'random_state': 42, 'min_child_weight': 30}. Best is trial 80 with value: 0.8628992887997639.\n",
      "[I 2023-10-18 07:54:06,575] Trial 119 finished with value: 0.8603163248837726 and parameters: {'lambda': 10.0, 'alpha': 0.46415888336127786, 'colsample_bytree': 1.0, 'subsample': 0.6, 'learning_rate': 0.1291549665014884, 'n_estimators': 1000, 'max_depth': 7, 'random_state': 42, 'min_child_weight': 120}. Best is trial 119 with value: 0.8603163248837726.\n",
      "[I 2023-10-18 07:54:44,023] Trial 120 finished with value: 0.9878497299372732 and parameters: {'lambda': 5.994842503189409, 'alpha': 0.46415888336127786, 'colsample_bytree': 0.6, 'subsample': 0.4, 'learning_rate': 0.1291549665014884, 'n_estimators': 1000, 'max_depth': 7, 'random_state': 42, 'min_child_weight': 120}. Best is trial 119 with value: 0.8603163248837726.\n",
      "[I 2023-10-18 07:55:21,578] Trial 121 finished with value: 0.882864203809215 and parameters: {'lambda': 10.0, 'alpha': 0.46415888336127786, 'colsample_bytree': 1.0, 'subsample': 0.6, 'learning_rate': 0.3593813663804626, 'n_estimators': 1000, 'max_depth': 7, 'random_state': 42, 'min_child_weight': 120}. Best is trial 119 with value: 0.8603163248837726.\n",
      "[I 2023-10-18 07:55:59,074] Trial 122 finished with value: 0.8603163248837726 and parameters: {'lambda': 10.0, 'alpha': 0.46415888336127786, 'colsample_bytree': 1.0, 'subsample': 0.6, 'learning_rate': 0.1291549665014884, 'n_estimators': 1000, 'max_depth': 7, 'random_state': 42, 'min_child_weight': 120}. Best is trial 119 with value: 0.8603163248837726.\n",
      "[I 2023-10-18 07:56:35,799] Trial 123 finished with value: 0.8603163248837726 and parameters: {'lambda': 10.0, 'alpha': 0.46415888336127786, 'colsample_bytree': 1.0, 'subsample': 0.6, 'learning_rate': 0.1291549665014884, 'n_estimators': 1000, 'max_depth': 7, 'random_state': 42, 'min_child_weight': 120}. Best is trial 119 with value: 0.8603163248837726.\n",
      "[I 2023-10-18 07:57:13,035] Trial 124 finished with value: 0.8603163248837726 and parameters: {'lambda': 10.0, 'alpha': 0.46415888336127786, 'colsample_bytree': 1.0, 'subsample': 0.6, 'learning_rate': 0.1291549665014884, 'n_estimators': 1000, 'max_depth': 7, 'random_state': 42, 'min_child_weight': 120}. Best is trial 119 with value: 0.8603163248837726.\n",
      "[I 2023-10-18 07:58:22,108] Trial 125 finished with value: 0.9382234548175963 and parameters: {'lambda': 1.2915496650148839, 'alpha': 0.46415888336127786, 'colsample_bytree': 1.0, 'subsample': 0.6, 'learning_rate': 0.1291549665014884, 'n_estimators': 1000, 'max_depth': 13, 'random_state': 42, 'min_child_weight': 120}. Best is trial 119 with value: 0.8603163248837726.\n",
      "[I 2023-10-18 08:00:05,066] Trial 126 finished with value: 0.9651813491329093 and parameters: {'lambda': 0.46415888336127786, 'alpha': 0.46415888336127786, 'colsample_bytree': 1.0, 'subsample': 0.6, 'learning_rate': 0.0774263682681127, 'n_estimators': 1000, 'max_depth': 17, 'random_state': 42, 'min_child_weight': 120}. Best is trial 119 with value: 0.8603163248837726.\n",
      "[I 2023-10-18 08:00:38,223] Trial 127 finished with value: 0.9345876887096769 and parameters: {'lambda': 10.0, 'alpha': 0.46415888336127786, 'colsample_bytree': 1.0, 'subsample': 0.6, 'learning_rate': 0.046415888336127774, 'n_estimators': 1000, 'max_depth': 7, 'random_state': 42, 'min_child_weight': 120}. Best is trial 119 with value: 0.8603163248837726.\n",
      "[I 2023-10-18 08:03:58,695] Trial 128 finished with value: 0.8943864835907637 and parameters: {'lambda': 3.5938136638046254, 'alpha': 0.46415888336127786, 'colsample_bytree': 1.0, 'subsample': 0.6, 'learning_rate': 0.5994842503189408, 'n_estimators': 1000, 'max_depth': 7, 'random_state': 42, 'min_child_weight': 120}. Best is trial 119 with value: 0.8603163248837726.\n",
      "[I 2023-10-18 08:05:45,134] Trial 129 finished with value: 1.028165676216322 and parameters: {'lambda': 10.0, 'alpha': 0.46415888336127786, 'colsample_bytree': 1.0, 'subsample': 0.6, 'learning_rate': 0.027825594022071243, 'n_estimators': 1000, 'max_depth': 7, 'random_state': 42, 'min_child_weight': 120}. Best is trial 119 with value: 0.8603163248837726.\n",
      "[I 2023-10-18 08:06:39,763] Trial 130 finished with value: 0.8963819065484854 and parameters: {'lambda': 2.1544346900318834, 'alpha': 0.46415888336127786, 'colsample_bytree': 1.0, 'subsample': 0.6, 'learning_rate': 0.1291549665014884, 'n_estimators': 1000, 'max_depth': 11, 'random_state': 42, 'min_child_weight': 120}. Best is trial 119 with value: 0.8603163248837726.\n",
      "[I 2023-10-18 08:07:14,252] Trial 131 finished with value: 0.8603163248837726 and parameters: {'lambda': 10.0, 'alpha': 0.46415888336127786, 'colsample_bytree': 1.0, 'subsample': 0.6, 'learning_rate': 0.1291549665014884, 'n_estimators': 1000, 'max_depth': 7, 'random_state': 42, 'min_child_weight': 120}. Best is trial 119 with value: 0.8603163248837726.\n",
      "[I 2023-10-18 08:07:57,505] Trial 132 finished with value: 0.8603163248837726 and parameters: {'lambda': 10.0, 'alpha': 0.46415888336127786, 'colsample_bytree': 1.0, 'subsample': 0.6, 'learning_rate': 0.1291549665014884, 'n_estimators': 1000, 'max_depth': 7, 'random_state': 42, 'min_child_weight': 120}. Best is trial 119 with value: 0.8603163248837726.\n",
      "[I 2023-10-18 08:08:33,722] Trial 133 finished with value: 0.8603163248837726 and parameters: {'lambda': 10.0, 'alpha': 0.46415888336127786, 'colsample_bytree': 1.0, 'subsample': 0.6, 'learning_rate': 0.1291549665014884, 'n_estimators': 1000, 'max_depth': 7, 'random_state': 42, 'min_child_weight': 120}. Best is trial 119 with value: 0.8603163248837726.\n",
      "[I 2023-10-18 08:09:16,950] Trial 134 finished with value: 0.8603163248837726 and parameters: {'lambda': 10.0, 'alpha': 0.46415888336127786, 'colsample_bytree': 1.0, 'subsample': 0.6, 'learning_rate': 0.1291549665014884, 'n_estimators': 1000, 'max_depth': 7, 'random_state': 42, 'min_child_weight': 120}. Best is trial 119 with value: 0.8603163248837726.\n",
      "[I 2023-10-18 08:10:01,455] Trial 135 finished with value: 0.868919813923154 and parameters: {'lambda': 0.09999999999999999, 'alpha': 0.46415888336127786, 'colsample_bytree': 1.0, 'subsample': 0.6, 'learning_rate': 0.1291549665014884, 'n_estimators': 1000, 'max_depth': 7, 'random_state': 42, 'min_child_weight': 120}. Best is trial 119 with value: 0.8603163248837726.\n",
      "[I 2023-10-18 08:10:40,124] Trial 136 finished with value: 0.9767460854163156 and parameters: {'lambda': 10.0, 'alpha': 0.46415888336127786, 'colsample_bytree': 1.0, 'subsample': 0.6, 'learning_rate': 1.0, 'n_estimators': 1000, 'max_depth': 7, 'random_state': 42, 'min_child_weight': 120}. Best is trial 119 with value: 0.8603163248837726.\n",
      "[I 2023-10-18 08:11:17,740] Trial 137 finished with value: 1.2944471518670122 and parameters: {'lambda': 10.0, 'alpha': 0.46415888336127786, 'colsample_bytree': 1.0, 'subsample': 0.6, 'learning_rate': 0.01, 'n_estimators': 1000, 'max_depth': 7, 'random_state': 42, 'min_child_weight': 120}. Best is trial 119 with value: 0.8603163248837726.\n",
      "[I 2023-10-18 08:11:55,346] Trial 138 finished with value: 0.8780597454143254 and parameters: {'lambda': 0.2782559402207124, 'alpha': 0.46415888336127786, 'colsample_bytree': 1.0, 'subsample': 0.6, 'learning_rate': 0.1291549665014884, 'n_estimators': 1000, 'max_depth': 7, 'random_state': 42, 'min_child_weight': 120}. Best is trial 119 with value: 0.8603163248837726.\n",
      "[I 2023-10-18 08:12:32,738] Trial 139 finished with value: 1.0463409257780785 and parameters: {'lambda': 10.0, 'alpha': 0.46415888336127786, 'colsample_bytree': 0.4, 'subsample': 0.6, 'learning_rate': 0.1291549665014884, 'n_estimators': 1000, 'max_depth': 7, 'random_state': 42, 'min_child_weight': 120}. Best is trial 119 with value: 0.8603163248837726.\n",
      "[I 2023-10-18 08:13:09,478] Trial 140 finished with value: 0.8780597454143254 and parameters: {'lambda': 0.2782559402207124, 'alpha': 0.46415888336127786, 'colsample_bytree': 1.0, 'subsample': 0.6, 'learning_rate': 0.1291549665014884, 'n_estimators': 1000, 'max_depth': 7, 'random_state': 42, 'min_child_weight': 120}. Best is trial 119 with value: 0.8603163248837726.\n",
      "[I 2023-10-18 08:13:45,988] Trial 141 finished with value: 0.8603163248837726 and parameters: {'lambda': 10.0, 'alpha': 0.46415888336127786, 'colsample_bytree': 1.0, 'subsample': 0.6, 'learning_rate': 0.1291549665014884, 'n_estimators': 1000, 'max_depth': 7, 'random_state': 42, 'min_child_weight': 120}. Best is trial 119 with value: 0.8603163248837726.\n",
      "[I 2023-10-18 08:14:26,990] Trial 142 finished with value: 0.8603163248837726 and parameters: {'lambda': 10.0, 'alpha': 0.46415888336127786, 'colsample_bytree': 1.0, 'subsample': 0.6, 'learning_rate': 0.1291549665014884, 'n_estimators': 1000, 'max_depth': 7, 'random_state': 42, 'min_child_weight': 120}. Best is trial 119 with value: 0.8603163248837726.\n",
      "[I 2023-10-18 08:15:10,013] Trial 143 finished with value: 0.8603163248837726 and parameters: {'lambda': 10.0, 'alpha': 0.46415888336127786, 'colsample_bytree': 1.0, 'subsample': 0.6, 'learning_rate': 0.1291549665014884, 'n_estimators': 1000, 'max_depth': 7, 'random_state': 42, 'min_child_weight': 120}. Best is trial 119 with value: 0.8603163248837726.\n",
      "[I 2023-10-18 08:16:33,001] Trial 144 finished with value: 0.9814052026543 and parameters: {'lambda': 10.0, 'alpha': 0.46415888336127786, 'colsample_bytree': 1.0, 'subsample': 0.6, 'learning_rate': 0.1291549665014884, 'n_estimators': 1000, 'max_depth': 15, 'random_state': 42, 'min_child_weight': 120}. Best is trial 119 with value: 0.8603163248837726.\n",
      "[I 2023-10-18 08:17:12,801] Trial 145 finished with value: 0.8603163248837726 and parameters: {'lambda': 10.0, 'alpha': 0.46415888336127786, 'colsample_bytree': 1.0, 'subsample': 0.6, 'learning_rate': 0.1291549665014884, 'n_estimators': 1000, 'max_depth': 7, 'random_state': 42, 'min_child_weight': 120}. Best is trial 119 with value: 0.8603163248837726.\n",
      "[I 2023-10-18 08:17:54,080] Trial 146 finished with value: 0.8603163248837726 and parameters: {'lambda': 10.0, 'alpha': 0.46415888336127786, 'colsample_bytree': 1.0, 'subsample': 0.6, 'learning_rate': 0.1291549665014884, 'n_estimators': 1000, 'max_depth': 7, 'random_state': 42, 'min_child_weight': 120}. Best is trial 119 with value: 0.8603163248837726.\n",
      "[I 2023-10-18 08:19:02,481] Trial 147 finished with value: 0.9570650048414765 and parameters: {'lambda': 10.0, 'alpha': 0.46415888336127786, 'colsample_bytree': 1.0, 'subsample': 0.4, 'learning_rate': 0.1291549665014884, 'n_estimators': 1000, 'max_depth': 13, 'random_state': 42, 'min_child_weight': 120}. Best is trial 119 with value: 0.8603163248837726.\n",
      "[I 2023-10-18 08:20:52,393] Trial 148 finished with value: 1.1320538242377551 and parameters: {'lambda': 10.0, 'alpha': 0.46415888336127786, 'colsample_bytree': 1.0, 'subsample': 0.6, 'learning_rate': 0.3593813663804626, 'n_estimators': 1000, 'max_depth': 17, 'random_state': 42, 'min_child_weight': 120}. Best is trial 119 with value: 0.8603163248837726.\n",
      "[I 2023-10-18 08:21:30,705] Trial 149 finished with value: 0.9673959051634777 and parameters: {'lambda': 10.0, 'alpha': 0.46415888336127786, 'colsample_bytree': 0.6, 'subsample': 0.6, 'learning_rate': 0.1291549665014884, 'n_estimators': 1000, 'max_depth': 7, 'random_state': 42, 'min_child_weight': 120}. Best is trial 119 with value: 0.8603163248837726.\n",
      "[I 2023-10-18 08:22:08,288] Trial 150 finished with value: 1.1406129513231138 and parameters: {'lambda': 10.0, 'alpha': 0.46415888336127786, 'colsample_bytree': 1.0, 'subsample': 0.6, 'learning_rate': 0.01668100537200059, 'n_estimators': 1000, 'max_depth': 7, 'random_state': 42, 'min_child_weight': 120}. Best is trial 119 with value: 0.8603163248837726.\n",
      "[I 2023-10-18 08:22:45,488] Trial 151 finished with value: 0.8603163248837726 and parameters: {'lambda': 10.0, 'alpha': 0.46415888336127786, 'colsample_bytree': 1.0, 'subsample': 0.6, 'learning_rate': 0.1291549665014884, 'n_estimators': 1000, 'max_depth': 7, 'random_state': 42, 'min_child_weight': 120}. Best is trial 119 with value: 0.8603163248837726.\n",
      "[I 2023-10-18 08:23:22,019] Trial 152 finished with value: 0.8603163248837726 and parameters: {'lambda': 10.0, 'alpha': 0.46415888336127786, 'colsample_bytree': 1.0, 'subsample': 0.6, 'learning_rate': 0.1291549665014884, 'n_estimators': 1000, 'max_depth': 7, 'random_state': 42, 'min_child_weight': 120}. Best is trial 119 with value: 0.8603163248837726.\n",
      "[I 2023-10-18 08:23:59,417] Trial 153 finished with value: 0.8603163248837726 and parameters: {'lambda': 10.0, 'alpha': 0.46415888336127786, 'colsample_bytree': 1.0, 'subsample': 0.6, 'learning_rate': 0.1291549665014884, 'n_estimators': 1000, 'max_depth': 7, 'random_state': 42, 'min_child_weight': 120}. Best is trial 119 with value: 0.8603163248837726.\n",
      "[I 2023-10-18 08:26:22,917] Trial 154 finished with value: 0.8603163248837726 and parameters: {'lambda': 10.0, 'alpha': 0.46415888336127786, 'colsample_bytree': 1.0, 'subsample': 0.6, 'learning_rate': 0.1291549665014884, 'n_estimators': 1000, 'max_depth': 7, 'random_state': 42, 'min_child_weight': 120}. Best is trial 119 with value: 0.8603163248837726.\n",
      "[I 2023-10-18 08:30:12,341] Trial 155 finished with value: 0.8603163248837726 and parameters: {'lambda': 10.0, 'alpha': 0.46415888336127786, 'colsample_bytree': 1.0, 'subsample': 0.6, 'learning_rate': 0.1291549665014884, 'n_estimators': 1000, 'max_depth': 7, 'random_state': 42, 'min_child_weight': 120}. Best is trial 119 with value: 0.8603163248837726.\n",
      "[I 2023-10-18 08:30:46,994] Trial 156 finished with value: 0.8732682995711422 and parameters: {'lambda': 10.0, 'alpha': 0.46415888336127786, 'colsample_bytree': 1.0, 'subsample': 0.8, 'learning_rate': 0.1291549665014884, 'n_estimators': 1000, 'max_depth': 7, 'random_state': 42, 'min_child_weight': 120}. Best is trial 119 with value: 0.8603163248837726.\n",
      "[I 2023-10-18 08:31:44,175] Trial 157 finished with value: 0.8974861076771736 and parameters: {'lambda': 10.0, 'alpha': 0.46415888336127786, 'colsample_bytree': 1.0, 'subsample': 0.6, 'learning_rate': 0.1291549665014884, 'n_estimators': 1000, 'max_depth': 11, 'random_state': 42, 'min_child_weight': 120}. Best is trial 119 with value: 0.8603163248837726.\n",
      "[I 2023-10-18 08:32:24,860] Trial 158 finished with value: 0.8603163248837726 and parameters: {'lambda': 10.0, 'alpha': 0.46415888336127786, 'colsample_bytree': 1.0, 'subsample': 0.6, 'learning_rate': 0.1291549665014884, 'n_estimators': 1000, 'max_depth': 7, 'random_state': 42, 'min_child_weight': 120}. Best is trial 119 with value: 0.8603163248837726.\n",
      "[I 2023-10-18 08:32:59,794] Trial 159 finished with value: 0.8603163248837726 and parameters: {'lambda': 10.0, 'alpha': 0.46415888336127786, 'colsample_bytree': 1.0, 'subsample': 0.6, 'learning_rate': 0.1291549665014884, 'n_estimators': 1000, 'max_depth': 7, 'random_state': 42, 'min_child_weight': 120}. Best is trial 119 with value: 0.8603163248837726.\n",
      "[I 2023-10-18 08:33:33,790] Trial 160 finished with value: 0.891476284888764 and parameters: {'lambda': 10.0, 'alpha': 0.46415888336127786, 'colsample_bytree': 1.0, 'subsample': 0.6, 'learning_rate': 0.0774263682681127, 'n_estimators': 1000, 'max_depth': 7, 'random_state': 42, 'min_child_weight': 120}. Best is trial 119 with value: 0.8603163248837726.\n",
      "[I 2023-10-18 08:34:10,120] Trial 161 finished with value: 0.8603163248837726 and parameters: {'lambda': 10.0, 'alpha': 0.46415888336127786, 'colsample_bytree': 1.0, 'subsample': 0.6, 'learning_rate': 0.1291549665014884, 'n_estimators': 1000, 'max_depth': 7, 'random_state': 42, 'min_child_weight': 120}. Best is trial 119 with value: 0.8603163248837726.\n",
      "[W 2023-10-18 08:36:09,021] Trial 162 failed with parameters: {'lambda': 10.0, 'alpha': 0.46415888336127786, 'colsample_bytree': 1.0, 'subsample': 0.6, 'learning_rate': 0.1291549665014884, 'n_estimators': 1000, 'max_depth': 7, 'random_state': 42, 'min_child_weight': 120} because of the following error: KeyboardInterrupt().\n",
      "Traceback (most recent call last):\n",
      "  File \"/usr/local/lib/python3.10/dist-packages/optuna/study/_optimize.py\", line 200, in _run_trial\n",
      "    value_or_values = func(trial)\n",
      "  File \"/tmp/ipykernel_3094/1769223638.py\", line 14, in objective\n",
      "    model.fit(X_train, y_train)\n",
      "  File \"/usr/local/lib/python3.10/dist-packages/xgboost/core.py\", line 729, in inner_f\n",
      "    return func(**kwargs)\n",
      "  File \"/usr/local/lib/python3.10/dist-packages/xgboost/sklearn.py\", line 1086, in fit\n",
      "    self._Booster = train(\n",
      "  File \"/usr/local/lib/python3.10/dist-packages/xgboost/core.py\", line 729, in inner_f\n",
      "    return func(**kwargs)\n",
      "  File \"/usr/local/lib/python3.10/dist-packages/xgboost/training.py\", line 181, in train\n",
      "    bst.update(dtrain, i, obj)\n",
      "  File \"/usr/local/lib/python3.10/dist-packages/xgboost/core.py\", line 2050, in update\n",
      "    _LIB.XGBoosterUpdateOneIter(\n",
      "KeyboardInterrupt\n",
      "[W 2023-10-18 08:36:09,022] Trial 162 failed with value None.\n"
     ]
    },
    {
     "ename": "KeyboardInterrupt",
     "evalue": "",
     "output_type": "error",
     "traceback": [
      "\u001b[0;31m---------------------------------------------------------------------------\u001b[0m",
      "\u001b[0;31mKeyboardInterrupt\u001b[0m                         Traceback (most recent call last)",
      "\u001b[0;32m/tmp/ipykernel_3094/2300179341.py\u001b[0m in \u001b[0;36m<module>\u001b[0;34m\u001b[0m\n\u001b[1;32m      1\u001b[0m \u001b[0mstudy\u001b[0m \u001b[0;34m=\u001b[0m \u001b[0moptuna\u001b[0m\u001b[0;34m.\u001b[0m\u001b[0mcreate_study\u001b[0m\u001b[0;34m(\u001b[0m\u001b[0mdirection\u001b[0m\u001b[0;34m=\u001b[0m\u001b[0;34m'minimize'\u001b[0m\u001b[0;34m)\u001b[0m\u001b[0;34m\u001b[0m\u001b[0;34m\u001b[0m\u001b[0m\n\u001b[0;32m----> 2\u001b[0;31m \u001b[0mstudy\u001b[0m\u001b[0;34m.\u001b[0m\u001b[0moptimize\u001b[0m\u001b[0;34m(\u001b[0m\u001b[0mobjective\u001b[0m\u001b[0;34m,\u001b[0m \u001b[0mn_trials\u001b[0m\u001b[0;34m=\u001b[0m\u001b[0;36m1000\u001b[0m\u001b[0;34m)\u001b[0m\u001b[0;34m\u001b[0m\u001b[0;34m\u001b[0m\u001b[0m\n\u001b[0m\u001b[1;32m      3\u001b[0m \u001b[0mprint\u001b[0m\u001b[0;34m(\u001b[0m\u001b[0;34m'Number of finished trials:'\u001b[0m\u001b[0;34m,\u001b[0m \u001b[0mlen\u001b[0m\u001b[0;34m(\u001b[0m\u001b[0mstudy\u001b[0m\u001b[0;34m.\u001b[0m\u001b[0mtrials\u001b[0m\u001b[0;34m)\u001b[0m\u001b[0;34m)\u001b[0m\u001b[0;34m\u001b[0m\u001b[0;34m\u001b[0m\u001b[0m\n\u001b[1;32m      4\u001b[0m \u001b[0mprint\u001b[0m\u001b[0;34m(\u001b[0m\u001b[0;34m'Best trial:'\u001b[0m\u001b[0;34m,\u001b[0m \u001b[0mstudy\u001b[0m\u001b[0;34m.\u001b[0m\u001b[0mbest_trial\u001b[0m\u001b[0;34m.\u001b[0m\u001b[0mparams\u001b[0m\u001b[0;34m)\u001b[0m\u001b[0;34m\u001b[0m\u001b[0;34m\u001b[0m\u001b[0m\n",
      "\u001b[0;32m/usr/local/lib/python3.10/dist-packages/optuna/study/study.py\u001b[0m in \u001b[0;36moptimize\u001b[0;34m(self, func, n_trials, timeout, n_jobs, catch, callbacks, gc_after_trial, show_progress_bar)\u001b[0m\n\u001b[1;32m    449\u001b[0m                 \u001b[0mIf\u001b[0m \u001b[0mnested\u001b[0m \u001b[0minvocation\u001b[0m \u001b[0mof\u001b[0m \u001b[0mthis\u001b[0m \u001b[0mmethod\u001b[0m \u001b[0moccurs\u001b[0m\u001b[0;34m.\u001b[0m\u001b[0;34m\u001b[0m\u001b[0;34m\u001b[0m\u001b[0m\n\u001b[1;32m    450\u001b[0m         \"\"\"\n\u001b[0;32m--> 451\u001b[0;31m         _optimize(\n\u001b[0m\u001b[1;32m    452\u001b[0m             \u001b[0mstudy\u001b[0m\u001b[0;34m=\u001b[0m\u001b[0mself\u001b[0m\u001b[0;34m,\u001b[0m\u001b[0;34m\u001b[0m\u001b[0;34m\u001b[0m\u001b[0m\n\u001b[1;32m    453\u001b[0m             \u001b[0mfunc\u001b[0m\u001b[0;34m=\u001b[0m\u001b[0mfunc\u001b[0m\u001b[0;34m,\u001b[0m\u001b[0;34m\u001b[0m\u001b[0;34m\u001b[0m\u001b[0m\n",
      "\u001b[0;32m/usr/local/lib/python3.10/dist-packages/optuna/study/_optimize.py\u001b[0m in \u001b[0;36m_optimize\u001b[0;34m(study, func, n_trials, timeout, n_jobs, catch, callbacks, gc_after_trial, show_progress_bar)\u001b[0m\n\u001b[1;32m     64\u001b[0m     \u001b[0;32mtry\u001b[0m\u001b[0;34m:\u001b[0m\u001b[0;34m\u001b[0m\u001b[0;34m\u001b[0m\u001b[0m\n\u001b[1;32m     65\u001b[0m         \u001b[0;32mif\u001b[0m \u001b[0mn_jobs\u001b[0m \u001b[0;34m==\u001b[0m \u001b[0;36m1\u001b[0m\u001b[0;34m:\u001b[0m\u001b[0;34m\u001b[0m\u001b[0;34m\u001b[0m\u001b[0m\n\u001b[0;32m---> 66\u001b[0;31m             _optimize_sequential(\n\u001b[0m\u001b[1;32m     67\u001b[0m                 \u001b[0mstudy\u001b[0m\u001b[0;34m,\u001b[0m\u001b[0;34m\u001b[0m\u001b[0;34m\u001b[0m\u001b[0m\n\u001b[1;32m     68\u001b[0m                 \u001b[0mfunc\u001b[0m\u001b[0;34m,\u001b[0m\u001b[0;34m\u001b[0m\u001b[0;34m\u001b[0m\u001b[0m\n",
      "\u001b[0;32m/usr/local/lib/python3.10/dist-packages/optuna/study/_optimize.py\u001b[0m in \u001b[0;36m_optimize_sequential\u001b[0;34m(study, func, n_trials, timeout, catch, callbacks, gc_after_trial, reseed_sampler_rng, time_start, progress_bar)\u001b[0m\n\u001b[1;32m    161\u001b[0m \u001b[0;34m\u001b[0m\u001b[0m\n\u001b[1;32m    162\u001b[0m         \u001b[0;32mtry\u001b[0m\u001b[0;34m:\u001b[0m\u001b[0;34m\u001b[0m\u001b[0;34m\u001b[0m\u001b[0m\n\u001b[0;32m--> 163\u001b[0;31m             \u001b[0mfrozen_trial\u001b[0m \u001b[0;34m=\u001b[0m \u001b[0m_run_trial\u001b[0m\u001b[0;34m(\u001b[0m\u001b[0mstudy\u001b[0m\u001b[0;34m,\u001b[0m \u001b[0mfunc\u001b[0m\u001b[0;34m,\u001b[0m \u001b[0mcatch\u001b[0m\u001b[0;34m)\u001b[0m\u001b[0;34m\u001b[0m\u001b[0;34m\u001b[0m\u001b[0m\n\u001b[0m\u001b[1;32m    164\u001b[0m         \u001b[0;32mfinally\u001b[0m\u001b[0;34m:\u001b[0m\u001b[0;34m\u001b[0m\u001b[0;34m\u001b[0m\u001b[0m\n\u001b[1;32m    165\u001b[0m             \u001b[0;31m# The following line mitigates memory problems that can be occurred in some\u001b[0m\u001b[0;34m\u001b[0m\u001b[0;34m\u001b[0m\u001b[0m\n",
      "\u001b[0;32m/usr/local/lib/python3.10/dist-packages/optuna/study/_optimize.py\u001b[0m in \u001b[0;36m_run_trial\u001b[0;34m(study, func, catch)\u001b[0m\n\u001b[1;32m    249\u001b[0m         \u001b[0;32mand\u001b[0m \u001b[0;32mnot\u001b[0m \u001b[0misinstance\u001b[0m\u001b[0;34m(\u001b[0m\u001b[0mfunc_err\u001b[0m\u001b[0;34m,\u001b[0m \u001b[0mcatch\u001b[0m\u001b[0;34m)\u001b[0m\u001b[0;34m\u001b[0m\u001b[0;34m\u001b[0m\u001b[0m\n\u001b[1;32m    250\u001b[0m     ):\n\u001b[0;32m--> 251\u001b[0;31m         \u001b[0;32mraise\u001b[0m \u001b[0mfunc_err\u001b[0m\u001b[0;34m\u001b[0m\u001b[0;34m\u001b[0m\u001b[0m\n\u001b[0m\u001b[1;32m    252\u001b[0m     \u001b[0;32mreturn\u001b[0m \u001b[0mfrozen_trial\u001b[0m\u001b[0;34m\u001b[0m\u001b[0;34m\u001b[0m\u001b[0m\n\u001b[1;32m    253\u001b[0m \u001b[0;34m\u001b[0m\u001b[0m\n",
      "\u001b[0;32m/usr/local/lib/python3.10/dist-packages/optuna/study/_optimize.py\u001b[0m in \u001b[0;36m_run_trial\u001b[0;34m(study, func, catch)\u001b[0m\n\u001b[1;32m    198\u001b[0m     \u001b[0;32mwith\u001b[0m \u001b[0mget_heartbeat_thread\u001b[0m\u001b[0;34m(\u001b[0m\u001b[0mtrial\u001b[0m\u001b[0;34m.\u001b[0m\u001b[0m_trial_id\u001b[0m\u001b[0;34m,\u001b[0m \u001b[0mstudy\u001b[0m\u001b[0;34m.\u001b[0m\u001b[0m_storage\u001b[0m\u001b[0;34m)\u001b[0m\u001b[0;34m:\u001b[0m\u001b[0;34m\u001b[0m\u001b[0;34m\u001b[0m\u001b[0m\n\u001b[1;32m    199\u001b[0m         \u001b[0;32mtry\u001b[0m\u001b[0;34m:\u001b[0m\u001b[0;34m\u001b[0m\u001b[0;34m\u001b[0m\u001b[0m\n\u001b[0;32m--> 200\u001b[0;31m             \u001b[0mvalue_or_values\u001b[0m \u001b[0;34m=\u001b[0m \u001b[0mfunc\u001b[0m\u001b[0;34m(\u001b[0m\u001b[0mtrial\u001b[0m\u001b[0;34m)\u001b[0m\u001b[0;34m\u001b[0m\u001b[0;34m\u001b[0m\u001b[0m\n\u001b[0m\u001b[1;32m    201\u001b[0m         \u001b[0;32mexcept\u001b[0m \u001b[0mexceptions\u001b[0m\u001b[0;34m.\u001b[0m\u001b[0mTrialPruned\u001b[0m \u001b[0;32mas\u001b[0m \u001b[0me\u001b[0m\u001b[0;34m:\u001b[0m\u001b[0;34m\u001b[0m\u001b[0;34m\u001b[0m\u001b[0m\n\u001b[1;32m    202\u001b[0m             \u001b[0;31m# TODO(mamu): Handle multi-objective cases.\u001b[0m\u001b[0;34m\u001b[0m\u001b[0;34m\u001b[0m\u001b[0m\n",
      "\u001b[0;32m/tmp/ipykernel_3094/1769223638.py\u001b[0m in \u001b[0;36mobjective\u001b[0;34m(trial, X_train, y_train, X_eval, y_eval)\u001b[0m\n\u001b[1;32m     12\u001b[0m     }\n\u001b[1;32m     13\u001b[0m     \u001b[0mmodel\u001b[0m \u001b[0;34m=\u001b[0m \u001b[0mxgb\u001b[0m\u001b[0;34m.\u001b[0m\u001b[0mXGBRegressor\u001b[0m\u001b[0;34m(\u001b[0m\u001b[0;34m**\u001b[0m\u001b[0mparam\u001b[0m\u001b[0;34m,\u001b[0m \u001b[0mobjective\u001b[0m\u001b[0;34m=\u001b[0m\u001b[0;34m'reg:tweedie'\u001b[0m\u001b[0;34m)\u001b[0m\u001b[0;34m\u001b[0m\u001b[0;34m\u001b[0m\u001b[0m\n\u001b[0;32m---> 14\u001b[0;31m     \u001b[0mmodel\u001b[0m\u001b[0;34m.\u001b[0m\u001b[0mfit\u001b[0m\u001b[0;34m(\u001b[0m\u001b[0mX_train\u001b[0m\u001b[0;34m,\u001b[0m \u001b[0my_train\u001b[0m\u001b[0;34m)\u001b[0m\u001b[0;34m\u001b[0m\u001b[0;34m\u001b[0m\u001b[0m\n\u001b[0m\u001b[1;32m     15\u001b[0m     \u001b[0my_pred\u001b[0m \u001b[0;34m=\u001b[0m \u001b[0mmodel\u001b[0m\u001b[0;34m.\u001b[0m\u001b[0mpredict\u001b[0m\u001b[0;34m(\u001b[0m\u001b[0mX_eval\u001b[0m\u001b[0;34m)\u001b[0m\u001b[0;34m\u001b[0m\u001b[0;34m\u001b[0m\u001b[0m\n\u001b[1;32m     16\u001b[0m     \u001b[0mscore\u001b[0m \u001b[0;34m=\u001b[0m \u001b[0mnp\u001b[0m\u001b[0;34m.\u001b[0m\u001b[0mmean\u001b[0m\u001b[0;34m(\u001b[0m\u001b[0mnp\u001b[0m\u001b[0;34m.\u001b[0m\u001b[0mabs\u001b[0m\u001b[0;34m(\u001b[0m\u001b[0my_eval\u001b[0m \u001b[0;34m-\u001b[0m \u001b[0my_pred\u001b[0m\u001b[0;34m)\u001b[0m\u001b[0;34m/\u001b[0m\u001b[0my_pred\u001b[0m\u001b[0;34m)\u001b[0m\u001b[0;34m\u001b[0m\u001b[0;34m\u001b[0m\u001b[0m\n",
      "\u001b[0;32m/usr/local/lib/python3.10/dist-packages/xgboost/core.py\u001b[0m in \u001b[0;36minner_f\u001b[0;34m(*args, **kwargs)\u001b[0m\n\u001b[1;32m    727\u001b[0m             \u001b[0;32mfor\u001b[0m \u001b[0mk\u001b[0m\u001b[0;34m,\u001b[0m \u001b[0marg\u001b[0m \u001b[0;32min\u001b[0m \u001b[0mzip\u001b[0m\u001b[0;34m(\u001b[0m\u001b[0msig\u001b[0m\u001b[0;34m.\u001b[0m\u001b[0mparameters\u001b[0m\u001b[0;34m,\u001b[0m \u001b[0margs\u001b[0m\u001b[0;34m)\u001b[0m\u001b[0;34m:\u001b[0m\u001b[0;34m\u001b[0m\u001b[0;34m\u001b[0m\u001b[0m\n\u001b[1;32m    728\u001b[0m                 \u001b[0mkwargs\u001b[0m\u001b[0;34m[\u001b[0m\u001b[0mk\u001b[0m\u001b[0;34m]\u001b[0m \u001b[0;34m=\u001b[0m \u001b[0marg\u001b[0m\u001b[0;34m\u001b[0m\u001b[0;34m\u001b[0m\u001b[0m\n\u001b[0;32m--> 729\u001b[0;31m             \u001b[0;32mreturn\u001b[0m \u001b[0mfunc\u001b[0m\u001b[0;34m(\u001b[0m\u001b[0;34m**\u001b[0m\u001b[0mkwargs\u001b[0m\u001b[0;34m)\u001b[0m\u001b[0;34m\u001b[0m\u001b[0;34m\u001b[0m\u001b[0m\n\u001b[0m\u001b[1;32m    730\u001b[0m \u001b[0;34m\u001b[0m\u001b[0m\n\u001b[1;32m    731\u001b[0m         \u001b[0;32mreturn\u001b[0m \u001b[0minner_f\u001b[0m\u001b[0;34m\u001b[0m\u001b[0;34m\u001b[0m\u001b[0m\n",
      "\u001b[0;32m/usr/local/lib/python3.10/dist-packages/xgboost/sklearn.py\u001b[0m in \u001b[0;36mfit\u001b[0;34m(self, X, y, sample_weight, base_margin, eval_set, eval_metric, early_stopping_rounds, verbose, xgb_model, sample_weight_eval_set, base_margin_eval_set, feature_weights, callbacks)\u001b[0m\n\u001b[1;32m   1084\u001b[0m                 \u001b[0mxgb_model\u001b[0m\u001b[0;34m,\u001b[0m \u001b[0meval_metric\u001b[0m\u001b[0;34m,\u001b[0m \u001b[0mparams\u001b[0m\u001b[0;34m,\u001b[0m \u001b[0mearly_stopping_rounds\u001b[0m\u001b[0;34m,\u001b[0m \u001b[0mcallbacks\u001b[0m\u001b[0;34m\u001b[0m\u001b[0;34m\u001b[0m\u001b[0m\n\u001b[1;32m   1085\u001b[0m             )\n\u001b[0;32m-> 1086\u001b[0;31m             self._Booster = train(\n\u001b[0m\u001b[1;32m   1087\u001b[0m                 \u001b[0mparams\u001b[0m\u001b[0;34m,\u001b[0m\u001b[0;34m\u001b[0m\u001b[0;34m\u001b[0m\u001b[0m\n\u001b[1;32m   1088\u001b[0m                 \u001b[0mtrain_dmatrix\u001b[0m\u001b[0;34m,\u001b[0m\u001b[0;34m\u001b[0m\u001b[0;34m\u001b[0m\u001b[0m\n",
      "\u001b[0;32m/usr/local/lib/python3.10/dist-packages/xgboost/core.py\u001b[0m in \u001b[0;36minner_f\u001b[0;34m(*args, **kwargs)\u001b[0m\n\u001b[1;32m    727\u001b[0m             \u001b[0;32mfor\u001b[0m \u001b[0mk\u001b[0m\u001b[0;34m,\u001b[0m \u001b[0marg\u001b[0m \u001b[0;32min\u001b[0m \u001b[0mzip\u001b[0m\u001b[0;34m(\u001b[0m\u001b[0msig\u001b[0m\u001b[0;34m.\u001b[0m\u001b[0mparameters\u001b[0m\u001b[0;34m,\u001b[0m \u001b[0margs\u001b[0m\u001b[0;34m)\u001b[0m\u001b[0;34m:\u001b[0m\u001b[0;34m\u001b[0m\u001b[0;34m\u001b[0m\u001b[0m\n\u001b[1;32m    728\u001b[0m                 \u001b[0mkwargs\u001b[0m\u001b[0;34m[\u001b[0m\u001b[0mk\u001b[0m\u001b[0;34m]\u001b[0m \u001b[0;34m=\u001b[0m \u001b[0marg\u001b[0m\u001b[0;34m\u001b[0m\u001b[0;34m\u001b[0m\u001b[0m\n\u001b[0;32m--> 729\u001b[0;31m             \u001b[0;32mreturn\u001b[0m \u001b[0mfunc\u001b[0m\u001b[0;34m(\u001b[0m\u001b[0;34m**\u001b[0m\u001b[0mkwargs\u001b[0m\u001b[0;34m)\u001b[0m\u001b[0;34m\u001b[0m\u001b[0;34m\u001b[0m\u001b[0m\n\u001b[0m\u001b[1;32m    730\u001b[0m \u001b[0;34m\u001b[0m\u001b[0m\n\u001b[1;32m    731\u001b[0m         \u001b[0;32mreturn\u001b[0m \u001b[0minner_f\u001b[0m\u001b[0;34m\u001b[0m\u001b[0;34m\u001b[0m\u001b[0m\n",
      "\u001b[0;32m/usr/local/lib/python3.10/dist-packages/xgboost/training.py\u001b[0m in \u001b[0;36mtrain\u001b[0;34m(params, dtrain, num_boost_round, evals, obj, feval, maximize, early_stopping_rounds, evals_result, verbose_eval, xgb_model, callbacks, custom_metric)\u001b[0m\n\u001b[1;32m    179\u001b[0m         \u001b[0;32mif\u001b[0m \u001b[0mcb_container\u001b[0m\u001b[0;34m.\u001b[0m\u001b[0mbefore_iteration\u001b[0m\u001b[0;34m(\u001b[0m\u001b[0mbst\u001b[0m\u001b[0;34m,\u001b[0m \u001b[0mi\u001b[0m\u001b[0;34m,\u001b[0m \u001b[0mdtrain\u001b[0m\u001b[0;34m,\u001b[0m \u001b[0mevals\u001b[0m\u001b[0;34m)\u001b[0m\u001b[0;34m:\u001b[0m\u001b[0;34m\u001b[0m\u001b[0;34m\u001b[0m\u001b[0m\n\u001b[1;32m    180\u001b[0m             \u001b[0;32mbreak\u001b[0m\u001b[0;34m\u001b[0m\u001b[0;34m\u001b[0m\u001b[0m\n\u001b[0;32m--> 181\u001b[0;31m         \u001b[0mbst\u001b[0m\u001b[0;34m.\u001b[0m\u001b[0mupdate\u001b[0m\u001b[0;34m(\u001b[0m\u001b[0mdtrain\u001b[0m\u001b[0;34m,\u001b[0m \u001b[0mi\u001b[0m\u001b[0;34m,\u001b[0m \u001b[0mobj\u001b[0m\u001b[0;34m)\u001b[0m\u001b[0;34m\u001b[0m\u001b[0;34m\u001b[0m\u001b[0m\n\u001b[0m\u001b[1;32m    182\u001b[0m         \u001b[0;32mif\u001b[0m \u001b[0mcb_container\u001b[0m\u001b[0;34m.\u001b[0m\u001b[0mafter_iteration\u001b[0m\u001b[0;34m(\u001b[0m\u001b[0mbst\u001b[0m\u001b[0;34m,\u001b[0m \u001b[0mi\u001b[0m\u001b[0;34m,\u001b[0m \u001b[0mdtrain\u001b[0m\u001b[0;34m,\u001b[0m \u001b[0mevals\u001b[0m\u001b[0;34m)\u001b[0m\u001b[0;34m:\u001b[0m\u001b[0;34m\u001b[0m\u001b[0;34m\u001b[0m\u001b[0m\n\u001b[1;32m    183\u001b[0m             \u001b[0;32mbreak\u001b[0m\u001b[0;34m\u001b[0m\u001b[0;34m\u001b[0m\u001b[0m\n",
      "\u001b[0;32m/usr/local/lib/python3.10/dist-packages/xgboost/core.py\u001b[0m in \u001b[0;36mupdate\u001b[0;34m(self, dtrain, iteration, fobj)\u001b[0m\n\u001b[1;32m   2048\u001b[0m         \u001b[0;32mif\u001b[0m \u001b[0mfobj\u001b[0m \u001b[0;32mis\u001b[0m \u001b[0;32mNone\u001b[0m\u001b[0;34m:\u001b[0m\u001b[0;34m\u001b[0m\u001b[0;34m\u001b[0m\u001b[0m\n\u001b[1;32m   2049\u001b[0m             _check_call(\n\u001b[0;32m-> 2050\u001b[0;31m                 _LIB.XGBoosterUpdateOneIter(\n\u001b[0m\u001b[1;32m   2051\u001b[0m                     \u001b[0mself\u001b[0m\u001b[0;34m.\u001b[0m\u001b[0mhandle\u001b[0m\u001b[0;34m,\u001b[0m \u001b[0mctypes\u001b[0m\u001b[0;34m.\u001b[0m\u001b[0mc_int\u001b[0m\u001b[0;34m(\u001b[0m\u001b[0miteration\u001b[0m\u001b[0;34m)\u001b[0m\u001b[0;34m,\u001b[0m \u001b[0mdtrain\u001b[0m\u001b[0;34m.\u001b[0m\u001b[0mhandle\u001b[0m\u001b[0;34m\u001b[0m\u001b[0;34m\u001b[0m\u001b[0m\n\u001b[1;32m   2052\u001b[0m                 )\n",
      "\u001b[0;31mKeyboardInterrupt\u001b[0m: "
     ]
    }
   ],
   "source": [
    "study = optuna.create_study(direction='minimize')\n",
    "study.optimize(objective, n_trials=1000)\n",
    "print('Number of finished trials:', len(study.trials))\n",
    "print('Best trial:', study.best_trial.params)"
   ]
  },
  {
   "cell_type": "code",
   "execution_count": 19,
   "metadata": {},
   "outputs": [],
   "source": [
    "def objective(trial, X_train=df[feats], y_train=df[target], X_eval=df_v[feats], y_eval=df_v[target]):\n",
    "    param = {\n",
    "        'lambda': trial.suggest_categorical('lambda', np.logspace(-1, 1, 10)),\n",
    "        'alpha': trial.suggest_categorical('alpha', np.logspace(-1, 1, 10)),\n",
    "        'colsample_bytree': trial.suggest_categorical('colsample_bytree', [0.4,0.6,0.8,1.0]),\n",
    "        'subsample': trial.suggest_categorical('subsample', [0.4,0.6,0.8,1.0]),\n",
    "        'learning_rate': trial.suggest_categorical('learning_rate', np.logspace(-2, 0, 10)),\n",
    "        'n_estimators': trial.suggest_categorical('n_estimators', [1000]),\n",
    "        'max_depth': trial.suggest_categorical('max_depth', [18]),\n",
    "        'random_state': trial.suggest_categorical('random_state', [42]),\n",
    "        'min_child_weight': trial.suggest_categorical('min_child_weight', [1]+list(np.arange(30, 301, 30))),\n",
    "    }\n",
    "    model = xgb.XGBRegressor(**param, objective='reg:tweedie')\n",
    "    model.fit(X_train, y_train)\n",
    "    y_pred = model.predict(X_eval)\n",
    "    score = np.mean(np.abs(y_eval - y_pred)/y_pred)\n",
    "    return score"
   ]
  },
  {
   "cell_type": "code",
   "execution_count": null,
   "metadata": {},
   "outputs": [
    {
     "name": "stderr",
     "output_type": "stream",
     "text": [
      "[I 2023-10-18 08:40:07,869] A new study created in memory with name: no-name-7f7e0fd1-d606-439c-ba4e-7200296de90d\n",
      "[I 2023-10-18 08:42:46,953] Trial 0 finished with value: 1.1158838739427233 and parameters: {'lambda': 0.16681005372000587, 'alpha': 0.16681005372000587, 'colsample_bytree': 0.8, 'subsample': 0.4, 'learning_rate': 0.0774263682681127, 'n_estimators': 1000, 'max_depth': 18, 'random_state': 42, 'min_child_weight': 30}. Best is trial 0 with value: 1.1158838739427233.\n",
      "[I 2023-10-18 08:45:04,015] Trial 1 finished with value: 1.7828701532742253 and parameters: {'lambda': 5.994842503189409, 'alpha': 0.46415888336127786, 'colsample_bytree': 1.0, 'subsample': 0.4, 'learning_rate': 0.5994842503189408, 'n_estimators': 1000, 'max_depth': 18, 'random_state': 42, 'min_child_weight': 60}. Best is trial 0 with value: 1.1158838739427233.\n",
      "[I 2023-10-18 08:46:21,428] Trial 2 finished with value: 1.1550416717821463 and parameters: {'lambda': 1.2915496650148839, 'alpha': 2.1544346900318834, 'colsample_bytree': 0.4, 'subsample': 0.4, 'learning_rate': 0.01668100537200059, 'n_estimators': 1000, 'max_depth': 18, 'random_state': 42, 'min_child_weight': 240}. Best is trial 0 with value: 1.1158838739427233.\n",
      "[I 2023-10-18 08:48:38,990] Trial 3 finished with value: 0.9449723218824333 and parameters: {'lambda': 2.1544346900318834, 'alpha': 1.2915496650148839, 'colsample_bytree': 1.0, 'subsample': 0.6, 'learning_rate': 0.027825594022071243, 'n_estimators': 1000, 'max_depth': 18, 'random_state': 42, 'min_child_weight': 60}. Best is trial 3 with value: 0.9449723218824333.\n",
      "[I 2023-10-18 08:50:50,353] Trial 4 finished with value: 1.0785301020581217 and parameters: {'lambda': 3.5938136638046254, 'alpha': 0.09999999999999999, 'colsample_bytree': 1.0, 'subsample': 0.6, 'learning_rate': 0.21544346900318834, 'n_estimators': 1000, 'max_depth': 18, 'random_state': 42, 'min_child_weight': 90}. Best is trial 3 with value: 0.9449723218824333.\n",
      "[I 2023-10-18 08:52:18,477] Trial 5 finished with value: 1.0236149358022877 and parameters: {'lambda': 3.5938136638046254, 'alpha': 3.5938136638046254, 'colsample_bytree': 0.6, 'subsample': 0.4, 'learning_rate': 0.21544346900318834, 'n_estimators': 1000, 'max_depth': 18, 'random_state': 42, 'min_child_weight': 270}. Best is trial 3 with value: 0.9449723218824333.\n",
      "[I 2023-10-18 08:53:55,804] Trial 6 finished with value: 0.9503353592987475 and parameters: {'lambda': 5.994842503189409, 'alpha': 10.0, 'colsample_bytree': 0.8, 'subsample': 0.4, 'learning_rate': 0.046415888336127774, 'n_estimators': 1000, 'max_depth': 18, 'random_state': 42, 'min_child_weight': 240}. Best is trial 3 with value: 0.9449723218824333.\n",
      "[I 2023-10-18 08:55:34,489] Trial 7 finished with value: 1.1975600424795023 and parameters: {'lambda': 2.1544346900318834, 'alpha': 0.16681005372000587, 'colsample_bytree': 1.0, 'subsample': 0.8, 'learning_rate': 0.5994842503189408, 'n_estimators': 1000, 'max_depth': 18, 'random_state': 42, 'min_child_weight': 270}. Best is trial 3 with value: 0.9449723218824333.\n",
      "[I 2023-10-18 08:56:57,833] Trial 8 finished with value: 2.1917241398102614 and parameters: {'lambda': 0.7742636826811269, 'alpha': 2.1544346900318834, 'colsample_bytree': 0.4, 'subsample': 0.4, 'learning_rate': 1.0, 'n_estimators': 1000, 'max_depth': 18, 'random_state': 42, 'min_child_weight': 60}. Best is trial 3 with value: 0.9449723218824333.\n",
      "[I 2023-10-18 08:58:05,166] Trial 9 finished with value: 1.1037293576807574 and parameters: {'lambda': 0.16681005372000587, 'alpha': 10.0, 'colsample_bytree': 0.4, 'subsample': 0.4, 'learning_rate': 0.5994842503189408, 'n_estimators': 1000, 'max_depth': 18, 'random_state': 42, 'min_child_weight': 300}. Best is trial 3 with value: 0.9449723218824333.\n",
      "[I 2023-10-18 08:59:30,698] Trial 10 finished with value: 1.0165028589598715 and parameters: {'lambda': 2.1544346900318834, 'alpha': 1.2915496650148839, 'colsample_bytree': 0.6, 'subsample': 0.6, 'learning_rate': 0.027825594022071243, 'n_estimators': 1000, 'max_depth': 18, 'random_state': 42, 'min_child_weight': 210}. Best is trial 3 with value: 0.9449723218824333.\n",
      "[I 2023-10-18 09:02:28,280] Trial 11 finished with value: 1.0511913553525094 and parameters: {'lambda': 10.0, 'alpha': 0.7742636826811269, 'colsample_bytree': 0.8, 'subsample': 1.0, 'learning_rate': 0.046415888336127774, 'n_estimators': 1000, 'max_depth': 18, 'random_state': 42, 'min_child_weight': 1}. Best is trial 3 with value: 0.9449723218824333.\n",
      "[I 2023-10-18 09:04:13,737] Trial 12 finished with value: 0.9846704316917032 and parameters: {'lambda': 5.994842503189409, 'alpha': 1.2915496650148839, 'colsample_bytree': 0.8, 'subsample': 0.6, 'learning_rate': 0.046415888336127774, 'n_estimators': 1000, 'max_depth': 18, 'random_state': 42, 'min_child_weight': 120}. Best is trial 3 with value: 0.9449723218824333.\n",
      "[I 2023-10-18 09:05:46,717] Trial 13 finished with value: 0.9031793896365663 and parameters: {'lambda': 0.09999999999999999, 'alpha': 10.0, 'colsample_bytree': 1.0, 'subsample': 0.8, 'learning_rate': 0.027825594022071243, 'n_estimators': 1000, 'max_depth': 18, 'random_state': 42, 'min_child_weight': 240}. Best is trial 13 with value: 0.9031793896365663.\n",
      "[I 2023-10-18 09:07:23,889] Trial 14 finished with value: 0.9087882811905199 and parameters: {'lambda': 0.09999999999999999, 'alpha': 0.2782559402207124, 'colsample_bytree': 1.0, 'subsample': 0.8, 'learning_rate': 0.027825594022071243, 'n_estimators': 1000, 'max_depth': 18, 'random_state': 42, 'min_child_weight': 180}. Best is trial 13 with value: 0.9031793896365663.\n",
      "[I 2023-10-18 09:09:01,195] Trial 15 finished with value: 0.9087882811905199 and parameters: {'lambda': 0.09999999999999999, 'alpha': 0.2782559402207124, 'colsample_bytree': 1.0, 'subsample': 0.8, 'learning_rate': 0.027825594022071243, 'n_estimators': 1000, 'max_depth': 18, 'random_state': 42, 'min_child_weight': 180}. Best is trial 13 with value: 0.9031793896365663.\n",
      "[I 2023-10-18 09:10:58,434] Trial 16 finished with value: 0.8849634732833043 and parameters: {'lambda': 0.09999999999999999, 'alpha': 0.2782559402207124, 'colsample_bytree': 1.0, 'subsample': 0.8, 'learning_rate': 0.01, 'n_estimators': 1000, 'max_depth': 18, 'random_state': 42, 'min_child_weight': 150}. Best is trial 16 with value: 0.8849634732833043.\n",
      "[I 2023-10-18 09:12:45,986] Trial 17 finished with value: 0.8934515691965939 and parameters: {'lambda': 0.09999999999999999, 'alpha': 5.994842503189409, 'colsample_bytree': 1.0, 'subsample': 0.8, 'learning_rate': 0.01, 'n_estimators': 1000, 'max_depth': 18, 'random_state': 42, 'min_child_weight': 150}. Best is trial 16 with value: 0.8849634732833043.\n",
      "[I 2023-10-18 09:14:30,452] Trial 18 finished with value: 0.8936456288534084 and parameters: {'lambda': 0.46415888336127786, 'alpha': 5.994842503189409, 'colsample_bytree': 1.0, 'subsample': 0.8, 'learning_rate': 0.01, 'n_estimators': 1000, 'max_depth': 18, 'random_state': 42, 'min_child_weight': 150}. Best is trial 16 with value: 0.8849634732833043.\n",
      "[I 2023-10-18 09:16:05,547] Trial 19 finished with value: 1.0463087135605806 and parameters: {'lambda': 0.2782559402207124, 'alpha': 5.994842503189409, 'colsample_bytree': 0.6, 'subsample': 1.0, 'learning_rate': 0.01, 'n_estimators': 1000, 'max_depth': 18, 'random_state': 42, 'min_child_weight': 150}. Best is trial 16 with value: 0.8849634732833043.\n",
      "[I 2023-10-18 09:17:46,186] Trial 20 finished with value: 0.8934515691965939 and parameters: {'lambda': 0.09999999999999999, 'alpha': 5.994842503189409, 'colsample_bytree': 1.0, 'subsample': 0.8, 'learning_rate': 0.01, 'n_estimators': 1000, 'max_depth': 18, 'random_state': 42, 'min_child_weight': 150}. Best is trial 16 with value: 0.8849634732833043.\n",
      "[I 2023-10-18 09:19:27,883] Trial 21 finished with value: 0.8934515691965939 and parameters: {'lambda': 0.09999999999999999, 'alpha': 5.994842503189409, 'colsample_bytree': 1.0, 'subsample': 0.8, 'learning_rate': 0.01, 'n_estimators': 1000, 'max_depth': 18, 'random_state': 42, 'min_child_weight': 150}. Best is trial 16 with value: 0.8849634732833043.\n",
      "[I 2023-10-18 09:21:21,489] Trial 22 finished with value: 1.0731774942516785 and parameters: {'lambda': 0.09999999999999999, 'alpha': 5.994842503189409, 'colsample_bytree': 1.0, 'subsample': 0.8, 'learning_rate': 0.3593813663804626, 'n_estimators': 1000, 'max_depth': 18, 'random_state': 42, 'min_child_weight': 150}. Best is trial 16 with value: 0.8849634732833043.\n",
      "[I 2023-10-18 09:23:07,587] Trial 23 finished with value: 1.0079475056741471 and parameters: {'lambda': 0.09999999999999999, 'alpha': 0.2782559402207124, 'colsample_bytree': 1.0, 'subsample': 0.8, 'learning_rate': 0.1291549665014884, 'n_estimators': 1000, 'max_depth': 18, 'random_state': 42, 'min_child_weight': 150}. Best is trial 16 with value: 0.8849634732833043.\n",
      "[I 2023-10-18 09:24:51,958] Trial 24 finished with value: 0.8934515691965939 and parameters: {'lambda': 0.09999999999999999, 'alpha': 5.994842503189409, 'colsample_bytree': 1.0, 'subsample': 0.8, 'learning_rate': 0.01, 'n_estimators': 1000, 'max_depth': 18, 'random_state': 42, 'min_child_weight': 150}. Best is trial 16 with value: 0.8849634732833043.\n",
      "[I 2023-10-18 09:26:47,447] Trial 25 finished with value: 0.8903908646298034 and parameters: {'lambda': 10.0, 'alpha': 0.7742636826811269, 'colsample_bytree': 1.0, 'subsample': 0.8, 'learning_rate': 0.01, 'n_estimators': 1000, 'max_depth': 18, 'random_state': 42, 'min_child_weight': 150}. Best is trial 16 with value: 0.8849634732833043.\n",
      "[I 2023-10-18 09:29:06,544] Trial 26 finished with value: 0.8949105563529421 and parameters: {'lambda': 10.0, 'alpha': 0.7742636826811269, 'colsample_bytree': 1.0, 'subsample': 1.0, 'learning_rate': 0.01, 'n_estimators': 1000, 'max_depth': 18, 'random_state': 42, 'min_child_weight': 90}. Best is trial 16 with value: 0.8849634732833043.\n",
      "[I 2023-10-18 09:31:29,577] Trial 27 finished with value: 1.0679715620777048 and parameters: {'lambda': 10.0, 'alpha': 0.7742636826811269, 'colsample_bytree': 0.6, 'subsample': 0.8, 'learning_rate': 0.01, 'n_estimators': 1000, 'max_depth': 18, 'random_state': 42, 'min_child_weight': 30}. Best is trial 16 with value: 0.8849634732833043.\n",
      "[I 2023-10-18 09:32:55,251] Trial 28 finished with value: 1.1490314755346334 and parameters: {'lambda': 0.46415888336127786, 'alpha': 0.46415888336127786, 'colsample_bytree': 0.4, 'subsample': 0.8, 'learning_rate': 0.01668100537200059, 'n_estimators': 1000, 'max_depth': 18, 'random_state': 42, 'min_child_weight': 120}. Best is trial 16 with value: 0.8849634732833043.\n",
      "[I 2023-10-18 09:34:37,738] Trial 29 finished with value: 0.9757442734366081 and parameters: {'lambda': 1.2915496650148839, 'alpha': 3.5938136638046254, 'colsample_bytree': 0.8, 'subsample': 0.8, 'learning_rate': 0.0774263682681127, 'n_estimators': 1000, 'max_depth': 18, 'random_state': 42, 'min_child_weight': 300}. Best is trial 16 with value: 0.8849634732833043.\n"
     ]
    }
   ],
   "source": [
    "study = optuna.create_study(direction='minimize')\n",
    "study.optimize(objective, n_trials=1000)\n",
    "print('Number of finished trials:', len(study.trials))\n",
    "print('Best trial:', study.best_trial.params)"
   ]
  },
  {
   "cell_type": "code",
   "execution_count": null,
   "metadata": {},
   "outputs": [],
   "source": []
  }
 ],
 "metadata": {
  "kernelspec": {
   "display_name": "Python 3 (ipykernel)",
   "language": "python",
   "name": "python3"
  },
  "language_info": {
   "codemirror_mode": {
    "name": "ipython",
    "version": 3
   },
   "file_extension": ".py",
   "mimetype": "text/x-python",
   "name": "python",
   "nbconvert_exporter": "python",
   "pygments_lexer": "ipython3",
   "version": "3.10.4"
  }
 },
 "nbformat": 4,
 "nbformat_minor": 1
}
